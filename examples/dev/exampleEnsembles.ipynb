{
 "cells": [
  {
   "cell_type": "markdown",
   "metadata": {},
   "source": [
    "# Ensembles - RE"
   ]
  },
  {
   "cell_type": "code",
   "execution_count": null,
   "metadata": {},
   "outputs": [],
   "source": [
    "import os, sys\n",
    "path = os.getcwd()+\"/../..\"\n",
    "sys.path.append(path)    #give here the path to the folder containing the package,default does not work!!\n",
    "print(os.getcwd())\n",
    "\n",
    "import numpy as np\n",
    "import matplotlib.pyplot as plt\n",
    "\n",
    "params ={\"figure.facecolor\": \"w\",\n",
    "         \"font.size\": 14}\n",
    "plt.rcParams.update(params)\n",
    "\n",
    "%matplotlib inline\n",
    "\n",
    "#Ensembler\n",
    "from ensembler.samplers.newtonian import positionVerletIntegrator\n",
    "from ensembler.potentials.OneD import harmonicOscillatorPotential, envelopedPotential\n",
    "#from ensembler.integrator.newtonian import positionVerletIntegrator\n",
    "from ensembler.system.basic_system import system as basic_system"
   ]
  },
  {
   "cell_type": "markdown",
   "metadata": {},
   "source": [
    "# Simulated Tempering\n",
    "\n",
    "Sugita, Okinamura?"
   ]
  },
  {
   "cell_type": "markdown",
   "metadata": {},
   "source": [
    "## Basic Definitions"
   ]
  },
  {
   "cell_type": "code",
   "execution_count": null,
   "metadata": {},
   "outputs": [],
   "source": [
    "#Potential:\n",
    "potential = harmonicOscillatorPotential()\n",
    "#Integrator\n",
    "integrator =positionVerletIntegrator()# langevinIntegrator()\n",
    "\n",
    "system = basic_system(sampler=integrator, potential=potential, start_position=5)\n",
    "\n",
    "#Ensemble\n",
    "from ensembler.ensemble import replica_exchange\n",
    "\n",
    "trials = 10\n",
    "steps_between_trials = 50\n",
    "temperature_range = np.linspace(298, 550, 4)\n",
    "\n",
    "simulated_tempering = replica_exchange.temperatureReplicaExchange(system=system, temperature_Range=temperature_range, steps_between_trials=steps_between_trials)\n",
    "simulated_tempering.replicas"
   ]
  },
  {
   "cell_type": "code",
   "execution_count": null,
   "metadata": {},
   "outputs": [],
   "source": [
    "simulated_tempering.get_replicas_current_states()"
   ]
  },
  {
   "cell_type": "code",
   "execution_count": null,
   "metadata": {},
   "outputs": [],
   "source": [
    "reps = simulated_tempering.replicas\n",
    "\n",
    "for repID, replica in reps.items():\n",
    "    print(repID)\n",
    "    replica.simulate(100, withdrawTraj=True)\n",
    "print(vars(replica))"
   ]
  },
  {
   "cell_type": "code",
   "execution_count": null,
   "metadata": {},
   "outputs": [],
   "source": [
    "trajs = simulated_tempering.get_trajectories()\n",
    "\n",
    "positions = np.linspace(-10,10)\n",
    "fig, axes = plt.subplots(ncols=len(trajs), figsize=[16,9])\n",
    "\n",
    "for traj, ax in zip(trajs, axes):\n",
    "    ax.plot(positions, simulated_tempering.replicas[traj].potential.ene(positions), c=\"grey\")\n",
    "    ax.scatter(trajs[traj].position, trajs[traj].totPotEnergy)\n",
    "    min_e = min(trajs[traj].totEnergy)\n",
    "    #ax.set_ylim([min_e,min_e+10])\n",
    "    ax.set_title(\"replica\"+str(traj))\n",
    "\n",
    "trajs[3].head()\n",
    "trajs = simulated_tempering.get_trajectories()\n",
    "\n",
    "positions = np.linspace(-10,10)\n",
    "fig, axes = plt.subplots(ncols=len(trajs), figsize=[16,9])\n",
    "\n",
    "for traj, ax in zip(trajs, axes):\n",
    "    ax.plot(positions, simulated_tempering.replicas[traj].potential.ene(positions), c=\"grey\")\n",
    "    ax.scatter(trajs[traj].position, trajs[traj].totPotEnergy)\n",
    "    min_e = min(trajs[traj].totEnergy)\n",
    "    #ax.set_ylim([min_e,min_e+10])\n",
    "    ax.set_title(\"replica\"+str(traj))\n",
    "\n",
    "trajs[2].head()\n"
   ]
  },
  {
   "cell_type": "code",
   "execution_count": null,
   "metadata": {},
   "outputs": [],
   "source": [
    "simulated_tempering.simulate(trials, reset_ensemble=True)\n",
    "#ensemble.exchange_information"
   ]
  },
  {
   "cell_type": "code",
   "execution_count": null,
   "metadata": {},
   "outputs": [],
   "source": [
    "trajs = simulated_tempering.get_trajectories()\n",
    "\n",
    "positions = np.linspace(-10,10)\n",
    "fig, axes = plt.subplots(ncols=len(trajs), figsize=[16,9])\n",
    "\n",
    "for traj, ax in zip(trajs, axes):\n",
    "    ax.plot(positions, simulated_tempering.replicas[traj].potential.ene(positions), c=\"grey\")\n",
    "    ax.scatter(trajs[traj].position, trajs[traj].totPotEnergy)\n",
    "    min_e = min(trajs[traj].totEnergy)\n",
    "    #ax.set_ylim([min_e,min_e+10])\n",
    "    ax.set_title(\"replica\"+str(traj))\n",
    "\n",
    "trajs[3].head()\n"
   ]
  },
  {
   "cell_type": "code",
   "execution_count": null,
   "metadata": {},
   "outputs": [],
   "source": [
    "trajs[3].head()\n"
   ]
  },
  {
   "cell_type": "code",
   "execution_count": null,
   "metadata": {},
   "outputs": [],
   "source": [
    "simulated_tempering.replicas[0]"
   ]
  },
  {
   "cell_type": "code",
   "execution_count": null,
   "metadata": {},
   "outputs": [],
   "source": [
    "simulated_tempering.exchange_information"
   ]
  },
  {
   "cell_type": "markdown",
   "metadata": {},
   "source": [
    "# Visualisation"
   ]
  },
  {
   "cell_type": "code",
   "execution_count": null,
   "metadata": {},
   "outputs": [],
   "source": [
    "trajs = simulated_tempering.get_trajectories()\n",
    "\n",
    "positions = np.linspace(-10,10)\n",
    "fig, axes = plt.subplots(ncols=len(trajs), figsize=[16,9])\n",
    "\n",
    "for traj, ax in zip(trajs, axes):\n",
    "    ax.plot(positions, simulated_tempering.replicas[traj].potential.ene(positions), c=\"grey\")\n",
    "    ax.scatter(trajs[traj].position, trajs[traj].totPotEnergy)\n",
    "    min_e = min(trajs[traj].totEnergy)\n",
    "    #ax.set_ylim([min_e,min_e+5])\n",
    "    ax.set_title(\"replica\"+str(traj))\n"
   ]
  },
  {
   "cell_type": "code",
   "execution_count": null,
   "metadata": {},
   "outputs": [],
   "source": [
    "trajs = simulated_tempering.get_trajectories()\n",
    "\n",
    "positions = np.linspace(-10,10)\n",
    "fig, axes = plt.subplots(ncols=len(trajs), figsize=[16,9], sharey=True)\n",
    "\n",
    "for traj, ax in zip(trajs, axes):\n",
    "    ax.boxplot(trajs[traj].totKinEnergy)\n",
    "    min_e = min(trajs[traj].totEnergy)\n",
    "    ax.set_title(\"replica\"+str(traj))\n"
   ]
  },
  {
   "cell_type": "code",
   "execution_count": null,
   "metadata": {},
   "outputs": [],
   "source": [
    "\n",
    "fig, ax = plt.subplots(ncols=1, figsize=[16,9])\n",
    "enes = [trajs[x].totPotEnergy\tfor x in sorted(trajs)] \n",
    "min_e = np.min(enes)\n",
    "max_e = np.max(enes)\n",
    "trials = 10\n",
    "for ind, ene in enumerate(enes):\n",
    "    ax.plot(ene, label=\"replica\"+str(ind))\n",
    "ax.vlines([steps_between_trials*x for x in range(trials)], ymin=min_e, ymax=max_e, label=\"exchange\", lw=0.1)\n",
    "ax.set_title(\"replica potE timeseries\")\n",
    "ax.set_ylim(1.1*min_e, 1.1*max_e)\n",
    "ax.legend()"
   ]
  },
  {
   "cell_type": "code",
   "execution_count": null,
   "metadata": {},
   "outputs": [],
   "source": [
    "stats= simulated_tempering.exchange_information\n",
    "replicas = np.unique(simulated_tempering.exchange_information.replicaID)\n",
    "trials = np.unique(simulated_tempering.exchange_information.nExchange)\n",
    "\n",
    "import itertools as it\n",
    "\n",
    "fig, ax = plt.subplots(ncols=1, figsize=[16,9])\n",
    "\n",
    "replica_positions = {}\n",
    "for replica in replicas:\n",
    "    replica_positions.update({replica: stats.loc[stats.replicaID==replica].replicaPositionI})\n",
    "\n",
    "    x = trials\n",
    "    y = replica_positions[replica]\n",
    "\n",
    "    ax.plot(x,y , label=\"replica_\"+str(replica))\n",
    "\n",
    "#plt.yticks(replicas+1, reversed(replicas+1))\n",
    "ax.set_yticks(ticks=replicas)\n",
    "ax.set_yticklabels(labels=replicas)\n",
    "\n",
    "ax.set_ylabel(\"replica Positions\")\n",
    "ax.set_xlabel(\"trials\")\n",
    "ax.set_title(\"Replica exchange transitions\")\n",
    "if(len(replicas)<10): plt.legend()"
   ]
  },
  {
   "cell_type": "markdown",
   "metadata": {},
   "source": [
    "# Hamiltonian Replica Exchange"
   ]
  },
  {
   "cell_type": "markdown",
   "metadata": {},
   "source": [
    "## RE-EDS\n",
    "\n",
    "Replica Exchange - Enveloping Distribution Sampling (RE-EDS) is a combined Method, that efficiently can calculate free energy differences between mutliple end-states"
   ]
  },
  {
   "cell_type": "code",
   "execution_count": null,
   "metadata": {},
   "outputs": [],
   "source": [
    "import os, sys\n",
    "path = os.getcwd()+\"/../..\"\n",
    "sys.path.append(path)    #give here the path to the folder containing the package,default does not work!!\n",
    "print(os.getcwd())\n",
    "\n",
    "import numpy as np\n",
    "import matplotlib.pyplot as plt\n",
    "\n",
    "params ={\"figure.facecolor\": \"w\",\n",
    "         \"font.size\": 14}\n",
    "plt.rcParams.update(params)\n",
    "\n",
    "%matplotlib inline\n",
    "\n",
    "#Ensembler\n",
    "from ensembler.potentials.OneD import harmonicOscillator, envelopedPotential as envelopedPotential\n",
    "from ensembler.integrator.newtonian import positionVerletIntegrator\n",
    "from ensembler.integrator.stochastic import metropolisMonteCarloIntegrator\n",
    "from ensembler.system.basic_system import system as systems\n",
    "from ensembler.system.eds_system import edsSystem"
   ]
  },
  {
   "cell_type": "code",
   "execution_count": null,
   "metadata": {},
   "outputs": [],
   "source": [
    "#BUILD\n",
    "##Ensemble Settings:\n",
    "s_values = np.logspace(start=0, stop=-0.5, num=4)\n",
    "trials=20\n",
    "steps_between_trials=10#0\n",
    "\n",
    "##Potential:\n",
    "pot_diff= 0\n",
    "space_shift=4\n",
    "k1 = k2 = 1\n",
    "potentialA = harmonicOscillator(k=k1)\n",
    "potentialB = harmonicOscillator(k=k2, x_shift=space_shift, y_shift=pot_diff)\n",
    "potential = envelopedPotential(V_is=[potentialA, potentialB])\n",
    "\n",
    "###plot Potential\n",
    "pos = np.linspace(-10,10,100)\n",
    "for s in s_values:\n",
    "    potential.s=s\n",
    "    ene = potential.ene(pos)\n",
    "    plt.plot(pos, ene)\n",
    "plt.ylim([min(ene), min(ene)+10])\n",
    "###plot Potential\n",
    "pos = np.linspace(-10,10,100)\n",
    "for s in s_values:\n",
    "    potential.s=s\n",
    "    ene = potential.ene(pos)\n",
    "    plt.plot(pos, ene)\n",
    "plt.ylim([min(ene), min(ene)+10])\n",
    "\n",
    "\n",
    "##Integrator\n",
    "integrator = metropolisMonteCarloIntegrator(randomnessIncreaseFactor=1)\n",
    "\n",
    "##System\n",
    "eds_system = edsSystem(integrator=integrator, potential=potential, position=5)\n",
    "\n",
    "\n",
    "##Ensemble\n",
    "from ensembler.ensemble import replica_exchange\n",
    "ensemble = replica_exchange.ReplicaExchangeEnvelopingDistributionSampling(system=eds_system, exchange_criterium=None, s_range=s_values, steps_between_trials=steps_between_trials)\n",
    "\n",
    "[replica.s for repID, replica in ensemble.replicas.items()]"
   ]
  },
  {
   "cell_type": "code",
   "execution_count": null,
   "metadata": {},
   "outputs": [],
   "source": [
    "reps = ensemble.replicas\n",
    "\n",
    "for repID, replica in reps.items():\n",
    "    print(repID)\n",
    "    replica.simulate(1000, withdrawTraj=True)\n",
    "    "
   ]
  },
  {
   "cell_type": "code",
   "execution_count": null,
   "metadata": {},
   "outputs": [],
   "source": [
    "trajs = ensemble.get_trajectories()\n",
    "\n",
    "positions = np.linspace(-10,10)\n",
    "fig, axes = plt.subplots(ncols=len(trajs), figsize=[16,9])\n",
    "\n",
    "for traj, ax in zip(trajs, axes):\n",
    "    ax.plot(positions, ensemble.replicas[traj].potential.ene(positions), c=\"grey\")\n",
    "    ax.scatter(trajs[traj].position, trajs[traj].totEnergy)\n",
    "    min_e = min(trajs[traj].totEnergy)\n",
    "    ax.set_ylim([min_e,min_e+10])\n",
    "    ax.set_title(\"replica\"+str(traj))\n"
   ]
  },
  {
   "cell_type": "code",
   "execution_count": null,
   "metadata": {},
   "outputs": [],
   "source": [
    "ensemble.simulate(trials, reset_ensemble=True)"
   ]
  },
  {
   "cell_type": "code",
   "execution_count": null,
   "metadata": {},
   "outputs": [],
   "source": [
    "trajs = ensemble.get_trajectories()\n",
    "equilib = 10\n",
    "positions = np.linspace(-10,10)\n",
    "fig, axes = plt.subplots(ncols=len(trajs), figsize=[16,9])\n",
    "\n",
    "for traj, ax in zip(trajs, axes):\n",
    "    ax.plot(positions, ensemble.replicas[traj].potential.ene(positions), c=\"grey\")\n",
    "    ax.scatter(trajs[traj].position[equilib:], trajs[traj].totEnergy[equilib:])\n",
    "    min_e = min(trajs[traj].totEnergy)\n",
    "    ax.set_ylim([min_e,min_e+10])\n",
    "    ax.set_title(\"replica\"+str(traj))\n"
   ]
  },
  {
   "cell_type": "code",
   "execution_count": null,
   "metadata": {},
   "outputs": [],
   "source": [
    "plt.figure(figsize=[16,9])\n",
    "plt.plot(trajs[0].position[equilib:])\n",
    "plt.plot(trajs[1].position[equilib:])\n",
    "plt.plot(trajs[2].position[equilib:])\n",
    "\n",
    "plt.vlines([steps_between_trials*x for x in range(20)], ymin=8, ymax=-10, label=\"exchange\", lw=0.1)\n",
    "plt.hlines(5, xmin=0,xmax=250, lw=0.5, color=\"C5\", zorder=-1)\n",
    "plt.hlines(0, xmin=0,xmax=250, lw=0.5, color=\"C5\", zorder=-1)\n",
    "\n",
    "plt.title(\"Positions\")\n",
    "plt.ylabel(\"positions\")\n",
    "plt.xlabel(\"time\")\n",
    "\n",
    "pass"
   ]
  },
  {
   "cell_type": "code",
   "execution_count": null,
   "metadata": {},
   "outputs": [],
   "source": [
    "trials=20\n",
    "\n",
    "fig, ax = plt.subplots(ncols=1, figsize=[16,9])\n",
    "enes = [trajs[x].totEnergy for x in sorted(trajs)] \n",
    "min_e = np.min(enes)\n",
    "max_e = np.max(enes)\n",
    "\n",
    "ax.vlines([steps_between_trials*x for x in range(trials)], ymin=1.1*min_e, ymax=1.1*max_e, label=\"exchange\", lw=0.1)\n",
    "\n",
    "for ind, ene in enumerate(enes):\n",
    "    ax.plot(ene, label=\"replica\"+str(ind))\n",
    "ax.set_title(\"replica potE timeseries\")\n",
    "ax.set_ylim(1.1*min_e, 1.1*max_e)\n",
    "ax.legend()"
   ]
  },
  {
   "cell_type": "code",
   "execution_count": null,
   "metadata": {},
   "outputs": [],
   "source": [
    "stats= ensemble.exchange_information\n",
    "replicas = np.unique(ensemble.exchange_information.replicaID)\n",
    "trials = np.unique(ensemble.exchange_information.nExchange)\n",
    "\n",
    "import itertools as it\n",
    "\n",
    "fig, ax = plt.subplots(ncols=1, figsize=[16,9])\n",
    "\n",
    "replica_positions = {}\n",
    "for replica in replicas:\n",
    "    replica_positions.update({replica: stats.loc[stats.replicaID==replica].replicaPositionI})\n",
    "\n",
    "    x = trials\n",
    "    y = replica_positions[replica]\n",
    "\n",
    "    ax.plot(x,y , label=\"replica_\"+str(replica))\n",
    "\n",
    "#plt.yticks(replicas+1, reversed(replicas+1))\n",
    "print(replicas)\n",
    "ax.set_yticks(ticks=replicas)\n",
    "ax.set_yticklabels(labels=replicas)\n",
    "\n",
    "ax.set_ylabel(\"replica Positions\")\n",
    "ax.set_xlabel(\"trials\")\n",
    "ax.set_title(\"Replica exchange transitions\")\n",
    "if(len(replicas)<10): plt.legend()"
   ]
  },
  {
   "cell_type": "code",
   "execution_count": null,
   "metadata": {},
   "outputs": [],
   "source": []
  }
 ],
 "metadata": {
  "language_info": {
   "name": "python"
  }
 },
 "nbformat": 4,
 "nbformat_minor": 4
}

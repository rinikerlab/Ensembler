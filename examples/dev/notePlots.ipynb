{
 "cells": [
  {
   "cell_type": "code",
   "execution_count": null,
   "metadata": {},
   "outputs": [],
   "source": [
    "##System Path\n",
    "import os, sys, numpy as np\n",
    "root = os.getcwd()\n",
    "path =root+\"/../../\"\n",
    "img_dir = root+\"/img\"\n",
    "sys.path.append(path)\n",
    "\n",
    "if(not os.path.exists(img_dir)):\n",
    "    os.mkdir(img_dir)\n",
    "img_dir\n"
   ]
  },
  {
   "cell_type": "markdown",
   "metadata": {},
   "source": [
    "# Basic Examples\n",
    "## Potential"
   ]
  },
  {
   "cell_type": "code",
   "execution_count": null,
   "metadata": {},
   "outputs": [],
   "source": [
    "#Four Well Potential\n",
    "##Imports\n",
    "import numpy as np\n",
    "from ensembler.potentials.OneD import fourWellPotential\n",
    "from ensembler.visualisation.plotPotentials import plot_potential\n",
    "\n",
    "##Build potential\n",
    "V = fourWellPotential(Vmax=4, a=1.5, b=4.0, c=7.0, d=9.0,  ah=2., bh=0., ch=0.5, dh=1.)\n",
    "\n",
    "##Visualize\n",
    "positions = np.linspace(start=0, stop=11, num=1000) #phase space to be visualized\n",
    "fig, outpath = plot_potential(potential=V, positions=positions, title=\"Four Well Potential\")"
   ]
  },
  {
   "cell_type": "code",
   "execution_count": null,
   "metadata": {},
   "outputs": [],
   "source": [
    "fig, outpath = plot_potential(potential=V, positions=positions, title=\"Four Well Potential\", out_path=img_dir+\"/four_well.pdf\")\n"
   ]
  },
  {
   "cell_type": "code",
   "execution_count": null,
   "metadata": {},
   "outputs": [],
   "source": [
    "#Langevin integration simulation:\n",
    "##Imports\n",
    "from ensembler.potentials.OneD import fourWellPotential\n",
    "from ensembler.samplers.stochastic import langevinIntegrator\n",
    "from ensembler.system import system\n",
    "from ensembler.visualisation.plotSimulations import simulation_analysis_plot\n",
    "\n",
    "##Simulation Setup\n",
    "V = fourWellPotential(Vmax=4, a=1.5, b=4.0, c=7.0, d=9.0,  ah=2., bh=0., ch=0.5, dh=1.)\n",
    "\n",
    "sampler = langevinIntegrator(dt=0.1, gamma=10)\n",
    "\n",
    "system1 = system(potential=V, sampler=sampler,  start_position=4,  temperature=1)\n",
    "\n",
    "##Simulate\n",
    "cur_state = system1.simulate(steps=1000)\n",
    "\n",
    "##Visualize\n",
    "positions = np.linspace(start=0, stop=10, num=1000) #phase space to be visualized\n",
    "fig, out_path = simulation_analysis_plot(system=system1, title=\"Langevin Simulation\", limits_coordinate_space=positions)\n",
    "\n"
   ]
  },
  {
   "cell_type": "code",
   "execution_count": null,
   "metadata": {},
   "outputs": [],
   "source": [
    "\n",
    "fig, out_pSath = simulation_analysis_plot(system1, title=\"Langevin Simulation\", limits_coordinate_space=positions, out_path=img_dir+\"/langevin_simulation.png\")\n",
    "\n"
   ]
  },
  {
   "cell_type": "code",
   "execution_count": null,
   "metadata": {},
   "outputs": [],
   "source": [
    "#Local elevation/metadynamics simulation:\n",
    "##Imports\n",
    "from ensembler.potentials.OneD import fourWellPotential, metadynamicsPotential\n",
    "from ensembler.samplers.stochastic import langevinIntegrator\n",
    "from ensembler.system import system\n",
    "from ensembler.visualisation.plotSimulations import simulation_analysis_plot\n",
    "\n",
    "##Simulation Setup\n",
    "origpot = fourWellPotential(Vmax=4, a=1.5, b=4.0, c=7.0, d=9.0,  ah=2., bh=0., ch=0.5, dh=1.)\n",
    "V = metadynamicsPotential(origpot, amplitude=0.35, sigma=0.5, n_trigger=15)\n",
    "sampler = langevinIntegrator(dt=0.1, gamma=10, old_position=3)\n",
    "\n",
    "system2=system(potential=V, sampler=sampler, start_position=4, temperature=1)\n",
    "\n",
    "##Simulate\n",
    "cur_state = system2.simulate(steps=1000,withdraw_traj=True, init_system=True)\n",
    "\n",
    "##Visualize\n",
    "positions = np.linspace(start=0, stop=10, num=1000) #phase space to be visualized\n",
    "fig, out_path = simulation_analysis_plot(system=system2, title=\"Local Elevation/Metadynamics Simulation\", limits_coordinate_space=positions)\n"
   ]
  },
  {
   "cell_type": "raw",
   "metadata": {
    "pycharm": {
     "name": "#%% raw\n"
    }
   },
   "source": [
    "##visualize\n",
    "fig, out_path = simulation_analysis_plot(system2, title=\"Local Elevation/ Metadynamics\", limits_coordinate_space=positions, out_path=img_dir+\"/metaDynamics_simulation.pdf\")\n"
   ]
  },
  {
   "cell_type": "code",
   "execution_count": null,
   "metadata": {},
   "outputs": [],
   "source": []
  }
 ],
 "metadata": {
  "language_info": {
   "name": "python"
  }
 },
 "nbformat": 4,
 "nbformat_minor": 2
}

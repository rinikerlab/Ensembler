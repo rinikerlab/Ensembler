{
 "cells": [
  {
   "cell_type": "code",
   "execution_count": null,
   "metadata": {},
   "outputs": [],
   "source": [
    "import os, sys\n",
    "print(os.getcwd())\n",
    "path = os.getcwd()+\"/..\"\n",
    "sys.path.append(path)\n",
    "\n",
    "#imports\n",
    "import numpy as np\n",
    "\n",
    "#from scipy import constants as const\n",
    "from matplotlib import pyplot as plt\n",
    "\n",
    "##Ensembler\n",
    "from ensembler.freeEnergyCalculation import zwanzigEquation, threeStateZwanzigReweighting, bennetAcceptanceRatio\n",
    "\n",
    "#from ensembler.potentials import OneD as pot\n",
    "#from ensembler.visualisation.plotSimulations import static_sim_plots\n"
   ]
  },
  {
   "cell_type": "markdown",
   "metadata": {},
   "source": [
    "# Testing Zwanzig"
   ]
  },
  {
   "cell_type": "code",
   "execution_count": null,
   "metadata": {},
   "outputs": [],
   "source": [
    "#Parameters\n",
    "\n",
    "samples = 10000\n",
    "\n",
    "#Ensemble Params\n",
    "V1_min = 1\n",
    "V2_min = 2\n",
    "\n",
    "V1_noise = 0.1\n",
    "V2_noise = 0.1\n",
    "\n",
    "\n",
    "V1 = np.random.normal(V1_min, V1_noise, samples)\n",
    "V2 = np.random.normal(V2_min, V2_noise, samples)\n",
    "\n",
    "plt.hist(V1, alpha=0.5, density=True)\n",
    "plt.hist(V2, alpha=0.5, density=True)\n",
    "\n",
    "pass\n"
   ]
  },
  {
   "cell_type": "code",
   "execution_count": null,
   "metadata": {},
   "outputs": [],
   "source": [
    "zwanz = zwanzigEquation(kT=True)\n",
    "\n",
    "dF_ana = V2_min - V1_min\n",
    "dF_zwanzig = zwanz.calculate(Vi=V1, Vj=V2)\n",
    "\n",
    "print(\"Expected Result: \", dF_ana)\n",
    "print(\"Zwanzig Result: \", dF_zwanzig)\n",
    "print()\n",
    "print(\"Difference:\", dF_zwanzig - dF_ana)"
   ]
  },
  {
   "cell_type": "markdown",
   "metadata": {},
   "source": [
    "# EDS - Zwanzig Reweigting:"
   ]
  },
  {
   "cell_type": "code",
   "execution_count": null,
   "metadata": {},
   "outputs": [],
   "source": [
    "\n",
    "#Sampling:\n",
    "sample_state1 = 10000\n",
    "sample_state2 = 10000\n",
    "\n",
    "# State 1 description\n",
    "state_1 = 1\n",
    "state_1_noise = 0.1\n",
    "\n",
    "# State 2 description\n",
    "state_2 = 2\n",
    "state_2_noise = 0.1\n",
    "\n",
    "#OffSampling\n",
    "energy_off_state = 10\n",
    "noise_off_state = 0.3\n",
    "\n",
    "V1 = np.concatenate([np.random.normal(state_1, state_1_noise, sample_state1), \n",
    "                np.random.normal(energy_off_state, noise_off_state, sample_state2)])\n",
    "V2 = np.concatenate([np.random.normal(energy_off_state, noise_off_state, sample_state1), \n",
    "                    np.random.normal(state_2, state_2_noise, sample_state2)])\n",
    "Vr = np.concatenate([np.random.normal(state_1, state_1_noise, sample_state1),\n",
    "                    np.random.normal(state_2, state_2_noise, sample_state2)])\n",
    "\n",
    "plt.hist(V1, alpha=0.7, bins=100, density=True, label=\"V1\")\n",
    "plt.hist(V2, alpha=0.7, bins=100, density=True, label=\"V2\")\n",
    "plt.hist(Vr, alpha=0.5, bins=100, density=True, label=\"Vr\")\n",
    "plt.legend()\n",
    "pass\n"
   ]
  },
  {
   "cell_type": "code",
   "execution_count": null,
   "metadata": {},
   "outputs": [],
   "source": [
    "\n",
    "rew_zwanz = threeStateZwanzigReweighting(kT=True)\n",
    "\n",
    "dF_ana = V1_min-V2_min\n",
    "dFRew_zwanz = rew_zwanz.calculate(Vi=V1, Vj=V2, Vr=Vr)\n",
    "\n",
    "print()\n",
    "print(\"Expected Result: \", dF_ana)\n",
    "print(\"dF_Calc Result: \", dFRew_zwanz)\n",
    "print()\n",
    "print(\"Difference:\", dFRew_zwanz - dF_ana)"
   ]
  },
  {
   "cell_type": "markdown",
   "metadata": {},
   "source": [
    "## Sample Randomness for EDS"
   ]
  },
  {
   "cell_type": "code",
   "execution_count": null,
   "metadata": {},
   "outputs": [],
   "source": [
    "#Asses Randomness\n",
    "\n",
    "dFs= []\n",
    "repetitions = 25\n",
    "rew_zwanz = threeStateZwanzigReweighting(kT=True)\n",
    "\n",
    "for x in range(repetitions):\n",
    "    V1 = np.concatenate([np.random.normal(state_1, state_1_noise, sample_state1), \n",
    "                    np.random.normal(energy_off_state, noise_off_state, sample_state2)])\n",
    "    V2 = np.concatenate([np.random.normal(energy_off_state, noise_off_state, sample_state1), \n",
    "                        np.random.normal(state_2, state_2_noise, sample_state2)])\n",
    "    Vr = np.concatenate([np.random.normal(state_1, state_1_noise, sample_state1),\n",
    "                        np.random.normal(state_2, state_2_noise, sample_state2)])\n",
    "\n",
    "    dF = rew_zwanz.calculate(V1, V2, Vr)   \n",
    "    dFs.append(dF)\n",
    "\n",
    "np.mean(dFs), np.std(dFs)\n",
    "b = plt.boxplot(dFs)\n",
    "plt.text(b[\"medians\"][0]._x[1]*1.05, b[\"medians\"][0]._y[0], np.round(b[\"medians\"][0]._y[0],4))\n",
    "pass"
   ]
  },
  {
   "cell_type": "markdown",
   "metadata": {},
   "source": [
    "# Testing BAR"
   ]
  },
  {
   "cell_type": "code",
   "execution_count": null,
   "metadata": {},
   "outputs": [],
   "source": [
    "#simulate Bar conditions\n",
    "samples = 10000\n",
    "\n",
    "#ensemble 1\n",
    "V1_min = 1\n",
    "V1_noise_1 = 0.5\n",
    "\n",
    "V2_off = 4.5\n",
    "V2_noise_1 = 0.5\n",
    "\n",
    "#ensemble 1\n",
    "V1_off = 4.5\n",
    "V1_noise_2 = 0.5\n",
    "\n",
    "V2_min = 2\n",
    "V2_noise_2 = 0.5\n",
    "\n",
    "#Distributions\n",
    "V1_1 = np.random.normal(V1_min, V1_noise_1, samples)\n",
    "V2_1 = np.random.normal(V2_off, V2_noise_1, samples)\n",
    "\n",
    "V1_2 = np.random.normal(V1_off, V1_noise_2, samples)\n",
    "V2_2 = np.random.normal(V2_min, V2_noise_2, samples)\n",
    "\n",
    "#PlotData\n",
    "plt.hist(V1_1, alpha=0.5, density=True, label=\"V1_1\")\n",
    "plt.hist(V2_1, alpha=0.5, density=True, label=\"V2_1\")\n",
    "plt.hist(V1_2, alpha=0.5, density=True, label=\"V1_2\")\n",
    "plt.hist(V2_2, alpha=0.5, density=True, label=\"V2_2\")\n",
    "plt.legend()\n",
    "pass"
   ]
  },
  {
   "cell_type": "code",
   "execution_count": null,
   "metadata": {},
   "outputs": [],
   "source": [
    "bar = bennetAcceptanceRatio(kT=True)\n",
    "dF_bar = bar.calculate(Vi_i=V1_1, Vj_i=V2_1, Vi_j=V1_2, Vj_j=V2_2)\n",
    "\n",
    "dF_ana = V2_min - V1_min\n",
    "\n",
    "print()\n",
    "print(\"Expected Result: \", dF_ana)\n",
    "print(\"BAR Result: \", dF_bar)\n",
    "print()\n",
    "print(\"Difference:\", dF_bar - dF_ana)"
   ]
  },
  {
   "cell_type": "markdown",
   "metadata": {},
   "source": [
    "## Sample Randomness for EDS"
   ]
  },
  {
   "cell_type": "markdown",
   "metadata": {},
   "source": [
    "# NB BAR"
   ]
  },
  {
   "cell_type": "code",
   "execution_count": null,
   "metadata": {},
   "outputs": [],
   "source": []
  }
 ],
 "metadata": {
  "language_info": {
   "name": "python"
  }
 },
 "nbformat": 4,
 "nbformat_minor": 2
}

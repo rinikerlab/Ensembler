{
 "cells": [
  {
   "cell_type": "code",
   "execution_count": null,
   "metadata": {},
   "outputs": [],
   "source": [
    "import os, sys\n",
    "path = os.getcwd()+\"/..\"\n",
    "print(path)\n",
    "sys.path.append(path)    #give here the path to the folder containing the package,default does not work!!\n",
    "\n",
    "import numpy as np\n",
    "import matplotlib\n",
    "from matplotlib import pyplot as plt\n",
    "%matplotlib inline\n",
    "\n",
    "from  ensembler.system import system\n",
    "from  ensembler.potentials.OneD import harmonicOscillator\n",
    "from  ensembler.potentials.ND import envelopedPotential\n",
    "\n",
    "from  ensembler.integrator import monteCarloIntegrator, metropolisMonteCarloIntegrator, positionVerletIntegrator, velocityVerletIntegrator\n",
    "from  ensembler.conditions.thermostats import berendsenThermostate\n",
    "from  ensembler.visualisation.plotSimulations import static_sim_plots\n",
    "from  ensembler.visualisation.animationSimulation import animation_trajectory\n"
   ]
  },
  {
   "cell_type": "code",
   "execution_count": null,
   "metadata": {},
   "outputs": [],
   "source": [
    "from scipy.stats import maxwell, boltzmann\n",
    "from scipy import constants as const\n",
    "mean, var, skew, kurt = maxwell.stats(moments='mvsk')\n",
    "r = maxwell.rvs(loc=0, scale=5, size=1000)"
   ]
  },
  {
   "cell_type": "code",
   "execution_count": null,
   "metadata": {},
   "outputs": [],
   "source": [
    "plt.hist(r, bins=10)"
   ]
  },
  {
   "cell_type": "code",
   "execution_count": null,
   "metadata": {},
   "outputs": [],
   "source": [
    "r = boltzmann.rvs(298, const.Avogadro, size=1000) \n",
    "plt.hist(r, bins=100)"
   ]
  },
  {
   "cell_type": "markdown",
   "metadata": {},
   "source": [
    "# Plots of Simulations"
   ]
  },
  {
   "cell_type": "markdown",
   "metadata": {},
   "source": [
    "## Newtonian Integrator"
   ]
  },
  {
   "cell_type": "code",
   "execution_count": null,
   "metadata": {},
   "outputs": [],
   "source": [
    "#Simple Verlet integration simulation:\n",
    "#UNDER DEVELOPMENT!\n",
    "# The temperature is not constant!!!\n",
    "#settings\n",
    "sim_steps = 200\n",
    "pot=harmonicOscillator()\n",
    "thermo = berendsenThermostate(tau=3,dt=0.01)\n",
    "thermo.verbose = False\n",
    "integrator = positionVerletIntegrator(dt=0.01)#maxStepSize=max_step_size,\n",
    "sys=system(potential=pot, integrator=integrator, conditions=[thermo], position=-10)\n",
    "\n",
    "#simulate\n",
    "cur_state = sys.simulate(sim_steps, withdrawTraj=True, initSystem=True)\n",
    "\n",
    "print(sys.trajectory)\n",
    "#plot\n",
    "#static_sim_plots(sys, title=\"Thermostat\", x_range=list(range(-10,11)))"
   ]
  },
  {
   "cell_type": "code",
   "execution_count": null,
   "metadata": {},
   "outputs": [],
   "source": [
    "static_sim_plots(sys, title=\"Thermostat\", x_range=list(range(-10,11)))"
   ]
  },
  {
   "cell_type": "markdown",
   "metadata": {},
   "source": [
    "# Animations of Simulations"
   ]
  },
  {
   "cell_type": "code",
   "execution_count": null,
   "metadata": {},
   "outputs": [],
   "source": [
    "#Simple Verlet integration simulation:\n",
    "#UNDER DEVELOPMENT!The temperature is not constant!!!\n",
    "#settings\n",
    "sim_steps = 10\n",
    "x_min, x_max = (-10, 10)\n",
    "max_step_size = 2.0\n",
    "pot=harmonicOsc()\n",
    "#thermo = berendsenThermostate(tau=3, dt=1, MConstraintsDims=-1)\n",
    "#thermo.verbose = True\n",
    "integrator = positionVerletIntegrator(dt=1)#maxStepSize=max_step_size,\n",
    "integrator.verbose = True\n",
    "sys=system(potential=pot, integrator=integrator,  position=-10)\n",
    "\n",
    "#simulate\n",
    "cur_state = sys.simulate(sim_steps, withdrawTraj=True, initSystem=True)\n",
    "print(\"init_state\", sys.trajectory[0], \"\\n\")\n",
    "print(\"last_state: \",  sys.trajectory[-1], \"\\n\")\n",
    "print(\"Trajectory length: \",len(sys.trajectory))\n",
    "\n",
    "#animation\n",
    "ani, out_path = animation_trajectory(sys, [x_min, x_max])\n",
    "\n",
    "import tempfile\n",
    "os.chdir(tempfile.gettempdir())\n",
    "from IPython.display import HTML\n",
    "HTML(ani.to_jshtml())"
   ]
  },
  {
   "cell_type": "code",
   "execution_count": null,
   "metadata": {},
   "outputs": [],
   "source": [
    "#Simple Verlet integration simulation:\n",
    "#UNDER DEVELOPMENT!The temperature is not constant!!!\n",
    "#settings\n",
    "sim_steps = 100\n",
    "x_min, x_max = (-10, 10)\n",
    "max_step_size = 2.0\n",
    "pot=harmonicOsc()\n",
    "thermo = berendsenThermostate(tau=20, dt=1)\n",
    "#thermo.verbose = True\n",
    "integrator = velocityVerletIntegrator(dt=1)#maxStepSize=max_step_size,\n",
    "#integrator.verbose = True\n",
    "sys=system(potential=pot, integrator=integrator, conditions=[thermo], position=-5, temperature=0)\n",
    "\n",
    "#simulate\n",
    "cur_state = sys.simulate(sim_steps, withdrawTraj=True, initSystem=True)\n",
    "print(\"init_state\", sys.trajectory[0], \"\\n\")\n",
    "print(\"last_state: \",  sys.trajectory[-1], \"\\n\")\n",
    "print(\"Trajectory length: \",len(sys.trajectory))\n",
    "\n",
    "#animation\n",
    "ani, out_path = animation_trajectory(sys, [x_min, x_max])\n",
    "\n",
    "import tempfile\n",
    "os.chdir(tempfile.gettempdir())\n",
    "from IPython.display import HTML\n",
    "HTML(ani.to_jshtml())"
   ]
  },
  {
   "cell_type": "code",
   "execution_count": null,
   "metadata": {},
   "outputs": [],
   "source": [
    "from scipy.stats import boltzmann\n",
    " \n",
    "boltzmann()"
   ]
  },
  {
   "cell_type": "code",
   "execution_count": null,
   "metadata": {},
   "outputs": [],
   "source": []
  }
 ],
 "metadata": {
  "language_info": {
   "name": "python"
  }
 },
 "nbformat": 4,
 "nbformat_minor": 2
}

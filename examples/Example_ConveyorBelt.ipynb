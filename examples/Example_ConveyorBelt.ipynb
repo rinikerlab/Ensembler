{
 "cells": [
  {
   "cell_type": "markdown",
   "metadata": {
    "pycharm": {
     "name": "#%% md\n"
    }
   },
   "source": [
    "# Conveyor Belt Thermodynamic Integration with Ensembler\n",
    "In this notebook, we give examples how to run conveyor belt simulations with Ensembler. \n",
    "\n",
    "Maintainers: [@SchroederB](https://https://github.com/SchroederB), [@linkerst](https://https://github.com/linkerst), [@dfhahn](https://https://github.com/dfhahn)"
   ]
  },
  {
   "cell_type": "markdown",
   "metadata": {},
   "source": [
    "## Loading Ensembler and necessary external packages "
   ]
  },
  {
   "cell_type": "code",
   "execution_count": 2,
   "metadata": {
    "pycharm": {
     "name": "#%%\n"
    }
   },
   "outputs": [],
   "source": [
    "import os, sys\n",
    "sys.path.append(os.getcwd()+\"/..\")\n",
    "\n",
    "import numpy as np\n",
    "import pandas as pd\n",
    "\n",
    "import matplotlib.pyplot as plt\n",
    "from matplotlib import cm\n",
    "from matplotlib import colorbar\n",
    "from mpl_toolkits.mplot3d import Axes3D\n",
    "\n",
    "import ensembler.potentials.OneD as pot\n",
    "import ensembler.system.perturbed_system as system\n",
    "import ensembler.ensemble.replicas_dynamic_parameters as cvb\n",
    "from ensembler.samplers import stochastic"
   ]
  },
  {
   "cell_type": "markdown",
   "metadata": {},
   "source": [
    "## Interactive Example"
   ]
  },
  {
   "cell_type": "code",
   "execution_count": 3,
   "metadata": {
    "tags": []
   },
   "outputs": [
    {
     "data": {
      "application/vnd.jupyter.widget-view+json": {
       "model_id": "91d8e540fb964286be42891eb7ec67c3",
       "version_major": 2,
       "version_minor": 0
      },
      "text/plain": [
       "HBox(children=(FloatProgress(value=0.0, description='Trials: ', max=10.0, style=ProgressStyle(description_widt…"
      ]
     },
     "metadata": {},
     "output_type": "display_data"
    },
    {
     "name": "stdout",
     "output_type": "stream",
     "text": [
      "\n"
     ]
    }
   ],
   "source": [
    "from ensembler.visualisation.interactive_plots import interactive_conveyor_belt\n",
    "\n",
    "iwidget = interactive_conveyor_belt(nbins=10, numsys=3, steps=10)"
   ]
  },
  {
   "cell_type": "markdown",
   "metadata": {},
   "source": [
    "## Build a conveyor belt object\n",
    "For building a `conveyorBelt` object, you first have to build a `system`, which will be used as a template for the replicas. The `system` itself needs to to be initialized with a potential and an integrator. For details, see the Tutorial Simulations."
   ]
  },
  {
   "cell_type": "code",
   "execution_count": 8,
   "metadata": {},
   "outputs": [],
   "source": [
    "sampler = stochastic.metropolisMonteCarloIntegrator()\n",
    "potential = pot.linearCoupledPotentials()\n",
    "sys = system.perturbedSystem(potential=potential , \n",
    "                              sampler=sampler)"
   ]
  },
  {
   "cell_type": "markdown",
   "metadata": {},
   "source": [
    "Additional the number of replicas `n_replicas` and the initial capital Lambda value needs to be specified. The latter can usually be set to 0. An additional (optional) argument is the `build` variable, which will be discussed later.\n",
    "\n",
    "The output shows the current state of the conveyor belt as a table with the replica ID, the corresponding lambda value and the energy of the replica."
   ]
  },
  {
   "cell_type": "code",
   "execution_count": 10,
   "metadata": {},
   "outputs": [
    {
     "data": {
      "text/plain": [
       "0.0      0.00    11.757\n",
       "1.0      0.25    38.266\n",
       "2.0      0.50    66.084\n",
       "3.0      0.75    92.909\n",
       "4.0      1.00   121.812\n",
       "5.0      0.75    92.836\n",
       "6.0      0.50    75.666\n",
       "7.0      0.25    38.822"
      ]
     },
     "execution_count": 10,
     "metadata": {},
     "output_type": "execute_result"
    }
   ],
   "source": [
    "ensemble = cvb.conveyorBelt(capital_lambda=0.0,\n",
    "                n_replicas=8,\n",
    "                system=sys)\n",
    "ensemble"
   ]
  },
  {
   "cell_type": "markdown",
   "metadata": {},
   "source": [
    "## Start a conveyor belt simulation \n",
    "The conveyor belt is simulated by using its member function `simulate` with the number of steps as argument. "
   ]
  },
  {
   "cell_type": "code",
   "execution_count": 12,
   "metadata": {},
   "outputs": [
    {
     "data": {
      "application/vnd.jupyter.widget-view+json": {
       "model_id": "2b56fb1b755f4345b154eccb810efacf",
       "version_major": 2,
       "version_minor": 0
      },
      "text/plain": [
       "HBox(children=(FloatProgress(value=0.0, description='Trials: ', max=10.0, style=ProgressStyle(description_widt…"
      ]
     },
     "metadata": {},
     "output_type": "display_data"
    },
    {
     "name": "stdout",
     "output_type": "stream",
     "text": [
      "\n"
     ]
    }
   ],
   "source": [
    "steps = 10\n",
    "ensemble.simulate(steps)"
   ]
  },
  {
   "cell_type": "markdown",
   "metadata": {},
   "source": [
    "The trajectories of the ensemble `cvb_traj` and the single systems `sys_trajs` can be retrieved by using its member function `get_trajs`."
   ]
  },
  {
   "cell_type": "code",
   "execution_count": 13,
   "metadata": {},
   "outputs": [],
   "source": [
    "(cvb_traj, systrajs) = ensemble.get_trajs()"
   ]
  },
  {
   "cell_type": "markdown",
   "metadata": {},
   "source": [
    "The ensemble trajectory is a `pandas.DataFrame` object with the following columns:\n",
    "- **Step**: index of frame (starting from 1)\n",
    "- **capital_lambda**: the capital lambda of the frame\n",
    "- **TotE**: the current total energy of the ensemble\n",
    "- **biasE**: the current bias energy\n",
    "- **doAccept**: information whether the Monte Carlo step before the frame was accepted or not"
   ]
  },
  {
   "cell_type": "code",
   "execution_count": 9,
   "metadata": {},
   "outputs": [
    {
     "data": {
      "text/html": [
       "<div>\n",
       "<style scoped>\n",
       "    .dataframe tbody tr th:only-of-type {\n",
       "        vertical-align: middle;\n",
       "    }\n",
       "\n",
       "    .dataframe tbody tr th {\n",
       "        vertical-align: top;\n",
       "    }\n",
       "\n",
       "    .dataframe thead th {\n",
       "        text-align: right;\n",
       "    }\n",
       "</style>\n",
       "<table border=\"1\" class=\"dataframe\">\n",
       "  <thead>\n",
       "    <tr style=\"text-align: right;\">\n",
       "      <th></th>\n",
       "      <th>Step</th>\n",
       "      <th>capital_lambda</th>\n",
       "      <th>TotE</th>\n",
       "      <th>biasE</th>\n",
       "      <th>doAccept</th>\n",
       "    </tr>\n",
       "  </thead>\n",
       "  <tbody>\n",
       "    <tr>\n",
       "      <th>0</th>\n",
       "      <td>1</td>\n",
       "      <td>5.547756</td>\n",
       "      <td>24.870174</td>\n",
       "      <td>24.870174</td>\n",
       "      <td>True</td>\n",
       "    </tr>\n",
       "    <tr>\n",
       "      <th>1</th>\n",
       "      <td>2</td>\n",
       "      <td>5.265416</td>\n",
       "      <td>2.282267</td>\n",
       "      <td>2.282267</td>\n",
       "      <td>True</td>\n",
       "    </tr>\n",
       "    <tr>\n",
       "      <th>2</th>\n",
       "      <td>3</td>\n",
       "      <td>5.265416</td>\n",
       "      <td>8.705540</td>\n",
       "      <td>0.000000</td>\n",
       "      <td>False</td>\n",
       "    </tr>\n",
       "    <tr>\n",
       "      <th>3</th>\n",
       "      <td>4</td>\n",
       "      <td>5.100920</td>\n",
       "      <td>8.884372</td>\n",
       "      <td>8.884372</td>\n",
       "      <td>True</td>\n",
       "    </tr>\n",
       "    <tr>\n",
       "      <th>4</th>\n",
       "      <td>5</td>\n",
       "      <td>5.100920</td>\n",
       "      <td>22.111975</td>\n",
       "      <td>0.000000</td>\n",
       "      <td>False</td>\n",
       "    </tr>\n",
       "  </tbody>\n",
       "</table>\n",
       "</div>"
      ],
      "text/plain": [
       "  Step  capital_lambda       TotE      biasE doAccept\n",
       "0    1        5.547756  24.870174  24.870174     True\n",
       "1    2        5.265416   2.282267   2.282267     True\n",
       "2    3        5.265416   8.705540   0.000000    False\n",
       "3    4        5.100920   8.884372   8.884372     True\n",
       "4    5        5.100920  22.111975   0.000000    False"
      ]
     },
     "execution_count": 9,
     "metadata": {},
     "output_type": "execute_result"
    }
   ],
   "source": [
    "cvb_traj.head()"
   ]
  },
  {
   "cell_type": "markdown",
   "metadata": {},
   "source": [
    "The system trajectory object `systrajs` is a `list` of `pandas.DataFrame` objects (one per replica) with the following columns:\n",
    "- **position**: (spatial) position of particle\n",
    "- **temperature**: temperature\n",
    "- **total_system_energy**: the current total energy of the replica\n",
    "- **total_potential_energy**: the current potential energy of the replica\n",
    "- **total_kinetic_energy**: the current kinetic energy of the replica\n",
    "- **dhdpos**: the derivative of the hamiltonian with repect to the position (negative of the force)\n",
    "- **velocity**: velocity of the particle\n",
    "- **lam**: lambda value of the partical\n",
    "- **dhdlam**: Hamiltonian derivative with respect to lambda\n",
    "The kinetic energy and the velocity are `NaN` in the following, becauce this example uses the stochastic `metropolisMonteCarloIntegrator`, which does not calculate velocities."
   ]
  },
  {
   "cell_type": "code",
   "execution_count": 8,
   "metadata": {},
   "outputs": [
    {
     "data": {
      "text/html": [
       "<div>\n",
       "<style scoped>\n",
       "    .dataframe tbody tr th:only-of-type {\n",
       "        vertical-align: middle;\n",
       "    }\n",
       "\n",
       "    .dataframe tbody tr th {\n",
       "        vertical-align: top;\n",
       "    }\n",
       "\n",
       "    .dataframe thead th {\n",
       "        text-align: right;\n",
       "    }\n",
       "</style>\n",
       "<table border=\"1\" class=\"dataframe\">\n",
       "  <thead>\n",
       "    <tr style=\"text-align: right;\">\n",
       "      <th></th>\n",
       "      <th>position</th>\n",
       "      <th>temperature</th>\n",
       "      <th>total_system_energy</th>\n",
       "      <th>total_potential_energy</th>\n",
       "      <th>total_kinetic_energy</th>\n",
       "      <th>dhdpos</th>\n",
       "      <th>velocity</th>\n",
       "      <th>lam</th>\n",
       "      <th>dhdlam</th>\n",
       "    </tr>\n",
       "  </thead>\n",
       "  <tbody>\n",
       "    <tr>\n",
       "      <th>0</th>\n",
       "      <td>2.93513</td>\n",
       "      <td>300.0</td>\n",
       "      <td>25.844939</td>\n",
       "      <td>25.844939</td>\n",
       "      <td>NaN</td>\n",
       "      <td>17.6108</td>\n",
       "      <td>NaN</td>\n",
       "      <td>0.000000</td>\n",
       "      <td>43.074899</td>\n",
       "    </tr>\n",
       "    <tr>\n",
       "      <th>1</th>\n",
       "      <td>-0.5471531451097928</td>\n",
       "      <td>300.0</td>\n",
       "      <td>0.149688</td>\n",
       "      <td>0.149688</td>\n",
       "      <td>NaN</td>\n",
       "      <td>-3.4822817132716772</td>\n",
       "      <td>NaN</td>\n",
       "      <td>0.000000</td>\n",
       "      <td>1.496883</td>\n",
       "    </tr>\n",
       "    <tr>\n",
       "      <th>2</th>\n",
       "      <td>-0.8714768137003843</td>\n",
       "      <td>300.0</td>\n",
       "      <td>0.379736</td>\n",
       "      <td>0.379736</td>\n",
       "      <td>NaN</td>\n",
       "      <td>-0.3243236685905915</td>\n",
       "      <td>NaN</td>\n",
       "      <td>0.000000</td>\n",
       "      <td>3.797359</td>\n",
       "    </tr>\n",
       "    <tr>\n",
       "      <th>3</th>\n",
       "      <td>-1.5265719564600495</td>\n",
       "      <td>300.0</td>\n",
       "      <td>3.892903</td>\n",
       "      <td>3.892903</td>\n",
       "      <td>NaN</td>\n",
       "      <td>-0.6550951427596652</td>\n",
       "      <td>NaN</td>\n",
       "      <td>0.234094</td>\n",
       "      <td>11.652110</td>\n",
       "    </tr>\n",
       "    <tr>\n",
       "      <th>4</th>\n",
       "      <td>0.08557630108654513</td>\n",
       "      <td>300.0</td>\n",
       "      <td>0.012233</td>\n",
       "      <td>0.012233</td>\n",
       "      <td>NaN</td>\n",
       "      <td>1.6121482575465946</td>\n",
       "      <td>NaN</td>\n",
       "      <td>0.234094</td>\n",
       "      <td>0.036617</td>\n",
       "    </tr>\n",
       "  </tbody>\n",
       "</table>\n",
       "</div>"
      ],
      "text/plain": [
       "              position  temperature  total_system_energy  \\\n",
       "0              2.93513        300.0            25.844939   \n",
       "1  -0.5471531451097928        300.0             0.149688   \n",
       "2  -0.8714768137003843        300.0             0.379736   \n",
       "3  -1.5265719564600495        300.0             3.892903   \n",
       "4  0.08557630108654513        300.0             0.012233   \n",
       "\n",
       "   total_potential_energy  total_kinetic_energy               dhdpos  \\\n",
       "0               25.844939                   NaN              17.6108   \n",
       "1                0.149688                   NaN  -3.4822817132716772   \n",
       "2                0.379736                   NaN  -0.3243236685905915   \n",
       "3                3.892903                   NaN  -0.6550951427596652   \n",
       "4                0.012233                   NaN   1.6121482575465946   \n",
       "\n",
       "   velocity       lam     dhdlam  \n",
       "0       NaN  0.000000  43.074899  \n",
       "1       NaN  0.000000   1.496883  \n",
       "2       NaN  0.000000   3.797359  \n",
       "3       NaN  0.234094  11.652110  \n",
       "4       NaN  0.234094   0.036617  "
      ]
     },
     "execution_count": 8,
     "metadata": {},
     "output_type": "execute_result"
    }
   ],
   "source": [
    "systrajs[0].head()"
   ]
  },
  {
   "cell_type": "markdown",
   "metadata": {},
   "source": [
    "## Visualizations of the trajectories"
   ]
  },
  {
   "cell_type": "code",
   "execution_count": 10,
   "metadata": {},
   "outputs": [
    {
     "data": {
      "image/png": "[encoded data removed]",
      "text/plain": [
       "<Figure size 243.78x150.664 with 1 Axes>"
      ]
     },
     "metadata": {},
     "output_type": "display_data"
    }
   ],
   "source": [
    "for i in systrajs:\n",
    "    plt.plot(systrajs[i].index, systrajs[i].lam)"
   ]
  },
  {
   "cell_type": "code",
   "execution_count": 11,
   "metadata": {},
   "outputs": [
    {
     "name": "stdout",
     "output_type": "stream",
     "text": [
      "0\n",
      "0\n",
      "0\n",
      "23\n",
      "23\n",
      "32\n",
      "32\n",
      "32\n",
      "32\n",
      "37\n",
      "37\n",
      "37\n",
      "37\n",
      "52\n",
      "52\n",
      "28\n",
      "28\n",
      "28\n",
      "28\n",
      "50\n",
      "50\n",
      "0\n",
      "25\n",
      "25\n",
      "1\n",
      "1\n",
      "7\n",
      "7\n",
      "7\n",
      "7\n",
      "12\n",
      "12\n",
      "12\n",
      "12\n",
      "27\n",
      "27\n",
      "3\n",
      "3\n",
      "3\n",
      "3\n",
      "25\n",
      "25\n",
      "0\n",
      "50\n",
      "50\n",
      "26\n",
      "26\n",
      "17\n",
      "17\n",
      "17\n",
      "17\n",
      "12\n",
      "12\n",
      "12\n",
      "12\n",
      "2\n",
      "2\n",
      "21\n",
      "21\n",
      "21\n",
      "21\n",
      "0\n",
      "0\n",
      "0\n",
      "75\n",
      "75\n",
      "51\n",
      "51\n",
      "42\n",
      "42\n",
      "42\n",
      "42\n",
      "37\n",
      "37\n",
      "37\n",
      "37\n",
      "22\n",
      "22\n",
      "46\n",
      "46\n",
      "46\n",
      "46\n",
      "24\n",
      "24\n",
      "0\n",
      "100\n",
      "100\n",
      "76\n",
      "76\n",
      "67\n",
      "67\n",
      "67\n",
      "67\n",
      "62\n",
      "62\n",
      "62\n",
      "62\n",
      "47\n",
      "47\n",
      "71\n",
      "71\n",
      "71\n",
      "71\n",
      "49\n",
      "49\n",
      "0\n",
      "75\n",
      "75\n",
      "98\n",
      "98\n",
      "92\n",
      "92\n",
      "92\n",
      "92\n",
      "87\n",
      "87\n",
      "87\n",
      "87\n",
      "72\n",
      "72\n",
      "96\n",
      "96\n",
      "96\n",
      "96\n",
      "74\n",
      "74\n",
      "0\n",
      "50\n",
      "50\n",
      "73\n",
      "73\n",
      "82\n",
      "82\n",
      "82\n",
      "82\n",
      "87\n",
      "87\n",
      "87\n",
      "87\n",
      "97\n",
      "97\n",
      "78\n",
      "78\n",
      "78\n",
      "78\n",
      "99\n",
      "99\n",
      "0\n",
      "25\n",
      "25\n",
      "48\n",
      "48\n",
      "57\n",
      "57\n",
      "57\n",
      "57\n",
      "62\n",
      "62\n",
      "62\n",
      "62\n",
      "77\n",
      "77\n",
      "53\n",
      "53\n",
      "53\n",
      "53\n",
      "75\n",
      "75\n"
     ]
    },
    {
     "name": "stderr",
     "output_type": "stream",
     "text": [
      "/opt/anaconda3/envs/ensembler/lib/python3.7/site-packages/ipykernel_launcher.py:12: RuntimeWarning: invalid value encountered in true_divide\n",
      "  if sys.path[0] == '':\n"
     ]
    }
   ],
   "source": [
    "nbins=100\n",
    "bins=np.zeros(nbins)\n",
    "dhdlbins=np.zeros(nbins)\n",
    "for i in systrajs:\n",
    "    for j in range(systrajs[i].shape[0]):\n",
    "        index=int(np.floor(systrajs[i].lam[j]*nbins))\n",
    "        print(index)\n",
    "        if index == nbins:\n",
    "            index=nbins-1\n",
    "        bins[index]+=1\n",
    "        dhdlbins[index]+=systrajs[i].dhdlam[j]\n",
    "dhdlbins/=bins\n",
    "#dhdlbins"
   ]
  },
  {
   "cell_type": "code",
   "execution_count": 12,
   "metadata": {},
   "outputs": [
    {
     "name": "stdout",
     "output_type": "stream",
     "text": [
      "Integral =  nan\n"
     ]
    },
    {
     "data": {
      "image/png": "[encoded data removed]",
      "text/plain": [
       "<Figure size 243.78x150.664 with 1 Axes>"
      ]
     },
     "metadata": {},
     "output_type": "display_data"
    }
   ],
   "source": [
    "plt.plot(np.linspace(0,1,nbins), dhdlbins)\n",
    "integral=np.sum(dhdlbins)*1.0/nbins\n",
    "print('Integral = ', integral)"
   ]
  },
  {
   "cell_type": "code",
   "execution_count": 13,
   "metadata": {},
   "outputs": [
    {
     "data": {
      "text/plain": [
       "[<matplotlib.lines.Line2D at 0x7f9c47743790>]"
      ]
     },
     "execution_count": 13,
     "metadata": {},
     "output_type": "execute_result"
    },
    {
     "data": {
      "image/png": "[encoded data removed]",
      "text/plain": [
       "<Figure size 243.78x150.664 with 1 Axes>"
      ]
     },
     "metadata": {},
     "output_type": "display_data"
    }
   ],
   "source": [
    "h1=np.histogram(cvb_traj.capital_lambda, bins=50, density=1)\n",
    "plt.plot(h1[1][:-1], h1[0])\n",
    "#plt.ylim(0.14, 0.185)"
   ]
  },
  {
   "cell_type": "code",
   "execution_count": 14,
   "metadata": {},
   "outputs": [
    {
     "data": {
      "text/plain": [
       "Text(0, 0.5, '$\\\\lambda$')"
      ]
     },
     "execution_count": 14,
     "metadata": {},
     "output_type": "execute_result"
    },
    {
     "data": {
      "image/png": "[encoded data removed]",
      "text/plain": [
       "<Figure size 243.78x150.664 with 1 Axes>"
      ]
     },
     "metadata": {},
     "output_type": "display_data"
    }
   ],
   "source": [
    "caplam = np.linspace(0, 2*np.pi, 100)\n",
    "x=[]\n",
    "for i in caplam:\n",
    "    x.append(ensemble.calculate_replica_lambda(i, 0))\n",
    "plt.plot(caplam, x)\n",
    "plt.xlabel('$\\Lambda / \\pi$')\n",
    "plt.ylabel('$\\lambda$')"
   ]
  },
  {
   "cell_type": "code",
   "execution_count": 15,
   "metadata": {},
   "outputs": [
    {
     "name": "stdout",
     "output_type": "stream",
     "text": [
      "Omega 1.4142135623730951 4.69041575982343\n",
      "0.03600698886161772 0.11942167188449208\n",
      "2.991927940369414 2.991927940369415 -8.291150088634001 -5.299222148264588\n"
     ]
    }
   ],
   "source": [
    "#analytical\n",
    "u=1.66053886e-27\n",
    "NA=6.0221415e23\n",
    "hbar=1.054571800e-34*1e12*1e-3*NA  #kJ/mol*ps\n",
    "R=0.00831446 #kJ/mol/K\n",
    "mu=0.5  #u\n",
    "T=300.0  #K\n",
    "fc1=1  #kJ/nm^2/mol\n",
    "fc2=11.0 #kJ/nm^2/mol\n",
    "omega1=np.sqrt(fc1/mu)\n",
    "omega2=np.sqrt(fc2/mu)\n",
    "print('Omega', omega1, omega2)\n",
    "alpha1=hbar*np.sqrt(fc1/mu)/(R*T)\n",
    "alpha2=hbar*np.sqrt(fc2/mu)/(R*T)\n",
    "print(alpha1, alpha2)\n",
    "Z1=np.exp(-alpha1/2.0)/(1-np.exp(-alpha1))\n",
    "Z2=np.exp(-alpha2/2.0)/(1-np.exp(-alpha2))\n",
    "F1=-R*T*np.log(Z1)\n",
    "F2=-R*T*np.log(Z2)\n",
    "DF=F2-F1\n",
    "DF2=-R*T*np.log(Z2/Z1)\n",
    "print(DF, DF2, F1, F2)"
   ]
  },
  {
   "cell_type": "markdown",
   "metadata": {},
   "source": [
    "## Conveyor Belt Animation"
   ]
  },
  {
   "cell_type": "code",
   "execution_count": 16,
   "metadata": {},
   "outputs": [
    {
     "ename": "IndexError",
     "evalue": "index 1 is out of bounds for axis 0 with size 1",
     "output_type": "error",
     "traceback": [
      "\u001b[0;31m---------------------------------------------------------------------------\u001b[0m",
      "\u001b[0;31mIndexError\u001b[0m                                Traceback (most recent call last)",
      "\u001b[0;32m<ipython-input-16-c5cc246f5c44>\u001b[0m in \u001b[0;36m<module>\u001b[0;34m\u001b[0m\n\u001b[1;32m      5\u001b[0m \u001b[0mene\u001b[0m \u001b[0;34m=\u001b[0m \u001b[0mnp\u001b[0m\u001b[0;34m.\u001b[0m\u001b[0mcumsum\u001b[0m\u001b[0;34m(\u001b[0m\u001b[0mdhdlbins\u001b[0m\u001b[0;34m)\u001b[0m\u001b[0;34m/\u001b[0m\u001b[0mnbins\u001b[0m\u001b[0;34m\u001b[0m\u001b[0;34m\u001b[0m\u001b[0m\n\u001b[1;32m      6\u001b[0m \u001b[0;34m\u001b[0m\u001b[0m\n\u001b[0;32m----> 7\u001b[0;31m \u001b[0mfig\u001b[0m \u001b[0;34m=\u001b[0m \u001b[0mplotEnsembler\u001b[0m\u001b[0;34m.\u001b[0m\u001b[0mplotEnsembler\u001b[0m\u001b[0;34m(\u001b[0m\u001b[0mlam\u001b[0m\u001b[0;34m,\u001b[0m \u001b[0mene\u001b[0m\u001b[0;34m,\u001b[0m \u001b[0mCapLam\u001b[0m\u001b[0;34m=\u001b[0m\u001b[0;36m0.2\u001b[0m\u001b[0;34m,\u001b[0m \u001b[0mM\u001b[0m\u001b[0;34m=\u001b[0m\u001b[0;36m8\u001b[0m\u001b[0;34m)\u001b[0m\u001b[0;34m\u001b[0m\u001b[0;34m\u001b[0m\u001b[0m\n\u001b[0m",
      "\u001b[0;32m~/projects/K_ENSEMBLER/Ensembler/ensembler/visualisation/plotConveyorBelt.py\u001b[0m in \u001b[0;36mplotEnsembler\u001b[0;34m(x, y, CapLam, M, drawArrows)\u001b[0m\n\u001b[1;32m    280\u001b[0m                 )\n\u001b[1;32m    281\u001b[0m             )\n\u001b[0;32m--> 282\u001b[0;31m             ax.scatter(x, gVals[np.abs(lamVals - x).argmin()] + shiftMarker, s=30, marker='o', edgecolors='face',\n\u001b[0m\u001b[1;32m    283\u001b[0m                        color='r', zorder=10)\n\u001b[1;32m    284\u001b[0m             \u001b[0;32mif\u001b[0m \u001b[0mdrawArrows\u001b[0m\u001b[0;34m:\u001b[0m\u001b[0;34m\u001b[0m\u001b[0;34m\u001b[0m\u001b[0m\n",
      "\u001b[0;31mIndexError\u001b[0m: index 1 is out of bounds for axis 0 with size 1"
     ]
    },
    {
     "data": {
      "image/png": "[encoded data removed]",
      "text/plain": [
       "<Figure size 737.705x433.944 with 1 Axes>"
      ]
     },
     "metadata": {},
     "output_type": "display_data"
    }
   ],
   "source": [
    "import ensembler.visualisation.plotConveyorBelt as plotEnsembler\n",
    "nbins=2\n",
    "dhdlbins=2\n",
    "lam = np.linspace(0, 1, nbins)\n",
    "ene = np.cumsum(dhdlbins)/nbins\n",
    "\n",
    "fig = plotEnsembler.plotEnsembler(lam, ene, CapLam=0.2, M=8)"
   ]
  },
  {
   "cell_type": "code",
   "execution_count": null,
   "metadata": {},
   "outputs": [],
   "source": []
  }
 ],
 "metadata": {
  "kernelspec": {
   "display_name": "Python 3",
   "language": "python",
   "name": "python3"
  },
  "language_info": {
   "codemirror_mode": {
    "name": "ipython",
    "version": 3
   },
   "file_extension": ".py",
   "mimetype": "text/x-python",
   "name": "python",
   "nbconvert_exporter": "python",
   "pygments_lexer": "ipython3",
   "version": "3.7.6"
  }
 },
 "nbformat": 4,
 "nbformat_minor": 2
}

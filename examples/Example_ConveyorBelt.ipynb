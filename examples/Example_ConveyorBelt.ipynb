{
 "cells": [
  {
   "cell_type": "markdown",
   "metadata": {
    "pycharm": {
     "name": "#%% md\n"
    }
   },
   "source": [
    "# Conveyor Belt TI - scheme"
   ]
  },
  {
   "cell_type": "code",
   "execution_count": 1,
   "metadata": {
    "pycharm": {
     "name": "#%%\n"
    }
   },
   "outputs": [
    {
     "data": {
      "text/plain": [
       "'/home/dahahn/projects/K_ENSEMBLER/Ensembler/examples'"
      ]
     },
     "execution_count": 1,
     "metadata": {},
     "output_type": "execute_result"
    }
   ],
   "source": [
    "import os, sys\n",
    "sys.path.append(os.getcwd()+\"/..\")\n",
    "\n",
    "import numpy as np\n",
    "import pandas as pd\n",
    "\n",
    "import matplotlib.pyplot as plt\n",
    "from matplotlib import cm\n",
    "from matplotlib import colorbar\n",
    "from mpl_toolkits.mplot3d import Axes3D\n",
    "\n",
    "%matplotlib inline\n",
    "os.getcwd()"
   ]
  },
  {
   "cell_type": "code",
   "execution_count": 2,
   "metadata": {},
   "outputs": [],
   "source": [
    "import ensembler.potentials.OneD as pot\n",
    "import ensembler.system.perturbed_system as system\n",
    "import ensembler.ensemble.replicas_dynamic_parameters as cvb\n",
    "from ensembler.samplers import stochastic"
   ]
  },
  {
   "cell_type": "markdown",
   "metadata": {},
   "source": [
    "## Interactive Example"
   ]
  },
  {
   "cell_type": "code",
   "execution_count": 3,
   "metadata": {
    "tags": []
   },
   "outputs": [
    {
     "data": {
      "application/vnd.jupyter.widget-view+json": {
       "model_id": "a7d20061c3be4fd99a3f88d1166c0f1e",
       "version_major": 2,
       "version_minor": 0
      },
      "text/plain": [
       "HBox(children=(FloatProgress(value=0.0, description='Trials: ', max=10.0, style=ProgressStyle(description_widt…"
      ]
     },
     "metadata": {},
     "output_type": "display_data"
    },
    {
     "name": "stdout",
     "output_type": "stream",
     "text": [
      "\n"
     ]
    }
   ],
   "source": [
    "from ensembler.visualisation.interactive_plots import interactive_conveyor_belt\n",
    "\n",
    "iwidget = interactive_conveyor_belt(nbins=10, numsys=3, steps=10)"
   ]
  },
  {
   "cell_type": "markdown",
   "metadata": {},
   "source": [
    "## Build Conveyor Belt"
   ]
  },
  {
   "cell_type": "code",
   "execution_count": 4,
   "metadata": {},
   "outputs": [],
   "source": [
    "numsys = 8\n",
    "steps = 10\n",
    "\n",
    "sampler = stochastic.metropolisMonteCarloIntegrator()\n",
    "potential = pot.linearCoupledPotentials()\n",
    "syst = system.perturbedSystem(potential=potential , \n",
    "                              sampler=sampler)"
   ]
  },
  {
   "cell_type": "code",
   "execution_count": 5,
   "metadata": {},
   "outputs": [
    {
     "data": {
      "text/plain": [
       "0.0      0.00    24.081\n",
       "1.0      0.79   213.216\n",
       "2.0      1.57   402.350\n",
       "3.0      2.36   591.484\n",
       "4.0      3.14   780.618\n",
       "5.0      3.93   969.753\n",
       "6.0      4.71  1158.887\n",
       "7.0      5.50  1348.021"
      ]
     },
     "execution_count": 5,
     "metadata": {},
     "output_type": "execute_result"
    }
   ],
   "source": [
    "ensemble = cvb.conveyorBelt(0.0, numsys, system=syst, build=False)\n",
    "ensemble"
   ]
  },
  {
   "cell_type": "code",
   "execution_count": 7,
   "metadata": {},
   "outputs": [
    {
     "data": {
      "application/vnd.jupyter.widget-view+json": {
       "model_id": "34050347cd1b47ec942a8c921751b331",
       "version_major": 2,
       "version_minor": 0
      },
      "text/plain": [
       "HBox(children=(FloatProgress(value=0.0, description='Trials: ', max=10.0, style=ProgressStyle(description_widt…"
      ]
     },
     "metadata": {},
     "output_type": "display_data"
    },
    {
     "name": "stdout",
     "output_type": "stream",
     "text": [
      "\n",
      "4\n"
     ]
    }
   ],
   "source": [
    "#ens.traj_clear()\n",
    "ensemble.simulate(steps)\n",
    "\n",
    "print(ensemble.reject)\n"
   ]
  },
  {
   "cell_type": "code",
   "execution_count": 8,
   "metadata": {},
   "outputs": [],
   "source": [
    "(cvb_traj, systrajs) = ensemble.get_trajs()"
   ]
  },
  {
   "cell_type": "code",
   "execution_count": 9,
   "metadata": {},
   "outputs": [
    {
     "data": {
      "text/html": [
       "<div>\n",
       "<style scoped>\n",
       "    .dataframe tbody tr th:only-of-type {\n",
       "        vertical-align: middle;\n",
       "    }\n",
       "\n",
       "    .dataframe tbody tr th {\n",
       "        vertical-align: top;\n",
       "    }\n",
       "\n",
       "    .dataframe thead th {\n",
       "        text-align: right;\n",
       "    }\n",
       "</style>\n",
       "<table border=\"1\" class=\"dataframe\">\n",
       "  <thead>\n",
       "    <tr style=\"text-align: right;\">\n",
       "      <th></th>\n",
       "      <th>position</th>\n",
       "      <th>temperature</th>\n",
       "      <th>total_system_energy</th>\n",
       "      <th>total_potential_energy</th>\n",
       "      <th>total_kinetic_energy</th>\n",
       "      <th>dhdpos</th>\n",
       "      <th>velocity</th>\n",
       "      <th>lam</th>\n",
       "      <th>dhdlam</th>\n",
       "    </tr>\n",
       "  </thead>\n",
       "  <tbody>\n",
       "    <tr>\n",
       "      <th>0</th>\n",
       "      <td>6.93993</td>\n",
       "      <td>298.0</td>\n",
       "      <td>144.487923</td>\n",
       "      <td>144.487923</td>\n",
       "      <td>NaN</td>\n",
       "      <td>41.6396</td>\n",
       "      <td>NaN</td>\n",
       "      <td>0.000000</td>\n",
       "      <td>240.813205</td>\n",
       "    </tr>\n",
       "    <tr>\n",
       "      <th>1</th>\n",
       "      <td>5.9273704676818895</td>\n",
       "      <td>298.0</td>\n",
       "      <td>17.566860</td>\n",
       "      <td>17.566860</td>\n",
       "      <td>NaN</td>\n",
       "      <td>-1.0125604362097818</td>\n",
       "      <td>NaN</td>\n",
       "      <td>0.000000</td>\n",
       "      <td>175.668603</td>\n",
       "    </tr>\n",
       "    <tr>\n",
       "      <th>2</th>\n",
       "      <td>2.2742288639020076</td>\n",
       "      <td>298.0</td>\n",
       "      <td>2.586058</td>\n",
       "      <td>2.586058</td>\n",
       "      <td>NaN</td>\n",
       "      <td>-3.653141603779882</td>\n",
       "      <td>NaN</td>\n",
       "      <td>0.000000</td>\n",
       "      <td>25.860585</td>\n",
       "    </tr>\n",
       "    <tr>\n",
       "      <th>3</th>\n",
       "      <td>0.07554803403277743</td>\n",
       "      <td>298.0</td>\n",
       "      <td>0.003875</td>\n",
       "      <td>0.003875</td>\n",
       "      <td>NaN</td>\n",
       "      <td>-2.19868082986923</td>\n",
       "      <td>NaN</td>\n",
       "      <td>0.035802</td>\n",
       "      <td>0.028538</td>\n",
       "    </tr>\n",
       "    <tr>\n",
       "      <th>4</th>\n",
       "      <td>-2.021130041408505</td>\n",
       "      <td>298.0</td>\n",
       "      <td>2.773726</td>\n",
       "      <td>2.773726</td>\n",
       "      <td>NaN</td>\n",
       "      <td>-2.0966780754412824</td>\n",
       "      <td>NaN</td>\n",
       "      <td>0.035802</td>\n",
       "      <td>20.424833</td>\n",
       "    </tr>\n",
       "  </tbody>\n",
       "</table>\n",
       "</div>"
      ],
      "text/plain": [
       "              position  temperature  total_system_energy  \\\n",
       "0              6.93993        298.0           144.487923   \n",
       "1   5.9273704676818895        298.0            17.566860   \n",
       "2   2.2742288639020076        298.0             2.586058   \n",
       "3  0.07554803403277743        298.0             0.003875   \n",
       "4   -2.021130041408505        298.0             2.773726   \n",
       "\n",
       "   total_potential_energy  total_kinetic_energy               dhdpos  \\\n",
       "0              144.487923                   NaN              41.6396   \n",
       "1               17.566860                   NaN  -1.0125604362097818   \n",
       "2                2.586058                   NaN   -3.653141603779882   \n",
       "3                0.003875                   NaN    -2.19868082986923   \n",
       "4                2.773726                   NaN  -2.0966780754412824   \n",
       "\n",
       "   velocity       lam      dhdlam  \n",
       "0       NaN  0.000000  240.813205  \n",
       "1       NaN  0.000000  175.668603  \n",
       "2       NaN  0.000000   25.860585  \n",
       "3       NaN  0.035802    0.028538  \n",
       "4       NaN  0.035802   20.424833  "
      ]
     },
     "execution_count": 9,
     "metadata": {},
     "output_type": "execute_result"
    }
   ],
   "source": [
    "systrajs[0].head()"
   ]
  },
  {
   "cell_type": "code",
   "execution_count": 10,
   "metadata": {},
   "outputs": [
    {
     "data": {
      "text/html": [
       "<div>\n",
       "<style scoped>\n",
       "    .dataframe tbody tr th:only-of-type {\n",
       "        vertical-align: middle;\n",
       "    }\n",
       "\n",
       "    .dataframe tbody tr th {\n",
       "        vertical-align: top;\n",
       "    }\n",
       "\n",
       "    .dataframe thead th {\n",
       "        text-align: right;\n",
       "    }\n",
       "</style>\n",
       "<table border=\"1\" class=\"dataframe\">\n",
       "  <thead>\n",
       "    <tr style=\"text-align: right;\">\n",
       "      <th></th>\n",
       "      <th>Step</th>\n",
       "      <th>capital_lambda</th>\n",
       "      <th>TotE</th>\n",
       "      <th>biasE</th>\n",
       "      <th>doAccept</th>\n",
       "    </tr>\n",
       "  </thead>\n",
       "  <tbody>\n",
       "    <tr>\n",
       "      <th>0</th>\n",
       "      <td>1</td>\n",
       "      <td>6.170711</td>\n",
       "      <td>170.895056</td>\n",
       "      <td>170.895056</td>\n",
       "      <td>True</td>\n",
       "    </tr>\n",
       "    <tr>\n",
       "      <th>1</th>\n",
       "      <td>2</td>\n",
       "      <td>0.462856</td>\n",
       "      <td>13.849356</td>\n",
       "      <td>13.849356</td>\n",
       "      <td>True</td>\n",
       "    </tr>\n",
       "    <tr>\n",
       "      <th>2</th>\n",
       "      <td>3</td>\n",
       "      <td>0.462856</td>\n",
       "      <td>11.664754</td>\n",
       "      <td>0.000000</td>\n",
       "      <td>False</td>\n",
       "    </tr>\n",
       "    <tr>\n",
       "      <th>3</th>\n",
       "      <td>4</td>\n",
       "      <td>0.849237</td>\n",
       "      <td>9.065114</td>\n",
       "      <td>9.065114</td>\n",
       "      <td>True</td>\n",
       "    </tr>\n",
       "    <tr>\n",
       "      <th>4</th>\n",
       "      <td>5</td>\n",
       "      <td>0.849237</td>\n",
       "      <td>4.822637</td>\n",
       "      <td>0.000000</td>\n",
       "      <td>False</td>\n",
       "    </tr>\n",
       "  </tbody>\n",
       "</table>\n",
       "</div>"
      ],
      "text/plain": [
       "  Step  capital_lambda        TotE       biasE doAccept\n",
       "0    1        6.170711  170.895056  170.895056     True\n",
       "1    2        0.462856   13.849356   13.849356     True\n",
       "2    3        0.462856   11.664754    0.000000    False\n",
       "3    4        0.849237    9.065114    9.065114     True\n",
       "4    5        0.849237    4.822637    0.000000    False"
      ]
     },
     "execution_count": 10,
     "metadata": {},
     "output_type": "execute_result"
    }
   ],
   "source": [
    "cvb_traj.head()"
   ]
  },
  {
   "cell_type": "markdown",
   "metadata": {},
   "source": [
    "### Plot Simulation"
   ]
  },
  {
   "cell_type": "code",
   "execution_count": 17,
   "metadata": {},
   "outputs": [
    {
     "data": {
      "image/png": "[encoded data removed]",
      "text/plain": [
       "<Figure size 243.78x150.664 with 1 Axes>"
      ]
     },
     "metadata": {},
     "output_type": "display_data"
    }
   ],
   "source": [
    "for i in systrajs:\n",
    "    plt.plot(systrajs[i].index, systrajs[i].lam)"
   ]
  },
  {
   "cell_type": "code",
   "execution_count": 12,
   "metadata": {},
   "outputs": [
    {
     "name": "stdout",
     "output_type": "stream",
     "text": [
      "0\n",
      "0\n",
      "0\n",
      "3\n",
      "3\n",
      "14\n",
      "14\n",
      "14\n",
      "14\n",
      "27\n",
      "27\n",
      "27\n",
      "27\n",
      "41\n",
      "41\n",
      "41\n",
      "41\n",
      "32\n",
      "32\n",
      "32\n",
      "32\n",
      "0\n",
      "78\n",
      "78\n",
      "21\n",
      "21\n",
      "39\n",
      "39\n",
      "39\n",
      "39\n",
      "52\n",
      "52\n",
      "52\n",
      "52\n",
      "66\n",
      "66\n",
      "66\n",
      "66\n",
      "57\n",
      "57\n",
      "57\n",
      "57\n",
      "0\n",
      "157\n"
     ]
    },
    {
     "ename": "IndexError",
     "evalue": "index 157 is out of bounds for axis 0 with size 100",
     "output_type": "error",
     "traceback": [
      "\u001b[0;31m---------------------------------------------------------------------------\u001b[0m",
      "\u001b[0;31mIndexError\u001b[0m                                Traceback (most recent call last)",
      "\u001b[0;32m<ipython-input-12-66ace110890a>\u001b[0m in \u001b[0;36m<module>\u001b[0;34m\u001b[0m\n\u001b[1;32m      8\u001b[0m         \u001b[0;32mif\u001b[0m \u001b[0mindex\u001b[0m \u001b[0;34m==\u001b[0m \u001b[0mnbins\u001b[0m\u001b[0;34m:\u001b[0m\u001b[0;34m\u001b[0m\u001b[0;34m\u001b[0m\u001b[0m\n\u001b[1;32m      9\u001b[0m             \u001b[0mindex\u001b[0m\u001b[0;34m=\u001b[0m\u001b[0mnbins\u001b[0m\u001b[0;34m-\u001b[0m\u001b[0;36m1\u001b[0m\u001b[0;34m\u001b[0m\u001b[0;34m\u001b[0m\u001b[0m\n\u001b[0;32m---> 10\u001b[0;31m         \u001b[0mbins\u001b[0m\u001b[0;34m[\u001b[0m\u001b[0mindex\u001b[0m\u001b[0;34m]\u001b[0m\u001b[0;34m+=\u001b[0m\u001b[0;36m1\u001b[0m\u001b[0;34m\u001b[0m\u001b[0;34m\u001b[0m\u001b[0m\n\u001b[0m\u001b[1;32m     11\u001b[0m         \u001b[0mdhdlbins\u001b[0m\u001b[0;34m[\u001b[0m\u001b[0mindex\u001b[0m\u001b[0;34m]\u001b[0m\u001b[0;34m+=\u001b[0m\u001b[0msystrajs\u001b[0m\u001b[0;34m[\u001b[0m\u001b[0mi\u001b[0m\u001b[0;34m]\u001b[0m\u001b[0;34m.\u001b[0m\u001b[0mdhdlam\u001b[0m\u001b[0;34m[\u001b[0m\u001b[0mj\u001b[0m\u001b[0;34m]\u001b[0m\u001b[0;34m\u001b[0m\u001b[0;34m\u001b[0m\u001b[0m\n\u001b[1;32m     12\u001b[0m \u001b[0mdhdlbins\u001b[0m\u001b[0;34m/=\u001b[0m\u001b[0mbins\u001b[0m\u001b[0;34m\u001b[0m\u001b[0;34m\u001b[0m\u001b[0m\n",
      "\u001b[0;31mIndexError\u001b[0m: index 157 is out of bounds for axis 0 with size 100"
     ]
    }
   ],
   "source": [
    "nbins=100\n",
    "bins=np.zeros(nbins)\n",
    "dhdlbins=np.zeros(nbins)\n",
    "for i in systrajs:\n",
    "    for j in range(systrajs[i].shape[0]):\n",
    "        index=int(np.floor(systrajs[i].lam[j]*nbins))\n",
    "        print(index)\n",
    "        if index == nbins:\n",
    "            index=nbins-1\n",
    "        bins[index]+=1\n",
    "        dhdlbins[index]+=systrajs[i].dhdlam[j]\n",
    "dhdlbins/=bins\n",
    "#dhdlbins"
   ]
  },
  {
   "cell_type": "code",
   "execution_count": 18,
   "metadata": {},
   "outputs": [
    {
     "name": "stdout",
     "output_type": "stream",
     "text": [
      "Integral =  12.182148398671162\n"
     ]
    },
    {
     "data": {
      "image/png": "[encoded data removed]",
      "text/plain": [
       "<Figure size 243.78x150.664 with 1 Axes>"
      ]
     },
     "metadata": {},
     "output_type": "display_data"
    }
   ],
   "source": [
    "plt.plot(np.linspace(0,1,nbins), dhdlbins)\n",
    "integral=np.sum(dhdlbins)*1.0/nbins\n",
    "print('Integral = ', integral)"
   ]
  },
  {
   "cell_type": "code",
   "execution_count": 19,
   "metadata": {},
   "outputs": [
    {
     "data": {
      "text/plain": [
       "[<matplotlib.lines.Line2D at 0x7f4b5d7b4410>]"
      ]
     },
     "execution_count": 19,
     "metadata": {},
     "output_type": "execute_result"
    },
    {
     "data": {
      "image/png": "[encoded data removed]",
      "text/plain": [
       "<Figure size 243.78x150.664 with 1 Axes>"
      ]
     },
     "metadata": {},
     "output_type": "display_data"
    }
   ],
   "source": [
    "h1=np.histogram(cvb_traj.capital_lambda, bins=50, density=1)\n",
    "plt.plot(h1[1][:-1], h1[0])\n",
    "#plt.ylim(0.14, 0.185)"
   ]
  },
  {
   "cell_type": "code",
   "execution_count": 22,
   "metadata": {},
   "outputs": [
    {
     "data": {
      "text/plain": [
       "Text(0, 0.5, '$\\\\lambda$')"
      ]
     },
     "execution_count": 22,
     "metadata": {},
     "output_type": "execute_result"
    },
    {
     "data": {
      "image/png": "[encoded data removed]",
      "text/plain": [
       "<Figure size 243.78x150.664 with 1 Axes>"
      ]
     },
     "metadata": {},
     "output_type": "display_data"
    }
   ],
   "source": [
    "caplam = np.linspace(0, 2*np.pi, 100)\n",
    "x=[]\n",
    "for i in caplam:\n",
    "    x.append(ensemble.calculate_replica_lambda(i, 0))\n",
    "plt.plot(caplam, x)\n",
    "plt.xlabel('$\\Lambda / \\pi$')\n",
    "plt.ylabel('$\\lambda$')"
   ]
  },
  {
   "cell_type": "code",
   "execution_count": 23,
   "metadata": {},
   "outputs": [
    {
     "name": "stdout",
     "output_type": "stream",
     "text": [
      "Omega 1.4142135623730951 4.69041575982343\n",
      "0.03600698886161772 0.11942167188449208\n",
      "2.991927940369414 2.991927940369415 -8.291150088634001 -5.299222148264588\n"
     ]
    }
   ],
   "source": [
    "#analytical\n",
    "u=1.66053886e-27\n",
    "NA=6.0221415e23\n",
    "hbar=1.054571800e-34*1e12*1e-3*NA  #kJ/mol*ps\n",
    "R=0.00831446 #kJ/mol/K\n",
    "mu=0.5  #u\n",
    "T=300.0  #K\n",
    "fc1=1  #kJ/nm^2/mol\n",
    "fc2=11.0 #kJ/nm^2/mol\n",
    "omega1=np.sqrt(fc1/mu)\n",
    "omega2=np.sqrt(fc2/mu)\n",
    "print('Omega', omega1, omega2)\n",
    "alpha1=hbar*np.sqrt(fc1/mu)/(R*T)\n",
    "alpha2=hbar*np.sqrt(fc2/mu)/(R*T)\n",
    "print(alpha1, alpha2)\n",
    "Z1=np.exp(-alpha1/2.0)/(1-np.exp(-alpha1))\n",
    "Z2=np.exp(-alpha2/2.0)/(1-np.exp(-alpha2))\n",
    "F1=-R*T*np.log(Z1)\n",
    "F2=-R*T*np.log(Z2)\n",
    "DF=F2-F1\n",
    "DF2=-R*T*np.log(Z2/Z1)\n",
    "print(DF, DF2, F1, F2)"
   ]
  },
  {
   "cell_type": "markdown",
   "metadata": {},
   "source": [
    "## Conveyor Belt Animation"
   ]
  },
  {
   "cell_type": "code",
   "execution_count": 25,
   "metadata": {},
   "outputs": [
    {
     "ename": "TypeError",
     "evalue": "'module' object is not callable",
     "output_type": "error",
     "traceback": [
      "\u001b[0;31m---------------------------------------------------------------------------\u001b[0m",
      "\u001b[0;31mTypeError\u001b[0m                                 Traceback (most recent call last)",
      "\u001b[0;32m<ipython-input-25-001ed0b4db31>\u001b[0m in \u001b[0;36m<module>\u001b[0;34m\u001b[0m\n\u001b[1;32m      5\u001b[0m \u001b[0mene\u001b[0m \u001b[0;34m=\u001b[0m \u001b[0mnp\u001b[0m\u001b[0;34m.\u001b[0m\u001b[0mcumsum\u001b[0m\u001b[0;34m(\u001b[0m\u001b[0mdhdlbins\u001b[0m\u001b[0;34m)\u001b[0m\u001b[0;34m/\u001b[0m\u001b[0mnbins\u001b[0m\u001b[0;34m\u001b[0m\u001b[0;34m\u001b[0m\u001b[0m\n\u001b[1;32m      6\u001b[0m \u001b[0;34m\u001b[0m\u001b[0m\n\u001b[0;32m----> 7\u001b[0;31m \u001b[0mfig\u001b[0m \u001b[0;34m=\u001b[0m \u001b[0mplotEnsembler\u001b[0m\u001b[0;34m(\u001b[0m\u001b[0mlam\u001b[0m\u001b[0;34m,\u001b[0m \u001b[0mene\u001b[0m\u001b[0;34m,\u001b[0m \u001b[0mCapLam\u001b[0m\u001b[0;34m=\u001b[0m\u001b[0;36m0.2\u001b[0m\u001b[0;34m,\u001b[0m \u001b[0mM\u001b[0m\u001b[0;34m=\u001b[0m\u001b[0;36m8\u001b[0m\u001b[0;34m)\u001b[0m\u001b[0;34m\u001b[0m\u001b[0;34m\u001b[0m\u001b[0m\n\u001b[0m",
      "\u001b[0;31mTypeError\u001b[0m: 'module' object is not callable"
     ]
    }
   ],
   "source": [
    "import ensembler.visualisation.plotConveyorBelt as plotEnsembler\n",
    "nbins=2\n",
    "dhdlbins=2\n",
    "lam = np.linspace(0, 1, nbins)\n",
    "ene = np.cumsum(dhdlbins)/nbins\n",
    "\n",
    "fig = plotEnsembler(lam, ene, CapLam=0.2, M=8)"
   ]
  },
  {
   "cell_type": "code",
   "execution_count": null,
   "metadata": {},
   "outputs": [],
   "source": []
  }
 ],
 "metadata": {
  "kernelspec": {
   "display_name": "Python 3",
   "language": "python",
   "name": "python3"
  },
  "language_info": {
   "codemirror_mode": {
    "name": "ipython",
    "version": 3
   },
   "file_extension": ".py",
   "mimetype": "text/x-python",
   "name": "python",
   "nbconvert_exporter": "python",
   "pygments_lexer": "ipython3",
   "version": "3.7.6"
  }
 },
 "nbformat": 4,
 "nbformat_minor": 2
}

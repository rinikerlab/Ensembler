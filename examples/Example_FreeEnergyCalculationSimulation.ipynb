{
 "cells": [
  {
   "cell_type": "code",
   "execution_count": null,
   "metadata": {},
   "outputs": [],
   "source": [
    "#install Ensembler if needed\n",
    "try:\n",
    "  import ensembler\n",
    "except:\n",
    "  ! pip install ensembler-rinikerlab"
   ]
  },
  {
   "cell_type": "markdown",
   "metadata": {},
   "source": [
    "# Free Energy Calculations\n",
    "In this Notebook, we want to give a short glimpse on Free Energy Calculations with Ensembler.\n",
    "\n",
    "Free energies are an very important topic in computational chemistry. As they are fundamental to thermodynamics and can give a lot of information for different changes to a system. Generally we can destinguish three types of free energies: thermodynamic, conformational and alchemical.\n",
    "The thermodynamic category is a free energy difference related to a change of an thermodynamic property of the system. The conformational free energy difference can be used to describe a conformational change of a molecule (phase space areas) and the alchemical free energy is describing a change in the chemical space of the molecule (e.g.: methylation).\n",
    "\n",
    "To calculate a free energy can be very tricky. A challenge might be sampling convergence due to high energy barriers or entropy differences.\n",
    "\n",
    "To be able to estimate the influence of a chemical change, one needs to calculate the free energies of both so called states.\n",
    "\n",
    "\n",
    "\n",
    "\n",
    "Here we calculate the Free Energy as:\n",
    "\n",
    "$F_i = V_i - T_i  S_i = -\\beta \\ln(Z_i)$\n",
    "\n",
    "\n",
    "\n",
    "Or we can use the statistical approach:\n",
    "\n",
    "$F_i(t) = -\\frac{1}{\\beta}  \\ln(\\langle e^{-\\beta H_i(t)}\\rangle_i)$\n",
    "\n",
    "With the Gibbs Free Energy of state i and state J we can get the Free Energy Difference of the change.\n",
    "\n",
    "$\\Delta F_{ij} = F_j - F_i = -\\beta \\ln(\\frac{Z_i}{Z_j})$\n",
    "\n",
    "This allows us to estimate the influence of the change.\n",
    "\n",
    "A free energy Calculation can be described contains three parts:\n",
    "* The System: Normally these contian multiple states.\n",
    "* The Sampling Method: The way how the Free Energy landscape will be integrated.\n",
    "* The Free Energy Estimator: The way, the free energy will be derived from the simulation.\n",
    "\n",
    "\n",
    "In this notebook we will cover following methods:\n",
    "* Free Energy Pertubation\n",
    "  * Zwanzig\n",
    "  * BAR\n",
    "* linear coupling\n",
    "    * FEP with 10 $\\lambda$-points\n",
    "    * TI with 10 $\\lambda$-points\n",
    "* exponential coupling\n",
    "    * EDS\n",
    "* hybrid coupling\n",
    "    * $\\lambda$-EDS\n",
    "* Enhanced Sampling methods:\n",
    "    * Conveyor Belt\n",
    "    * RE-EDS\n",
    "\n",
    "\n",
    "## References:\n",
    "   - A good Book: Molecular Modelling Principles and Applications A. R. Leach\n",
    "   - A good page to learn about free energies: http://www.alchemistry.org\n",
    "   - Thesis: Development and Application of Free-energy Calcuation Methods based on Molecular Dynamics Simulations, D. F. Hahn, Diss. ETH NO. 25914\n",
    "\n",
    "Maintainers: [@SchroederB](https://https://github.com/SchroederB), [@linkerst](https://https://github.com/linkerst), [@dfhahn](https://https://github.com/dfhahn)"
   ]
  },
  {
   "cell_type": "code",
   "execution_count": null,
   "metadata": {},
   "outputs": [],
   "source": [
    "#Here some imports:\n",
    "##basics\n",
    "import numpy as np\n",
    "from matplotlib import pyplot as plt\n",
    "\n",
    "##Ensembler\n",
    "from ensembler.analysis.freeEnergyCalculation import zwanzigEquation, threeStateZwanzig, bennetAcceptanceRatio\n",
    "\n",
    "from ensembler.potentials import OneD as pot\n",
    "from ensembler.samplers.stochastic import metropolisMonteCarloIntegrator\n",
    "from ensembler.system.basic_system import system\n",
    "from ensembler.system.perturbed_system import perturbedSystem\n",
    "from ensembler.system.eds_system import edsSystem\n",
    "\n",
    "#Enhanced sampling methods\n",
    "from ensembler.ensemble import replica_exchange\n",
    "from ensembler.ensemble import replicas_dynamic_parameters as cvb\n",
    "\n",
    "\n",
    "from ensembler.visualisation.plotSimulations import oneD_simulation_analysis_plot\n",
    "\n",
    "import matplotlib\n",
    "from ensembler.visualisation import style\n",
    "from ensembler.visualisation import plot_layout_settings\n",
    "for key, value in plot_layout_settings.items():\n",
    "    matplotlib.rcParams[key] = value\n"
   ]
  },
  {
   "cell_type": "markdown",
   "metadata": {},
   "source": [
    "## Benchmarking parameters\n",
    "Here we define some parameters that allow us an easier comparison of the different methods."
   ]
  },
  {
   "cell_type": "code",
   "execution_count": null,
   "metadata": {},
   "outputs": [],
   "source": [
    "steps = simulation_steps_total_per_approach = 10000 #more steps better free energies, but if you just want to try 1000 ist quite fast.\n",
    "equilibration_steps = simulation_steps_total_per_approach//10\n",
    "\n",
    "space_range = [-5, 5] #This defines our one dimensional coordinate space\n",
    "temperature = 30 # for the metropolis criterion of MMC sampler\n",
    "sampler = metropolisMonteCarloIntegrator(step_size_coefficient=1) # With this algorithm wer are going to sample the potentials\n"
   ]
  },
  {
   "cell_type": "markdown",
   "metadata": {},
   "source": [
    "## The Test System: Setting up a System\n",
    "In the follwoing a test system is setup, for the Free Energy Calculations. For this Notebook, we want to keep it simple.\n",
    "Therefore two 1D-Harmonic Oscillators with different shifted minima and force constants shall be perfect for us.\n",
    "These two harmonic oscillators could for example describe the difference of two bonds types.\n"
   ]
  },
  {
   "cell_type": "code",
   "execution_count": null,
   "metadata": {},
   "outputs": [],
   "source": [
    "#Build System\n",
    "#System Parameters:\n",
    "yoff1 = 0\n",
    "xoff1 = 0\n",
    "force_constant = k1 = 1\n",
    "\n",
    "entropic_difference = k2 = 3\n",
    "potential_difference = yoff2 = 1\n",
    "phase_space_distance = xoff2 = 3\n",
    "\n",
    "#State Potentials\n",
    "V_A = pot.harmonicOscillatorPotential(k=k1, x_shift=xoff1, y_shift=yoff1)\n",
    "V_B = pot.harmonicOscillatorPotential(k=k2, x_shift=xoff2, y_shift=yoff2)\n",
    "\n",
    "#Visualize\n",
    "from ensembler.visualisation.plotPotentials import multiState_overlays\n",
    "\n",
    "fig, _ = multiState_overlays([V_A,V_B])\n"
   ]
  },
  {
   "cell_type": "markdown",
   "metadata": {},
   "source": [
    "## The Analyctical Solution: Nice if there is one\n",
    "The Analytical solution for our problem can be calculated from the free energy of harmonic oscillators using\n",
    "\n",
    "$F_i  = V_i - \\frac{1}{2*\\beta} log(\\sqrt{\\frac{2 \\pi}{k_i \\beta}})$.\n",
    "\n",
    "\n",
    "As we know all parameters of the harmonic oscillators, we simply can calculate $F_i$ and $F_j$.\n",
    "The difference of both quantities then results in the final free energy difference:\n",
    "\n",
    "$\\Delta F_{ij} = F_j - F_i$\n"
   ]
  },
  {
   "cell_type": "code",
   "execution_count": null,
   "metadata": {},
   "outputs": [],
   "source": [
    "#Analytical Solution\n",
    "beta = 1 # beta is in kT\n",
    "\n",
    "F_A = yoff1 -(1/(2*beta)) * np.log(np.sqrt((2*np.pi)/(k1*beta)))\n",
    "F_B = yoff2 -(1/(2*beta)) * np.log(np.sqrt((2*np.pi)/(k2*beta)))\n",
    "dF_AB_expected = F_B-F_A\n",
    "\n",
    "print(\"expected dF: \", dF_AB_expected)"
   ]
  },
  {
   "cell_type": "markdown",
   "metadata": {},
   "source": [
    "For this toy example it was easy to calculate the free energy difference.\n",
    "But there is not always an analytical solution our problem.\n",
    "As the functional of a problem gets more complex we can not rely on an analytical solution anymore.\n",
    "In the following we are going to discuss some methods, that can be used in cases like this."
   ]
  },
  {
   "cell_type": "markdown",
   "metadata": {},
   "source": [
    "## Free Energy Pertubation - BAR/Zwanzig: a simplistic start\n",
    "The journey through the free energy method landscape is started with a simple start; The Free Energy Pertubation method.\n",
    "As we now assume to not know the analytical solution, we could for example use one state and simulate it, to explore its potential landscape.\n",
    "If the phase space overlap of both states is high, we could sample all the important information for both states, from this one simulation.\n",
    "\n",
    "\n",
    "### Sampling\n",
    "Now we build first the two systems and run the simulations."
   ]
  },
  {
   "cell_type": "code",
   "execution_count": null,
   "metadata": {},
   "outputs": [],
   "source": [
    "#Simulate the two states:\n",
    "##Build Systems\n",
    "systemA = system(potential=V_A, sampler=sampler, temperature=temperature)\n",
    "systemB = system(potential=V_B, sampler=sampler, temperature=temperature)\n",
    "\n",
    "##Simulate:\n",
    "systemA.simulate(steps)\n",
    "stateA_traj = systemA.trajectory\n",
    "_ = oneD_simulation_analysis_plot(systemA, limits_coordinate_space=np.linspace(-10,10) )"
   ]
  },
  {
   "cell_type": "markdown",
   "metadata": {},
   "source": [
    "### Analysis\n",
    "After simulating state A, the potential energies for state B can be calculated using our potential fuction.\n",
    "\n",
    "#### Zwanzig Equation\n",
    "The Zwanzig equation is calculating the free energy difference of two states (A and B) sampled as an ensemble of one of the states (here A). The difference is boltzman-reweighted to increase the weight on the likely/favourable configurations.\n",
    "\n",
    "$dF_{ij_{Zwanzig}}(V_i, V_j) = - \\beta \\ln(\\langle e^{-\\beta(V_j-V_i)} \\rangle_i )$"
   ]
  },
  {
   "cell_type": "code",
   "execution_count": null,
   "metadata": {},
   "outputs": [],
   "source": [
    "VA_sampled_energies=stateA_traj.total_potential_energy[equilibration_steps:]\n",
    "VB_sampled_energies=V_B.ene(stateA_traj.position[equilibration_steps:])\n",
    "\n",
    "zwanz = zwanzigEquation(kT=True)\n",
    "dF_AB_zwanzig = zwanz.calculate(Vi=VA_sampled_energies, Vj=VB_sampled_energies)\n",
    "\n",
    "print(\"Expected Result: \", dF_AB_expected)\n",
    "print(\"Zwanzig Result: \", dF_AB_zwanzig)\n",
    "print()\n",
    "print(\"Difference:\", dF_AB_zwanzig - dF_AB_expected)\n"
   ]
  },
  {
   "cell_type": "markdown",
   "metadata": {},
   "source": [
    "#### Bennet Acceptance Ratio (BAR)\n",
    "BAR requires one simulation of each state, to calculate the optimal path between both states. This is done in an iterative fashion. Usually BAR tends to give more accurate results than the Zwanzig approach.\n",
    "\n",
    "Equation:\n",
    "$dF_{ij_{BAR}}(V_i, V_j) = \\ln(\\frac{\\langle f(V_i-Vj+C) \\rangle_j}{\\langle f(V_j-V_i-C) \\rangle_i}) + C - ln(\\frac{n_1}{n_0})$\n",
    "\n",
    "with f as fermi function:\n",
    "- $f(x) = \\frac{1}{1+e^{-\\beta x}}$\n",
    "\n",
    "$dF_{ij_{BAR}}$ is calculated iterativley with $ddF_{ij_{BAR}}(V_i, V_j)$, till convergence"
   ]
  },
  {
   "cell_type": "code",
   "execution_count": null,
   "metadata": {},
   "outputs": [],
   "source": [
    "#Simulate the two states:\n",
    "##Build Systems\n",
    "\n",
    "systemA = system(potential=V_A, sampler=sampler, temperature=temperature)\n",
    "systemB = system(potential=V_B, sampler=sampler, temperature=temperature)\n",
    "\n",
    "##Simulate:\n",
    "systemA.simulate(steps, withdraw_traj=True, init_system=True)\n",
    "stateA_traj = systemA.trajectory\n",
    "_ = oneD_simulation_analysis_plot(systemA, limits_coordinate_space=np.linspace(-10,10))\n",
    "\n",
    "systemB.simulate(steps, withdraw_traj=True, init_system=True)\n",
    "stateB_traj = systemB.trajectory\n",
    "\n",
    "#visualize\n",
    "_ = oneD_simulation_analysis_plot(systemB, limits_coordinate_space=np.linspace(-10,10))\n",
    "plt.ylim([0,10])\n",
    "pass"
   ]
  },
  {
   "cell_type": "code",
   "execution_count": null,
   "metadata": {},
   "outputs": [],
   "source": [
    "from ensembler import visualisation\n",
    "\n",
    "positions = np.linspace(-10,10, 100)\n",
    "fig, ax = plt.subplots(ncols=1, figsize=visualisation.figsize_doubleColumn)\n",
    "ax = list([ax])\n",
    "traj_pos = list(systemA.trajectory.position)\n",
    "ax[0].plot(positions, systemA.potential.ene(positions), c=\"grey\", label=\"state A\", zorder=-10)\n",
    "ene = systemA.potential.ene(traj_pos)\n",
    "ax[0].scatter(traj_pos, ene, c=\"C0\",alpha=0.8, label=\"simulation state A\",s=8)\n",
    "ax[0].set_ylim([0,8])\n",
    "\n",
    "positions = np.linspace(-10,10, 100)\n",
    "traj_pos = list(systemB.trajectory.position)\n",
    "ax[0].plot(positions, systemB.potential.ene(positions), c=\"black\", label=\"state B\", zorder=-10)\n",
    "ene = systemB.potential.ene(traj_pos)\n",
    "ax[0].scatter(traj_pos, ene, c=\"C2\",alpha=0.8, label=\"simulation state B\",s=8)\n",
    "\n",
    "ax[0].set_ylim([-0.5,8])\n",
    "ax[0].set_xlim([-5,6])\n",
    "ax[0].set_xlabel(\"r\")\n",
    "ax[0].set_ylabel(\"$V/[kT]$\")\n",
    "ax[0].legend()\n",
    "ax[0].set_title(\"single state simulations\")\n",
    "#fig.savefig(\"freeEnergyPertubation.pdf\")"
   ]
  },
  {
   "cell_type": "code",
   "execution_count": null,
   "metadata": {},
   "outputs": [],
   "source": [
    "#Sampling l1\n",
    "V11=V_A.ene(stateA_traj.position)\n",
    "V21=V_B.ene(stateA_traj.position)\n",
    "\n",
    "#Sampling l2\n",
    "V12=V_A.ene(stateB_traj.position)\n",
    "V22=V_B.ene(stateB_traj.position)\n",
    "\n",
    "bar = bennetAcceptanceRatio(kT=True, convergence_radius=0.01, max_iterations=1000)\n",
    "dF_AB_bar = bar.calculate(Vj_i=V21, Vi_i=V11, Vi_j=V12, Vj_j=V22, verbose=True)\n",
    "\n",
    "print()\n",
    "print(\"Expected Result: \", dF_AB_expected)\n",
    "print(\"BAR Result: \", dF_AB_bar)\n",
    "print()\n",
    "print(\"Difference:\", dF_AB_bar - dF_AB_expected)\n"
   ]
  },
  {
   "cell_type": "markdown",
   "metadata": {},
   "source": [
    "## Coupling Methods\n",
    "If the phase space overlap of the two state is low, the free energy estimate might deviate a lot from the real result.\n",
    "This issue can be solved by coupling the phase space of the two states in a simulation.\n",
    "Two ways of coupling will be discussed.\n",
    "The first one is $\\lambda$-coupling which forms a linear combination of the two states, this is used for EXP and TI.\n",
    "Second there is the exponential boltzmann coupling used in enveloping distribution sampling (EDS)."
   ]
  },
  {
   "cell_type": "markdown",
   "metadata": {},
   "source": [
    "### $\\lambda$ - Coupling\n",
    "One way of coupling two states is to generate the linear combination of the hamiltonians and coupling them by a variable $\\lambda$. A $\\lambda=0$ corresponds here to state A and a $\\lambda=1$ corresponds to state B. The equal mixutre is gained with $\\lambda=0.5$. All other lambda values in between $[0,1]$ result in intermediate states, that can be used to bridge the two states phase space.\n",
    "In the following we are going to build 10 lambda windows linearly distributed from 0 to 1. These will be used for simulations, that are finally analyzed by Zwanzig (resulting in EXP/Free energy pertubation (FEP) method) or thermodynamic integration (TI).\n",
    "\n",
    "Functional:\n",
    "\n",
    "$H_{\\lambda} = (1-\\lambda) H_A + \\lambda H_B$\n",
    "\n",
    "### Build System"
   ]
  },
  {
   "cell_type": "code",
   "execution_count": null,
   "metadata": {},
   "outputs": [],
   "source": [
    "#Build Potential\n",
    "V_perturbed = pot.linearCoupledPotentials(Va=V_A, Vb=V_B)\n",
    "\n",
    "#Visualize\n",
    "lambda_points = 10\n",
    "positions = np.arange(-5,10, 0.2)\n",
    "lambda_windows=np.linspace(0,1, lambda_points)\n",
    "\n",
    "for lam in lambda_windows:\n",
    "    V_perturbed.set_lambda(lam)\n",
    "    ene =  V_perturbed.ene(positions)\n",
    "    plt.plot(positions,ene, label=\"lam_\"+str(round(lam, 2)))\n",
    "\n",
    "plt.legend()\n",
    "\n",
    "plt.ylim([0,10])\n",
    "plt.ylabel(\"V[kT]\")\n",
    "plt.xlabel(\"r\")\n",
    "plt.title(\"Sampled Potentials\")"
   ]
  },
  {
   "cell_type": "markdown",
   "metadata": {},
   "source": [
    "### Sampling\n",
    "let's run simulations for all generated intermediate states:"
   ]
  },
  {
   "cell_type": "code",
   "execution_count": null,
   "metadata": {},
   "outputs": [],
   "source": [
    "perturbed_system = perturbedSystem(potential=V_perturbed, sampler=sampler, temperature=temperature)\n",
    "\n",
    "system_trajs = {}\n",
    "for lam in lambda_windows:\n",
    "    perturbed_system.lam =lam \n",
    "    perturbed_system.simulate(steps, withdraw_traj=True, init_system=True)\n",
    "    system_trajs.update({lam: perturbed_system.trajectory})\n"
   ]
  },
  {
   "cell_type": "markdown",
   "metadata": {},
   "source": [
    "### Analysis\n",
    "\n",
    "Sampling first we check the sampling"
   ]
  },
  {
   "cell_type": "code",
   "execution_count": null,
   "metadata": {},
   "outputs": [],
   "source": [
    "from ensembler import visualisation\n",
    "from matplotlib import cm\n",
    "#Visualize\n",
    "positions = np.linspace(-10, 10, 100)\n",
    "y_range = [-0.5, 8]\n",
    "\n",
    "\n",
    "fig, axes = plt.subplots(ncols=1, figsize=visualisation.figsize_doubleColumn)\n",
    "axes = list([axes])\n",
    "enes = []\n",
    "all_lams = sorted(list(system_trajs.keys()))\n",
    "\n",
    "for lamI in all_lams:\n",
    "    trajI = system_trajs[lamI]\n",
    "    V_perturbed.set_lambda(lamI)\n",
    "    ene =  V_perturbed.ene(positions)\n",
    "    enes.append(ene)\n",
    "    if(lamI==1):\n",
    "        c=\"black\"\n",
    "    else:\n",
    "        c = cm.get_cmap(\"binary\")(lamI+0.2)\n",
    "\n",
    "    axes[0].plot(positions,ene, c=c, zorder=-10,alpha=0.9)\n",
    "    axes[0].scatter(trajI.position, V_perturbed.ene(trajI.position),s=8,alpha=0.8, linewidths=0,\n",
    "                    label=\"$\\lambda=$\"+str(round(lamI, 2)),)#c=\"orange\")\n",
    "\n",
    "logExp=list(map(lambda x: np.log(np.exp(x)), enes))\n",
    "\n",
    "axes[0].legend()\n",
    "axes[0].set_ylim(y_range)\n",
    "\n",
    "axes[0].set_ylabel(\"V[kT]\")\n",
    "axes[0].set_xlabel(\"r\")\n",
    "axes[0].set_title(\"$\\lambda$-intermediate states\")\n",
    "\n",
    "axes[0].set_xlim([-5,6])\n"
   ]
  },
  {
   "cell_type": "markdown",
   "metadata": {},
   "source": [
    "### EXP/FEP with multiple lambda windows:\n",
    "This method is calculating the energy difference between the different $\\lambda$-points using the Zwanzig equation leading to a path from state A to state B."
   ]
  },
  {
   "cell_type": "code",
   "execution_count": null,
   "metadata": {},
   "outputs": [],
   "source": [
    "dA_i_fw = []\n",
    "zwanz = zwanzigEquation()\n",
    "all_lams = list(sorted(list(system_trajs.keys())))\n",
    "for lamI, lamJ in zip(all_lams, all_lams[1:]):\n",
    "    trajI = system_trajs[lamI]\n",
    "    trajJ = system_trajs[lamJ]\n",
    "\n",
    "    Vi_fw = trajI.total_potential_energy\n",
    "    Vj_fw = trajJ.total_potential_energy\n",
    "\n",
    "\n",
    "    dF_zwanzig_fw = zwanz.calculate(Vi=Vi_fw, Vj=Vj_fw)\n",
    "\n",
    "    dA_i_fw.append(dF_zwanzig_fw)\n",
    "\n",
    "fig, axes = plt.subplots(ncols=1, figsize=visualisation.figsize_doubleColumn)\n",
    "axes.plot(dA_i_fw)\n",
    "axes.set_ylabel(\"$dFper lambda [kT]$\")\n",
    "axes.set_xlabel(\"$\\lambda$\")\n",
    "\n",
    "fig.suptitle(\"dF per lambda point\")\n",
    "\n",
    "dF_AB_FEP_10lambda = np.sum(dA_i_fw)\n",
    "\n",
    "print()\n",
    "print(\"Expected Result: \", dF_AB_expected)\n",
    "print(\"Sum of intermediates Result: \", dF_AB_FEP_10lambda)\n",
    "print()\n",
    "print(\"Difference:\", dF_AB_FEP_10lambda - dF_AB_expected)\n"
   ]
  },
  {
   "cell_type": "markdown",
   "metadata": {},
   "source": [
    "#### Thermodynamic Integration (TI)\n",
    "TI calculates the partial derivative $\\langle \\frac{\\partial H}{\\partial \\lambda} \\rangle_\\lambda$ for each $\\lambda$-intermediate state and finally integrates over all intermediat states to retain the final free energy difference.\n",
    "\n",
    "$\\int_0^1\\langle \\frac{\\partial H}{\\partial \\lambda} \\rangle_{\\lambda} d\\lambda$"
   ]
  },
  {
   "cell_type": "code",
   "execution_count": null,
   "metadata": {},
   "outputs": [],
   "source": [
    "fig, axes = plt.subplots(ncols=1, figsize=visualisation.figsize_doubleColumn)\n",
    "\n",
    "lam_stats = {}\n",
    "for lam in system_trajs:\n",
    "    lam_mean, lam_std = np.mean(system_trajs[lam].dhdlam[equilibration_steps:]), np.std(system_trajs[lam].dhdlam[equilibration_steps:])\n",
    "    lam_stats.update({lam:{\"mean\":lam_mean, \"std\": lam_std}})\n",
    "\n",
    "    axes.scatter(lam, lam_mean)\n",
    "    axes.errorbar(lam, lam_mean, lam_std)\n",
    "\n",
    "axes.plot(sorted(lam_stats), [lam_stats[x][\"mean\"] for x in sorted(lam_stats)], color=\"grey\", zorder=-1)\n",
    "axes.set_ylabel(\"$dH/d\\lambda$\")\n",
    "axes.set_xlabel(\"$\\lambda$\")\n",
    "\n",
    "fig.suptitle(\"$dH/d\\lambda$ for each Lambda point\")\n"
   ]
  },
  {
   "cell_type": "code",
   "execution_count": null,
   "metadata": {},
   "outputs": [],
   "source": [
    "from scipy import integrate\n",
    "\n",
    "lam = list(sorted(lam_stats.keys()))\n",
    "means = [lam_stats[x]['mean'] for x in lam]\n",
    "stds = [lam_stats[x]['std'] for x in lam]\n",
    "\n",
    "dF_AB_TI_trapez = integrate.trapz(x=lam, y=means)\n",
    "dF_AB_TI_trapez_err = integrate.trapz(x=lam, y=stds)\n",
    "\n",
    "print()\n",
    "print(\"Expected Result: \", dF_AB_expected)\n",
    "print(\"trapez Rule Result: \", dF_AB_TI_trapez, \"+-\", dF_AB_TI_trapez_err)\n",
    "print()\n",
    "print(\"Difference:\", dF_AB_TI_trapez - dF_AB_expected)\n"
   ]
  },
  {
   "cell_type": "markdown",
   "metadata": {},
   "source": [
    "## State Coupled - Enveloping Distribution Sampling (EDS)\n",
    "\n",
    "EDS is combining the two physical states into one artificial reference state.\n",
    "\n",
    "$V_R = -\\frac{1}{\\beta s} \\ln{(e^{-\\beta s (V_A-E_A^R)}+e^{-\\beta s (V_B-E_B^R)})}$,\n",
    "\n",
    "with $s$ as the smoothing parameter, $E_X^R$ as the energy offset vector, and $\\beta = \\frac{1}{k_B T}$ with $k_B$ as Boltzmann constant and $T$ as temperature.\n",
    "\n",
    "the $s$ parameter is used to smooth the barriers of reference state and the $E_X^R$ vector is used to align the two states in the reference state to each other. Both parameters are crucial for enabling the sampling of all states during a simulation over the reference state.\n",
    "\n",
    "For more info see the Example_EDS jupyter notebook.\n",
    "\n",
    "### Build System"
   ]
  },
  {
   "cell_type": "code",
   "execution_count": null,
   "metadata": {},
   "outputs": [],
   "source": [
    "#Build Potential\n",
    "s=1\n",
    "Eoff = [0, 0]\n",
    "V_eds = pot.envelopedPotential(V_is=[V_A,V_B] , s=s, eoff=Eoff)\n",
    "s_values = np.array([ 1,0.5, 0.4, 0.3, 0.2, 0.1])\n",
    "\n",
    "#Visualize\n",
    "positions = np.arange(-10,15, 0.2)\n",
    "fig = plt.figure(figsize=[16,9])\n",
    "\n",
    "for s in s_values:\n",
    "    V_eds.s=s\n",
    "    plt.plot(positions,V_eds.ene(positions), lw=3, label=\"$V_r=\"+str(round(s,3))+\"$\")\n",
    "\n",
    "plt.plot(positions,V_A.ene(positions), label=\"state A\", lw=1, color=\"grey\")\n",
    "plt.plot(positions,V_B.ene(positions), label=\"state B\", lw=1, color=\"black\")\n",
    "\n",
    "V_eds.s=0.3\n",
    "plt.legend()\n",
    "plt.ylim([-5,8])\n",
    "plt.xlim([-5,6])\n",
    "\n",
    "plt.ylabel(\"V[kT]\")\n",
    "plt.xlabel(\"r\")\n",
    "plt.title(\"Sampled Potentials\")"
   ]
  },
  {
   "cell_type": "markdown",
   "metadata": {},
   "source": [
    "### Sampling\n",
    "The reference state is sampled here with Metropolis-Monte-Carlo algorithm, and at an feasible s-value, which was found by try and error."
   ]
  },
  {
   "cell_type": "code",
   "execution_count": null,
   "metadata": {},
   "outputs": [],
   "source": [
    "good_s_value=0.3\n",
    "eds_system = edsSystem(potential=V_eds, sampler=sampler, eds_s=good_s_value, eds_Eoff=Eoff, temperature=temperature)\n",
    "\n",
    "eds_system.simulate(steps, withdraw_traj=True, init_system=True)\n",
    "eds_traj = eds_system.trajectory"
   ]
  },
  {
   "cell_type": "code",
   "execution_count": null,
   "metadata": {},
   "outputs": [],
   "source": [
    "\n",
    "traj = eds_traj.iloc[equilibration_steps:]\n",
    "positions = np.linspace(-10,10, 100)\n",
    "V_A_ene = V_A.ene(positions)\n",
    "V_B_ene = V_B.ene(positions)\n",
    "V_eds.s = traj.s[equilibration_steps]\n",
    "eds_ene = V_eds.ene(positions)\n",
    "\n",
    "traj_pos = list(traj.position)\n",
    "traj_ene = list(traj.total_potential_energy)\n",
    "\n",
    "fig, ax = plt.subplots(ncols=1, figsize=visualisation.figsize_doubleColumn)\n",
    "ax = list([ax])\n",
    "ax[0].plot(positions, V_A_ene, c=\"grey\", label=\"state A\", zorder=-10,)\n",
    "ax[0].plot(positions, V_B_ene, c=\"black\", label=\"state B\", zorder=-10)\n",
    "ax[0].plot(positions, eds_ene, c=\"C0\", label=\"reference state\", zorder=-10,alpha=0.3)\n",
    "\n",
    "ax[0].scatter(traj_pos, traj_ene, c=\"C0\",alpha=0.8, label=\"simulation reference state\",s=8)\n",
    "\n",
    "ax[0].set_ylim([-0.5,8])\n",
    "ax[0].set_xlim([-5,6])\n",
    "ax[0].set_xlabel(\"r\")\n",
    "ax[0].set_ylabel(\"$V/[kT]$\")\n",
    "\n",
    "ax[0].legend()\n",
    "ax[0].set_title(\"EDS\")"
   ]
  },
  {
   "cell_type": "markdown",
   "metadata": {},
   "source": [
    "### Analysis\n",
    "In the next step we are going to calculate the free energy from the EDS-simulation.\n",
    "\n",
    "#### Zwanzig-EDS_Evaluation\n",
    "In EDS the relative free energy can be calculated using the Zwanzig equation along the Path of state A-> state R -> state B.\n",
    "As result the free energy difference can be estimated from only one simulation."
   ]
  },
  {
   "cell_type": "code",
   "execution_count": null,
   "metadata": {},
   "outputs": [],
   "source": [
    "rew_zwanz = threeStateZwanzig(kT=True)\n",
    "\n",
    "traj_positions = eds_traj.position[equilibration_steps:]\n",
    "Vrr = eds_traj.total_potential_energy[equilibration_steps:]\n",
    "VAr = V_A.ene(traj_positions)\n",
    "VBr = V_B.ene(traj_positions)\n",
    "\n",
    "dF_AB_EDS = rew_zwanz.calculate(Vi=VAr, Vj=VBr, Vr=Vrr)\n",
    "\n",
    "print(\"dF \", dF_AB_EDS)\n",
    "print(\"deviation: \", dF_AB_EDS-dF_AB_expected)\n"
   ]
  },
  {
   "cell_type": "markdown",
   "metadata": {},
   "source": [
    "#### BAR-EDS_Evaluation\n",
    "Alternativly also BAR can be applied to calculate the free energy difference. The only requirement is to have two additional simulations of the two pure physical state, like we used in our first approaches."
   ]
  },
  {
   "cell_type": "code",
   "execution_count": null,
   "metadata": {},
   "outputs": [],
   "source": [
    "\n",
    "traj_positions = eds_traj.position[equilibration_steps:]\n",
    "\n",
    "#Sampling l1\n",
    "V11=V_A.ene(stateA_traj.position)\n",
    "V21=V_B.ene(stateA_traj.position)\n",
    "Vr1 = V_eds.ene(list(stateA_traj.position))\n",
    "\n",
    "#Sampling l2\n",
    "V12=V_A.ene(stateB_traj.position)\n",
    "V22=V_B.ene(stateB_traj.position)\n",
    "Vr2 = V_eds.ene(list(stateB_traj.position))\n",
    "\n",
    "Vrr = eds_traj.total_potential_energy[equilibration_steps:]\n",
    "V1r = V_A.ene(traj_positions)\n",
    "V2r = V_B.ene(traj_positions)\n",
    "\n",
    "bar = bennetAcceptanceRatio(kT=True)\n",
    "setattr(bar, \"verbose\", False)\n",
    "#State 1 -> State R\n",
    "df_AB_BAR_1R = bar.calculate(Vj_i=Vr1, Vi_i=V11, Vi_j=V1r, Vj_j=Vrr, )\n",
    "#State R -> State 2\n",
    "df_AB_BAR_R2 = bar.calculate(Vj_i=V2r, Vi_i=Vrr, Vi_j=Vr2, Vj_j=V22)\n",
    "#State 1 -> State 2\n",
    "dF_AB_EDS_bar = df_AB_BAR_1R+df_AB_BAR_R2\n",
    "\n",
    "print(\"1R\", df_AB_BAR_1R, \"2R\", df_AB_BAR_R2 )\n",
    "print(\"dF_BAR:  \", dF_AB_EDS_bar)\n",
    "print(\"deviation: \", dF_AB_EDS_bar-dF_AB_expected)\n",
    "\n",
    "\n",
    "\n"
   ]
  },
  {
   "cell_type": "markdown",
   "metadata": {},
   "source": [
    "## Hybrid Methods - $\\lambda$-EDS\n",
    "\n",
    "As generalization of EDS and the $\\lambda$-coupling $\\lambda$-EDS was defined. It combines both methods and behaves like EDS with $\\lambda=0.5$ and represents state A with $\\lambda = 0$ and state B with $\\lambda = 1$.\n",
    "Additionally the EDS parameters can be used for modifying the potentials.\n",
    "\n",
    "### Build System"
   ]
  },
  {
   "cell_type": "code",
   "execution_count": null,
   "metadata": {},
   "outputs": [],
   "source": [
    "#Build Potential\n",
    "s=1\n",
    "Eoff = [0,0]\n",
    "V_hleds = pot.lambdaEDSPotential(V_is=[V_A,V_B] , s=s, lam=0.5)\n",
    "s_values = np.array([100, 1, 0.5, 0.3, 0.2, 0.1])\n",
    "\n",
    "#Visualize\n",
    "positions = np.linspace(-10,10, 1000)\n",
    "fig = plt.figure(figsize=[16,9])\n",
    "\n",
    "for ind,s in enumerate(s_values):\n",
    "    print(ind, \"\\t\", s)\n",
    "    V_hleds.s=s\n",
    "    plt.plot(positions,V_hleds.ene(positions), lw=3, label=\"$V_r=\"+str(round(s,3))+\"$\")\n",
    "\n",
    "plt.plot(positions,V_A.ene(positions), label=\"state A\", lw=1, color=\"grey\")\n",
    "plt.plot(positions,V_B.ene(positions), label=\"state B\", lw=1, color=\"black\")\n",
    "\n",
    "\n",
    "plt.legend()\n",
    "plt.ylim([-5,10])\n",
    "plt.xlim([-8,8])\n",
    "\n",
    "plt.ylabel(\"V[kT]\")\n",
    "plt.xlabel(\"r\")\n",
    "plt.title(\"Sampled Potentials\")\n"
   ]
  },
  {
   "cell_type": "code",
   "execution_count": null,
   "metadata": {},
   "outputs": [],
   "source": [
    "\n",
    "fig, axes = plt.subplots(nrows=2, ncols=2, figsize=[14,14])\n",
    "axes = np.concatenate(axes)\n",
    "s_values = [1, 0.5,  0.3, 0.01]\n",
    "lams=list(sorted(list(np.linspace(start=0, stop=1, num=7))))\n",
    "\n",
    "\n",
    "for ax, s in zip(axes, s_values):\n",
    "    V_hleds.s= s\n",
    "    for ind,lam in enumerate(lams):\n",
    "        V_hleds.lam=lam\n",
    "        ax.plot(positions,V_hleds.ene(positions), lw=2, label=\"$\\lambda=\"+str(round(lam,2))+\"$\")\n",
    "\n",
    "    ax.legend()\n",
    "    ax.set_ylim([-1,5])\n",
    "    ax.set_xlim([-5,5])\n",
    "\n",
    "    ax.set_ylabel(\"V[kT]\")\n",
    "    ax.set_xlabel(\"r\")\n",
    "    ax.set_title(\"s = \"+str(s))"
   ]
  },
  {
   "cell_type": "markdown",
   "metadata": {},
   "source": [
    "### Simulate"
   ]
  },
  {
   "cell_type": "code",
   "execution_count": null,
   "metadata": {},
   "outputs": [],
   "source": [
    "hleds_system = edsSystem(potential=V_hleds, sampler=sampler, eds_Eoff=Eoff, temperature=temperature)\n",
    "\n",
    "hleds_simulation_trajs = []\n",
    "good_s_value = 0.3\n",
    "hleds_system.set_s(good_s_value)\n",
    "hleds_system.potential.lam = 0.5\n",
    "hleds_system.simulate(steps, withdraw_traj=True, init_system=True)\n",
    "hleds_simulation_traj = hleds_system.trajectory\n"
   ]
  },
  {
   "cell_type": "code",
   "execution_count": null,
   "metadata": {},
   "outputs": [],
   "source": [
    "#Simulation at other lambdas\n",
    "\n",
    "hleds_system.potential.lam = 0.25\n",
    "hleds_system.simulate(steps, withdraw_traj=True, init_system=True)\n",
    "hleds_simulation_traj2 = hleds_system.trajectory\n",
    "\n",
    "\n",
    "hleds_system.potential.lam = 0.75\n",
    "hleds_system.simulate(steps, withdraw_traj=True, init_system=True)\n",
    "hleds_simulation_traj3 = hleds_system.trajectory"
   ]
  },
  {
   "cell_type": "markdown",
   "metadata": {},
   "source": [
    "### Analysis\n",
    "checkout the sampling"
   ]
  },
  {
   "cell_type": "code",
   "execution_count": null,
   "metadata": {},
   "outputs": [],
   "source": [
    "traj = hleds_simulation_traj.iloc[equilibration_steps:]\n",
    "traj2 = hleds_simulation_traj2.iloc[equilibration_steps:]\n",
    "traj3 = hleds_simulation_traj3.iloc[equilibration_steps:]\n",
    "\n",
    "positions = np.linspace(-10,10, 100)\n",
    "V_A_ene = V_A.ene(positions)\n",
    "V_B_ene = V_B.ene(positions)\n",
    "V_hleds.s = traj.s[equilibration_steps]\n",
    "\n",
    "V_hleds.lam = 0.5\n",
    "eds_ene = V_hleds.ene(positions)\n",
    "V_hleds.lam = 0.25\n",
    "eds_ene1 = V_hleds.ene(positions)\n",
    "V_hleds.lam = 0.75\n",
    "eds_ene2 = V_hleds.ene(positions)\n",
    "\n",
    "traj_pos = list(traj.position)\n",
    "traj_ene = list(traj.total_potential_energy)\n",
    "traj_pos2 = list(traj2.position)\n",
    "traj_ene2 = list(traj2.total_potential_energy)\n",
    "traj_pos3 = list(traj3.position)\n",
    "traj_ene3 = list(traj3.total_potential_energy)\n",
    "\n",
    "fig, ax = plt.subplots(ncols=1, figsize=visualisation.figsize_doubleColumn)\n",
    "ax = list([ax])\n",
    "ax[0].plot(positions, V_A_ene, c=\"grey\", label=\"state A\", zorder=-10,)\n",
    "ax[0].plot(positions, V_B_ene, c=\"black\", label=\"state B\", zorder=-10)\n",
    "ax[0].plot(positions, eds_ene, c=\"C1\", label=\"reference state, $\\lambda$=0.5\", zorder=-10,alpha=0.3)\n",
    "ax[0].plot(positions, eds_ene1, c=\"C0\", label=\"reference state, $\\lambda$=0.25\", zorder=-10,alpha=0.3)\n",
    "ax[0].plot(positions, eds_ene2, c=\"C2\", label=\"reference state, $\\lambda$=0.75\", zorder=-10,alpha=0.3)\n",
    "\n",
    "ax[0].scatter(traj_pos, traj_ene, c=\"C1\",alpha=0.8, label=\"simulation reference state\",s=8)\n",
    "ax[0].scatter(traj_pos2, traj_ene2, c=\"C0\",alpha=0.8, label=\"simulation reference state\",s=8)\n",
    "ax[0].scatter(traj_pos3, traj_ene3, c=\"C2\",alpha=0.8, label=\"simulation reference state\",s=8)\n",
    "\n",
    "ax[0].set_ylim([-0.5,8])\n",
    "ax[0].set_xlim([-5,6])\n",
    "ax[0].set_xlabel(\"r\")\n",
    "ax[0].set_ylabel(\"$V/[kT]$\")\n",
    "\n",
    "ax[0].legend()\n",
    "ax[0].set_title(\"$\\lambda$-EDS\")"
   ]
  },
  {
   "cell_type": "markdown",
   "metadata": {},
   "source": [
    "##### Zwanzig Equation\n",
    "many different free energy calculation methods can by used with $\\lambda$-EDS and a certain sampling strategy.\n",
    "Here we chose the same as for EDS, which should result in a similar free energy difference."
   ]
  },
  {
   "cell_type": "code",
   "execution_count": null,
   "metadata": {},
   "outputs": [],
   "source": [
    "rew_zwanz = threeStateZwanzig(kT=True)\n",
    "zwanz = zwanzigEquation(kT=True)\n",
    "\n",
    "traj_positions = hleds_simulation_traj.position[equilibration_steps:]\n",
    "Vr = hleds_simulation_traj.total_potential_energy[equilibration_steps:]\n",
    "V1 = V_A.ene(traj_positions)\n",
    "V2 = V_B.ene(traj_positions)\n",
    "\n",
    "dF_AB_leds = rew_zwanz.calculate(Vi=V1, Vj=V2, Vr=Vr)\n",
    "\n",
    "print(\"dF \", dF_AB_leds)\n",
    "print(\"deviation: \", dF_AB_leds-dF_AB_expected)\n",
    "\n"
   ]
  },
  {
   "cell_type": "markdown",
   "metadata": {},
   "source": [
    "## Enhanced Sampling with system Coupling\n",
    "Enhanced Sampling is a category for methods, that speed up the sampling of a phase space.\n",
    "These methods can be of course combined with free energy.\n",
    "\n",
    "Here we are going to show two methods, that are:\n",
    "* Conveyor Belt TI - a method using a variable $\\lambda$-coupling approach (~$\\lambda$-dynamics)\n",
    "* RE-EDS - a combination of hamiltonian replica exchange (HRE) and EDS\n",
    "\n",
    "Not covered:\n",
    "* $\\lambda$ - HRE-FEP"
   ]
  },
  {
   "cell_type": "markdown",
   "metadata": {},
   "source": [
    "### Conveyor Belt TI\n",
    "The conveyor belt TI (CVB-TI) is using a similar building on $\\lambda$-dynamics, which allows to run simulations with a changable $\\lambda$-parameter.\n",
    "In CVB-TI multiple replicas are placed onto a conveyor belt, that is accelerated by the derivates of the hamiltonians of each replicas by the $\\lambda$-parameter.\n",
    "This allows for all replicas to sample areas of the $\\lambda$-space or even full rotations of the conveyor belt.\n",
    "\n",
    "#### Build System"
   ]
  },
  {
   "cell_type": "code",
   "execution_count": null,
   "metadata": {},
   "outputs": [],
   "source": [
    "num_replicas = 4\n",
    "trials = simulation_steps_total_per_approach\n",
    "\n",
    "V_perturbed = pot.linearCoupledPotentials(Va=V_A, Vb=V_B)\n",
    "lam_system = perturbedSystem(potential=V_perturbed , sampler=sampler, temperature=temperature)\n",
    "conveyorBelt=cvb.conveyorBelt(capital_lambda=0.0, n_replicas=num_replicas, system=lam_system, build=False)\n"
   ]
  },
  {
   "cell_type": "markdown",
   "metadata": {},
   "source": [
    "#### Simulate\n",
    "here we simulate the conveyorbelt. Every replica does nsteps_between_trials, till the next conveyorbelt rotation update.\n"
   ]
  },
  {
   "cell_type": "code",
   "execution_count": null,
   "metadata": {},
   "outputs": [],
   "source": [
    "conveyorBelt.simulate(trials)\n",
    "cvb_trajs = conveyorBelt.get_trajectories()\n",
    "\n"
   ]
  },
  {
   "cell_type": "markdown",
   "metadata": {},
   "source": [
    "#### Analysis\n",
    "##### Visualize the sampling of $\\lambda$-space\n",
    "First all replica $\\lambda$-trajectories are shown."
   ]
  },
  {
   "cell_type": "code",
   "execution_count": null,
   "metadata": {},
   "outputs": [],
   "source": [
    "fig, axes = plt.subplots(nrows=4,  sharex=True)\n",
    "keys=list(sorted(list(cvb_trajs.keys())))\n",
    "for key in keys:\n",
    "    axes[key].plot(cvb_trajs[key].lam)\n",
    "    axes[key].set_ylabel(\"$\\lambda_\"+str(key+1)+\"$\")\n",
    "    if(key == keys[-1]):    axes[key].set_xlabel(\"$time [steps]$\")\n",
    "    axes[key].set_ylim([0,1])\n",
    "fig.suptitle(\"Conveyor belt replica sampling\", y=1.05)\n",
    "fig.tight_layout()"
   ]
  },
  {
   "cell_type": "markdown",
   "metadata": {},
   "source": [
    "A histogram of the conveyor belt capital $\\lambda$"
   ]
  },
  {
   "cell_type": "code",
   "execution_count": null,
   "metadata": {},
   "outputs": [],
   "source": [
    "import pandas as pd\n",
    "nbins=50\n",
    "mega_traj = pd.concat(list(map(lambda x: x[equilibration_steps:], cvb_trajs.values())), ignore_index=True)\n",
    "\n",
    "plt.figure(figsize=[16,9])\n",
    "p, lam_bins, path = plt.hist(list(sorted(np.unique(mega_traj.lam))), bins=nbins, density=True, histtype=\"step\")\n",
    "plt.xlabel(\"$\\lambda$\")\n",
    "plt.ylabel(\"$p_{density}$\")\n",
    "plt.title(\"Capital $\\lambda$ histogramm\")\n",
    "pass\n"
   ]
  },
  {
   "cell_type": "markdown",
   "metadata": {},
   "source": [
    "##### Visualize the sampling on potential energy functions\n",
    "like before we can map the sampling, retained for the phase-space."
   ]
  },
  {
   "cell_type": "code",
   "execution_count": null,
   "metadata": {},
   "outputs": [],
   "source": [
    "import pandas as pd\n",
    "mega_traj = pd.concat(list(cvb_trajs.values()), ignore_index=True)\n",
    "\n",
    "def find_nearest_bin(array,value):\n",
    "    cbins =[]\n",
    "    for val in value:\n",
    "        idx = np.argmin(np.abs(array-val))\n",
    "        cbins.append(idx)\n",
    "    return cbins\n",
    "\n",
    "discrete_traj = np.array(find_nearest_bin(value=mega_traj.lam[equilibration_steps:], array=lam_bins))\n",
    "\n",
    "fig, axes = plt.subplots(ncols=1, figsize=[16,9])\n",
    "axes = [axes]\n",
    "axes[0].scatter(list(mega_traj.position[equilibration_steps:]), mega_traj.total_potential_energy[equilibration_steps:], c=discrete_traj, cmap=\"tab20\")\n",
    "\n",
    "#State Potentials\n",
    "V_A = pot.harmonicOscillatorPotential(k=k1, x_shift=xoff1, y_shift=yoff1)\n",
    "V_B = pot.harmonicOscillatorPotential(k=k2, x_shift=xoff2, y_shift=yoff2)\n",
    "positions = np.arange(-10,10, 0.2)\n",
    "axes[0].plot(positions, V_A.ene(positions), label=\"state1\", lw=1, color=\"grey\")\n",
    "axes[0].plot(positions, V_B.ene(positions), label=\"state2\", lw=1, color=\"black\")\n",
    "\n",
    "axes[0].legend()\n",
    "axes[0].set_ylim([0,10])\n",
    "axes[0].set_xlim([-8,8])\n",
    "\n",
    "axes[0].set_ylabel(\"V[kT]\")\n",
    "axes[0].set_xlabel(\"r\")\n",
    "axes[0].set_title(\"Conveyor Belt Sampling\")\n"
   ]
  },
  {
   "cell_type": "markdown",
   "metadata": {},
   "source": [
    "##### Calculate Free-Energy with TI"
   ]
  },
  {
   "cell_type": "code",
   "execution_count": null,
   "metadata": {},
   "outputs": [],
   "source": [
    "from scipy import integrate\n",
    "\n",
    "lambda_stat = mega_traj[[\"lam\",\"dhdlam\"]]\n",
    "\n",
    "means_cvb = np.nan_to_num([np.mean(lambda_stat.loc[np.where(discrete_traj==x+1)].dhdlam) for x in range(nbins+1)])\n",
    "std_cvb = np.nan_to_num([np.std(lambda_stat.loc[np.where(discrete_traj==x+1)].dhdlam) for x in range(nbins+1)] )\n",
    "\n",
    "plt.plot(means_cvb)\n",
    "\n",
    "dF_AB_cvb_trapez = integrate.trapz(x=lam_bins, y=means_cvb)\n",
    "dF_AB_err = integrate.trapz(x=means_cvb, y=std_cvb)\n",
    "\n",
    "print()\n",
    "print(\"Expected Result: \", dF_AB_expected)\n",
    "print(\"trapez Rule Result: \", dF_AB_cvb_trapez, \"+-\", dF_AB_err)\n",
    "print()\n",
    "print(\"Difference:\", dF_AB_cvb_trapez - dF_AB_expected)\n"
   ]
  },
  {
   "cell_type": "markdown",
   "metadata": {},
   "source": [
    "### RE-EDS\n",
    "Replica EDS is a combination of HRE and EDS.\n",
    "In the HRE the s-parameter is exchanged and therefore different levels of smoothing are sampled in one simulation approach.\n",
    "This helps with the s-parameter choice, as now a full distribution can be chosen.\n",
    "\n",
    "#### Build System"
   ]
  },
  {
   "cell_type": "code",
   "execution_count": null,
   "metadata": {},
   "outputs": [],
   "source": [
    "#potential\n",
    "V_eds = pot.envelopedPotential(V_is=[V_A,V_B])\n",
    "\n",
    "##System\n",
    "eds_system = edsSystem(sampler=sampler, potential=V_eds, start_position=4, temperature=temperature)\n",
    "\n",
    "##Ensemble\n",
    "##Ensemble Settings:\n",
    "number_of_replica = 10\n",
    "s_values = np.logspace(start=0, stop=-1, num=number_of_replica)\n",
    "steps_between_trials= 20\n",
    "trials=simulation_steps_total_per_approach//steps_between_trials\n",
    "\n",
    "\n",
    "print(\"DO trials: \", trials, \"steps: \", steps_between_trials)\n",
    "ensemble = replica_exchange.replicaExchangeEnvelopingDistributionSampling(system=eds_system, exchange_criterium=None,\n",
    "                                                                          s_range=s_values, steps_between_trials=steps_between_trials)\n",
    "\n",
    "\n",
    "#Visualize\n",
    "positions = np.arange(-10,10, 0.2)\n",
    "fig = plt.figure(figsize=[16,9])\n",
    "\n",
    "for ind,replica in ensemble.replicas.items():\n",
    "    plt.plot(positions,replica.potential.ene(positions), lw=3, label=\"$replica \"+str(ind+1)+\"$\")\n",
    "\n",
    "V_eds.i\n",
    "plt.plot(positions,V_eds.V_is[0].ene(positions), label=\"state1\", lw=1, color=\"grey\")\n",
    "plt.plot(positions,V_eds.V_is[1].ene(positions), label=\"state2\", lw=1, color=\"black\")\n",
    "\n",
    "\n",
    "plt.legend()\n",
    "plt.ylim([-5,10])\n",
    "plt.xlim([-8,8])\n",
    "\n",
    "plt.ylabel(\"V[kT]\")\n",
    "plt.xlabel(\"r\")\n",
    "plt.title(\"Sampled Potentials\")\n"
   ]
  },
  {
   "cell_type": "markdown",
   "metadata": {},
   "source": [
    "#### Simulate"
   ]
  },
  {
   "cell_type": "code",
   "execution_count": null,
   "metadata": {},
   "outputs": [],
   "source": [
    "ensemble.simulate(trials, reset_ensemble=True)\n",
    "reeds_trajs = ensemble.replica_trajectories\n"
   ]
  },
  {
   "cell_type": "markdown",
   "metadata": {},
   "source": [
    "#### Analysis"
   ]
  },
  {
   "cell_type": "code",
   "execution_count": null,
   "metadata": {},
   "outputs": [],
   "source": [
    "\n",
    "positions = np.linspace(-10,10)\n",
    "fig, ax = plt.subplots(ncols=1)\n",
    "keys = sorted(list(reeds_trajs.keys()), reverse=False)\n",
    "\n",
    "positions = np.linspace(-10,10, 100)\n",
    "V_A_ene = V_A.ene(positions)\n",
    "V_B_ene = V_B.ene(positions)\n",
    "\n",
    "ax.plot(positions, V_A_ene, c=\"grey\", zorder=-10,)\n",
    "ax.plot(positions, V_B_ene, c=\"black\", zorder=-10)\n",
    "\n",
    "for traj in keys:\n",
    "    s =  round(ensemble.replicas[traj].s,2)\n",
    "    ax.plot(positions, ensemble.replicas[traj].potential.ene(positions), c=\"grey\", alpha=0.7, zorder=-60)\n",
    "    min_e = np.min(positions)\n",
    "    ax.scatter(reeds_trajs[traj].position[equilibration_steps:], reeds_trajs[traj].total_potential_energy[equilibration_steps:], zorder=-traj, c=\"C\"+str(traj),s=8, label=\"replica s=\"+str(s))\n",
    "\n",
    "ax.set_ylim([-6.5,8])\n",
    "ax.set_xlim([-5,6])\n",
    "ax.set_xlabel(\"r\")\n",
    "ax.set_ylabel(\"$V/[kT]$\")\n",
    "ax.legend()\n",
    "ax.set_title(\"RE-EDS\")"
   ]
  },
  {
   "cell_type": "code",
   "execution_count": null,
   "metadata": {},
   "outputs": [],
   "source": [
    "trajs = ensemble.get_trajectories()\n",
    "\n",
    "positions = np.linspace(-10,10)\n",
    "nrows = 2\n",
    "ncols=len(trajs)//nrows\n",
    "\n",
    "fig, axes = plt.subplots(ncols=ncols, nrows=nrows,  sharex=True, sharey=True)\n",
    "axes=np.concatenate(axes)\n",
    "\n",
    "for ind, (traj, ax) in enumerate(zip(reeds_trajs, axes)):\n",
    "    ax.hist(reeds_trajs[traj].position[equilibration_steps:], bins=50, density=True)\n",
    "    ax.set_xlim([-4,8])\n",
    "    ax.set_title(\"replica\"+str(traj))\n",
    "    if(ind%ncols == 0): ax.set_ylabel(\"$p_{density}$\")\n",
    "    if(ind>=(nrows-1)*ncols): ax.set_xlabel(\"$r$\")\n",
    "\n",
    "\n",
    "fig.tight_layout()"
   ]
  },
  {
   "cell_type": "markdown",
   "metadata": {},
   "source": [
    "#### Visualization of Replica Exchanges\n",
    "here the Exchanges of the different replicas are shown.\n"
   ]
  },
  {
   "cell_type": "code",
   "execution_count": null,
   "metadata": {},
   "outputs": [],
   "source": [
    "\n",
    "stats= ensemble.exchange_information\n",
    "replicas = np.unique(ensemble.exchange_information.replicaID)\n",
    "trials = np.unique(ensemble.exchange_information.nExchange)\n",
    "\n",
    "import itertools as it\n",
    "\n",
    "fig, ax = plt.subplots(ncols=1, figsize=[16,9])\n",
    "\n",
    "replica_positions = {}\n",
    "for replica in replicas:\n",
    "    replica_positions.update({replica: stats.loc[stats.replicaID==replica].replicaPositionI})\n",
    "\n",
    "    x = trials\n",
    "    y = replica_positions[replica]\n",
    "    ax.plot(x,y , label=\"replica_\"+str(replica))\n",
    "\n",
    "#plt.yticks(replicas+1, reversed(replicas+1))\n",
    "ax.set_yticks(ticks=replicas)\n",
    "ax.set_yticklabels(labels=replicas)\n",
    "\n",
    "ax.set_ylabel(\"replica Positions\")\n",
    "ax.set_xlabel(\"trials\")\n",
    "ax.set_title(\"Replica exchange transitions\")\n",
    "if(len(replicas)<10): plt.legend()"
   ]
  },
  {
   "cell_type": "code",
   "execution_count": null,
   "metadata": {},
   "outputs": [],
   "source": [
    "\n",
    "rew_zwanz = threeStateZwanzig(kT=True)\n",
    "zwanz = zwanzigEquation(kT=True)\n",
    "equilibration_steps=10\n",
    "#State Potentials\n",
    "V_A = pot.harmonicOscillatorPotential(k=k1, x_shift=xoff1, y_shift=yoff1) \n",
    "V_B = pot.harmonicOscillatorPotential(k=k2, x_shift=xoff2, y_shift=yoff2)\n",
    "\n",
    "#optimal sampling distribution\n",
    "opt_samp_fraction = [0.5, 0.5]\n",
    "\n",
    "min_mae = 100\n",
    "min_mae_replica = -1\n",
    "\n",
    "dF_AB_RE_EDS_results = []\n",
    "s_vals = []\n",
    "for ind,key in enumerate(reeds_trajs):\n",
    "    s_vals.append(reeds_trajs[key].s[1])\n",
    "    traj_positions = reeds_trajs[key].position[equilibration_steps:]\n",
    "    Vr = reeds_trajs[key].total_potential_energy[equilibration_steps:]\n",
    "    V1 = V_A.ene(traj_positions)\n",
    "    V2 = V_B.ene(traj_positions)\n",
    "    \n",
    "    #dominant state sampling: \n",
    "    min_enes = np.argmin(np.array([V1, V2]).T, axis=1)\n",
    "    unique, counts = np.unique(min_enes, return_counts=True)\n",
    "    norm_counts = counts/len(min_enes)\n",
    "    \n",
    "    MAE_optimal_sampling = np.mean(np.abs(norm_counts-opt_samp_fraction))\n",
    "    if(MAE_optimal_sampling<min_mae):\n",
    "        min_mae = MAE_optimal_sampling\n",
    "        min_mae_replica = key\n",
    "        \n",
    "    dF_AB_RE_EDS_zwanz = rew_zwanz.calculate(Vi=V1, Vj=V2, Vr=Vr)\n",
    "    dF_AB_RE_EDS_results.append(dF_AB_RE_EDS_zwanz)\n",
    "\n",
    "print()\n",
    "print(\"\\tExpected Result: \", dF_AB_expected)\n",
    "print(\"s\\t\\tdF\\t\\tdiff\")\n",
    "print(\"\\n\".join(map(str, [\"\\t\\t\".join(map(str, np.round(x,5))) for x in  zip(s_vals, dF_AB_RE_EDS_results, dF_AB_RE_EDS_results - dF_AB_expected)])))\n",
    "print(\"\\n\\n\\n\")\n"
   ]
  },
  {
   "cell_type": "markdown",
   "metadata": {},
   "source": [
    "## Final Results"
   ]
  },
  {
   "cell_type": "code",
   "execution_count": null,
   "metadata": {},
   "outputs": [],
   "source": [
    "\n",
    "md_str = \"| method | dF  | deviation |\\n\"\n",
    "md_str += \"|---|---|---|\\n\"\n",
    "md_str += \"| analytical   | \"+str(np.round(dF_AB_expected,2))+\"  |   | \\n\"\n",
    "md_str += \"| Zwanzig   | \"+str(np.round(dF_AB_zwanzig,2))+\"  | \"+str(np.round(dF_AB_zwanzig-dF_AB_expected,2))+\" | \\n\"\n",
    "md_str += \"| BAR   | \"+str(np.round(dF_AB_bar,2))+\"  | \"+str(np.round(dF_AB_bar-dF_AB_expected,2))+\" | \\n\"\n",
    "\n",
    "md_str += \"| FEP 10-$\\lambda$ Points   | \"+str(np.round(dF_AB_FEP_10lambda,2))+\"  | \"+str(np.round(dF_AB_FEP_10lambda-dF_AB_expected,2))+\" | \\n\"\n",
    "md_str += \"| TI 10-$\\lambda$ Points  | \"+str(np.round(dF_AB_TI_trapez,2))+\"  | \"+str(np.round(dF_AB_TI_trapez-dF_AB_expected,2))+\" | \\n\"\n",
    "\n",
    "md_str += \"| EDS   | \"+str(np.round(dF_AB_EDS,2))+\"  | \"+str(np.round(dF_AB_EDS-dF_AB_expected,2))+\" | \\n\"\n",
    "md_str += \"| EDS-BAR   | \"+str(np.round(dF_AB_EDS_bar,2))+\"  | \"+str(np.round(dF_AB_EDS_bar-dF_AB_expected,2))+\" | \\n\"\n",
    "md_str += \"| $\\lambda$ EDS   | \"+str(np.round(dF_AB_leds,2))+\"  | \"+str(np.round(dF_AB_leds-dF_AB_expected,2))+\" | \\n\"\n",
    "\n",
    "md_str += \"| conveyor belt TI   | \"+str(np.round(dF_AB_cvb_trapez,2))+\"  | \"+str(np.round(dF_AB_cvb_trapez-dF_AB_expected,2))+\" | \\n\"\n",
    "md_str += \"| RE-DS   | \"+str(np.round(dF_AB_RE_EDS_results[min_mae_replica],2))+\"  | \"+str(np.round(dF_AB_RE_EDS_results[min_mae_replica]-dF_AB_expected,2))+\" | \\n\"\n",
    "\n",
    "\n",
    "from IPython.display import display, Markdown, Latex\n",
    "display(Markdown(md_str))\n"
   ]
  }
 ],
 "metadata": {
  "language_info": {
   "name": "python"
  }
 },
 "nbformat": 4,
 "nbformat_minor": 4
}

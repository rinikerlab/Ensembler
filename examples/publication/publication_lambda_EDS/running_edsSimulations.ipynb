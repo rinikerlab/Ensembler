{
 "cells": [
  {
   "cell_type": "code",
   "execution_count": 1,
   "metadata": {
    "pycharm": {
     "is_executing": true
    }
   },
   "outputs": [],
   "source": [
    "#enveloping potential\n",
    "# simple Example plot Enveloped Potential with two Harmonic Oscilators\n",
    "##Imports:\n",
    "import os, sys as csys, datetime, tempfile\n",
    "import math, numpy as np, pandas as pd\n",
    "import matplotlib.pyplot as plt\n",
    "\n",
    "from tqdm.notebook import tqdm\n",
    "\n",
    "\n",
    "csys.path.append(os.getcwd()+\"/../../..\")\n",
    "\n",
    "#Ensembler\n",
    "import ensembler.potentials.TwoD as pot2D\n",
    "\n",
    "from ensembler.samplers.stochastic import metropolisMonteCarloIntegrator\n",
    "from ensembler.conditions.box_conditions import periodicBoundaryCondition\n",
    "from ensembler.system.basic_system import system\n",
    "\n",
    "import ensembler.visualisation.plotPotentials as exPlot\n",
    "\n",
    "plot_resolution= 1200 # lowRes but fast: 120\n",
    "%matplotlib inline"
   ]
  },
  {
   "cell_type": "code",
   "execution_count": 2,
   "metadata": {
    "pycharm": {
     "name": "#%%\n"
    }
   },
   "outputs": [],
   "source": [
    "#ENERGIES Sampling - CURRENTLY NOT USED!\n",
    "def write_out_etraj(traj, out_path, V1, V2):\n",
    "    visited_positions =  np.array(list(map(np.array, traj.position)))\n",
    "    state1 = V1.ene(visited_positions)\n",
    "    state2 = V2.ene(visited_positions)\n",
    "    Vrenergies = np.array(traj.total_potential_energy)\n",
    "\n",
    "    out_file = open(out_path, \"w\")\n",
    "    out_file.write(\"t\\tV1\\tV2\\tVr\\n\")#HEADER\n",
    "    for t, V1, V2, Vr in zip(traj.index, state1, state2, Vrenergies):\n",
    "        out_file.write(str(t)+\"\\t\"+str(V1)+\"\\t\"+str(V2)+\"\\t\"+str(Vr)+\"\\n\")\n",
    "\n",
    "    out_file.close()"
   ]
  },
  {
   "cell_type": "code",
   "execution_count": 3,
   "metadata": {
    "pycharm": {
     "name": "#%%\n"
    }
   },
   "outputs": [],
   "source": [
    "sys = None\n",
    "def simulate_replicas(out_dir:str, barrier, opt_s, replicas=10, simulation_steps=1000000):\n",
    "    if(not os.path.exists(out_dir)):\n",
    "        os.mkdir(out_dir)\n",
    "    \n",
    "    start_t = datetime.datetime.now()\n",
    "    #Potentials\n",
    "    amplitude = barrier/2\n",
    "    shift  = 90\n",
    "    Eoff = [0,0]\n",
    "    simulation_space =((-180,180), (-180,180))\n",
    "\n",
    "    V1 = pot2D.wavePotential(phase_shift=(shift,shift), multiplicity=(2.0, 2.0), amplitude=(amplitude, amplitude), radians=False)\n",
    "    V2 = pot2D.wavePotential(phase_shift=(0.0, 0.0), multiplicity=(2.0, 2.0), amplitude=(amplitude, amplitude), radians=False)\n",
    "    edsPot = pot2D.envelopedPotential(V_is=[V1, V2], s=1.0, eoff=Eoff)\n",
    "\n",
    "    #exPlot.plot_2D_2State_EDS_potential(eds_pot=edsPot, out_path = out_dir+\"/SimSpace_\"+str(barrier)+\"kT.png\", point_resolution=plot_resolution)\n",
    "\n",
    "    #Simulation Setup\n",
    "    svals = sorted([10, 1, 0.5, 0.25, 0.1, 0.05, 0.025, 0.01]+[opt_s], reverse=True)\n",
    "    ##Build modules\n",
    "    periodic_bound = periodicBoundaryCondition(boundary=simulation_space)\n",
    "    integrator = metropolisMonteCarloIntegrator(fixed_step_size=[1,1], max_iteration_tillAccept=1000, randomness_increase_factor=1) \n",
    "    \n",
    "    ###Build System\n",
    "    sys=system(potential=edsPot, sampler=integrator, conditions=[periodic_bound])\n",
    "    print(sys.potential.V_is[0])\n",
    "    print(\"radians: \", sys.potential.V_is[0].radians)\n",
    "    print(sys.nDimensions, edsPot.constants[edsPot.nDimensions])\n",
    "    print(\"svalue sequence - #s=\"+str(len(svals))+\" \", svals)\n",
    "    \n",
    "    ## SIMULATE\n",
    "    start=0\n",
    "    syst = None\n",
    "    for replica in tqdm(range(start, replicas), desc=\"Replicas: \", leave=False):\n",
    "        ##INIT REPLICA\n",
    "        ###fILE hANDLING\n",
    "        replica_out = out_dir+\"/replica_\"+str(replica)\n",
    "        if(not os.path.exists(replica_out)):\n",
    "            os.mkdir(replica_out)\n",
    "\n",
    "        ## SIMULATE REPLICA\n",
    "        start_sim = datetime.datetime.now()\n",
    "        s_val_posDict = {}  #OUT\n",
    "        for s in tqdm(svals, desc=\"Current Simulation of replica \"+str(replica)+\": \", leave=False):\n",
    "            sys.potential.s = s\n",
    "            cur_state = sys.simulate(simulation_steps, withdraw_traj=True, init_system=True)\n",
    "\n",
    "            s_val_posDict.update({s:sys.trajectory})\n",
    "            traj = sys.trajectory\n",
    "\n",
    "            exPlot.plot_2D_2State_EDS_potential(edsPot, out_path = replica_out+\"/SimSpace_withTraj_\"+str(s)+\"_\"+str(barrier)+\"kT.png\", \n",
    "                                                traj=traj, point_resolution=plot_resolution, space_range=simulation_space)\n",
    "\n",
    "            \n",
    "        end_sim = datetime.datetime.now()\n",
    "        duration_sim = end_sim-start_sim\n",
    "\n",
    "        traj = sys.trajectory\n",
    "\n",
    "        #plotting:\n",
    "        print(\"plotting\")\n",
    "        start_plot = datetime.datetime.now()\n",
    "        \n",
    "        if(replica == 0):\n",
    "            fig = exPlot.plot_2D_2State_EDS_potential_sDependency(sVal_traj_Dict=s_val_posDict, eds_pot=edsPot, space_range=simulation_space,\n",
    "                                                                  plot_trajs=False, out_path=out_dir+\"/s_dependent_sampling_relBarrier_\"+str(barrier)+\"kT.png\",\n",
    "                                                                  point_resolution=plot_resolution),\n",
    "            \n",
    "        fig = exPlot.plot_2D_2State_EDS_potential_sDependency(sVal_traj_Dict=s_val_posDict, eds_pot=edsPot, plot_trajs=True, \n",
    "                                                              out_path=replica_out+\"/s_dependent_sampling_relBarrier_\"+str(barrier)+\"kT_withTraj.png\", \n",
    "                                                              point_resolution=plot_resolution, space_range=simulation_space)\n",
    "        end_plot = datetime.datetime.now()\n",
    "        duration_plot = end_plot-start_plot\n",
    "        \n",
    "        for s in s_val_posDict:\n",
    "            write_out_etraj(traj=s_val_posDict[s], out_path=replica_out+\"/replica_traj_s\"+str(s)+\".dat\", V1=sys.potential.V_is[0], V2=sys.potential.V_is[1])\n",
    "        sys.write_trajectory(replica_out+\"/total_replica_traj.dat\")\n",
    "        \n",
    "\n",
    "    del edsPot, sys, traj \n",
    "    \n",
    "    end_t = datetime.datetime.now()\n",
    "    duration = end_t-start_t\n",
    "    print(\"Done - duration: \", duration)\n",
    "    print(\"Done - simulation duration: \", duration_sim)\n",
    "    print(\"Done - plotting duration: \", duration_plot)\n"
   ]
  },
  {
   "cell_type": "code",
   "execution_count": null,
   "metadata": {
    "pycharm": {
     "name": "#%%\n"
    },
    "scrolled": false,
    "tags": []
   },
   "outputs": [
    {
     "name": "stdout",
     "output_type": "stream",
     "text": [
      "C:\\Users\\benja\\AppData\\Local\\Temp/edsSim\n"
     ]
    },
    {
     "data": {
      "application/vnd.jupyter.widget-view+json": {
       "model_id": "f154402006374bfdbb58acf211eda948",
       "version_major": 2,
       "version_minor": 0
      },
      "text/plain": [
       "HBox(children=(FloatProgress(value=0.0, description='Barrier approaches: ', max=5.0, style=ProgressStyle(descr…"
      ]
     },
     "metadata": {},
     "output_type": "display_data"
    },
    {
     "name": "stdout",
     "output_type": "stream",
     "text": [
      "wavePotential\n",
      "\tStates: 1\n",
      "\tDimensions: 2\n",
      "\n",
      "\tFunctional:\n",
      " \t\tV:\tSum(Matrix([\n",
      "[amp_0*cos(mult_0*(phase_0 + r_0)) + yOff_0],\n",
      "[amp_1*cos(mult_1*(phase_1 + r_1)) + yOff_1]])[i, 0], (i, 0, nDimensions - 1))\n",
      "\t\tdVdpos:\tMatrix([[Sum(Matrix([\n",
      "[-amp_0*mult_0*sin(mult_0*(phase_0 + r_0))],\n",
      "[                                        0]])[i, 0], (i, 0, nDimensions - 1))], [Sum(Matrix([\n",
      "[                                        0],\n",
      "[-amp_1*mult_1*sin(mult_1*(phase_1 + r_1))]])[i, 0], (i, 0, nDimensions - 1))]])\n",
      "\n",
      "\tSimplified Function\n",
      "\t\tV:\tSum(Matrix([\n",
      "[1.25*cos(2.0*r_0 + 3.14159265358979)],\n",
      "[1.25*cos(2.0*r_1 + 3.14159265358979)]])[i, 0], (i, 0, 1))\n",
      "\t\tdVdpos:\tMatrix([[Sum(Matrix([\n",
      "[-2.5*sin(2.0*r_0 + 3.14159265358979)],\n",
      "[                                   0]])[i, 0], (i, 0, 1))], [Sum(Matrix([\n",
      "[                                   0],\n",
      "[-2.5*sin(2.0*r_1 + 3.14159265358979)]])[i, 0], (i, 0, 1))]])\n",
      "\n",
      "\tConstants: \n",
      "\t\tamp_0: \t\t\t1.25\n",
      "\t\tamp_1: \t\t\t1.25\n",
      "\t\tyOff_0: \t\t\t0\n",
      "\t\tyOff_1: \t\t\t0\n",
      "\t\tmult_0: \t\t\t2.0\n",
      "\t\tmult_1: \t\t\t2.0\n",
      "\t\tphase_0: \t\t\t1.5707963267948966\n",
      "\t\tphase_1: \t\t\t1.5707963267948966\n",
      "\t\tnDimensions: \t\t\t2\n",
      "\t\tnStates: \t\t\t1\n",
      "\n",
      "\n",
      "radians:  False\n",
      "2 2\n",
      "svalue sequence - #s=9  [10, 1, 0.5, 0.25, 0.122, 0.1, 0.05, 0.025, 0.01]\n"
     ]
    },
    {
     "data": {
      "application/vnd.jupyter.widget-view+json": {
       "model_id": "",
       "version_major": 2,
       "version_minor": 0
      },
      "text/plain": [
       "HBox(children=(FloatProgress(value=0.0, description='Replicas: ', max=1.0, style=ProgressStyle(description_wid…"
      ]
     },
     "metadata": {},
     "output_type": "display_data"
    },
    {
     "data": {
      "application/vnd.jupyter.widget-view+json": {
       "model_id": "",
       "version_major": 2,
       "version_minor": 0
      },
      "text/plain": [
       "HBox(children=(FloatProgress(value=0.0, description='Current Simulation of replica 0: ', max=9.0, style=Progre…"
      ]
     },
     "metadata": {},
     "output_type": "display_data"
    },
    {
     "name": "stderr",
     "output_type": "stream",
     "text": [
      "Simulation:  Simulation: 100%|██████████| 100000/100000 [28:24<00:00, 58.67it/s]\n",
      "Simulation:  Simulation: 100%|██████████| 100000/100000 [29:24<00:00, 56.67it/s]\n",
      "Simulation:  Simulation: 100%|██████████| 100000/100000 [34:24<00:00, 48.43it/s]\n",
      "Simulation:  Simulation: 100%|██████████| 100000/100000 [24:17<00:00, 68.63it/s]\n",
      "Simulation:  Simulation: 100%|██████████| 100000/100000 [28:37<00:00, 58.21it/s]\n",
      "Simulation:  Simulation: 100%|██████████| 100000/100000 [35:36<00:00, 46.81it/s]\n",
      "Simulation:  Simulation: 100%|██████████| 100000/100000 [36:20<00:00, 45.87it/s]\n",
      "Simulation:  Simulation: 100%|██████████| 100000/100000 [36:28<00:00, 45.69it/s]\n",
      "Simulation:  Simulation: 100%|██████████| 100000/100000 [36:32<00:00, 45.61it/s]\n"
     ]
    },
    {
     "name": "stdout",
     "output_type": "stream",
     "text": [
      "plotting\n",
      "Done - duration:  4:52:45.928419\n",
      "Done - simulation duration:  4:51:29.483127\n",
      "Done - plotting duration:  0:00:49.887139\n",
      "wavePotential\n",
      "\tStates: 1\n",
      "\tDimensions: 2\n",
      "\n",
      "\tFunctional:\n",
      " \t\tV:\tSum(Matrix([\n",
      "[amp_0*cos(mult_0*(phase_0 + r_0)) + yOff_0],\n",
      "[amp_1*cos(mult_1*(phase_1 + r_1)) + yOff_1]])[i, 0], (i, 0, nDimensions - 1))\n",
      "\t\tdVdpos:\tMatrix([[Sum(Matrix([\n",
      "[-amp_0*mult_0*sin(mult_0*(phase_0 + r_0))],\n",
      "[                                        0]])[i, 0], (i, 0, nDimensions - 1))], [Sum(Matrix([\n",
      "[                                        0],\n",
      "[-amp_1*mult_1*sin(mult_1*(phase_1 + r_1))]])[i, 0], (i, 0, nDimensions - 1))]])\n",
      "\n",
      "\tSimplified Function\n",
      "\t\tV:\tSum(Matrix([\n",
      "[2.5*cos(2.0*r_0 + 3.14159265358979)],\n",
      "[2.5*cos(2.0*r_1 + 3.14159265358979)]])[i, 0], (i, 0, 1))\n",
      "\t\tdVdpos:\tMatrix([[Sum(Matrix([\n",
      "[-5.0*sin(2.0*r_0 + 3.14159265358979)],\n",
      "[                                   0]])[i, 0], (i, 0, 1))], [Sum(Matrix([\n",
      "[                                   0],\n",
      "[-5.0*sin(2.0*r_1 + 3.14159265358979)]])[i, 0], (i, 0, 1))]])\n",
      "\n",
      "\tConstants: \n",
      "\t\tamp_0: \t\t\t2.5\n",
      "\t\tamp_1: \t\t\t2.5\n",
      "\t\tyOff_0: \t\t\t0\n",
      "\t\tyOff_1: \t\t\t0\n",
      "\t\tmult_0: \t\t\t2.0\n",
      "\t\tmult_1: \t\t\t2.0\n",
      "\t\tphase_0: \t\t\t1.5707963267948966\n",
      "\t\tphase_1: \t\t\t1.5707963267948966\n",
      "\t\tnDimensions: \t\t\t2\n",
      "\t\tnStates: \t\t\t1\n",
      "\n",
      "\n",
      "radians:  False\n",
      "2 2\n",
      "svalue sequence - #s=9  [10, 1, 0.5, 0.25, 0.1, 0.061, 0.05, 0.025, 0.01]\n"
     ]
    },
    {
     "data": {
      "application/vnd.jupyter.widget-view+json": {
       "model_id": "",
       "version_major": 2,
       "version_minor": 0
      },
      "text/plain": [
       "HBox(children=(FloatProgress(value=0.0, description='Replicas: ', max=1.0, style=ProgressStyle(description_wid…"
      ]
     },
     "metadata": {},
     "output_type": "display_data"
    },
    {
     "data": {
      "application/vnd.jupyter.widget-view+json": {
       "model_id": "",
       "version_major": 2,
       "version_minor": 0
      },
      "text/plain": [
       "HBox(children=(FloatProgress(value=0.0, description='Current Simulation of replica 0: ', max=9.0, style=Progre…"
      ]
     },
     "metadata": {},
     "output_type": "display_data"
    },
    {
     "name": "stderr",
     "output_type": "stream",
     "text": [
      "Simulation:  Simulation: 100%|██████████| 100000/100000 [37:08<00:00, 44.88it/s]\n",
      "Simulation:  Simulation: 100%|██████████| 100000/100000 [37:59<00:00, 43.87it/s]\n",
      "Simulation:  Simulation: 100%|██████████| 100000/100000 [35:28<00:00, 46.98it/s]\n",
      "Simulation:  Simulation: 100%|██████████| 100000/100000 [36:26<00:00, 45.73it/s]\n",
      "Simulation:  Simulation: 100%|██████████| 100000/100000 [36:47<00:00, 45.29it/s]\n",
      "Simulation:  Simulation: 100%|██████████| 100000/100000 [36:55<00:00, 45.13it/s]\n",
      "Simulation:  Simulation: 100%|██████████| 100000/100000 [37:07<00:00, 44.90it/s]\n",
      "Simulation:  Simulation: 100%|██████████| 100000/100000 [37:56<00:00, 43.93it/s]\n",
      "Simulation:  Simulation: 100%|██████████| 100000/100000 [1:11:15<00:00, 23.39it/s]  \n"
     ]
    },
    {
     "name": "stdout",
     "output_type": "stream",
     "text": [
      "plotting\n",
      "Done - duration:  7:02:04.674919\n",
      "Done - simulation duration:  6:08:45.801250\n",
      "Done - plotting duration:  0:51:56.090623\n",
      "wavePotential\n",
      "\tStates: 1\n",
      "\tDimensions: 2\n",
      "\n",
      "\tFunctional:\n",
      " \t\tV:\tSum(Matrix([\n",
      "[amp_0*cos(mult_0*(phase_0 + r_0)) + yOff_0],\n",
      "[amp_1*cos(mult_1*(phase_1 + r_1)) + yOff_1]])[i, 0], (i, 0, nDimensions - 1))\n",
      "\t\tdVdpos:\tMatrix([[Sum(Matrix([\n",
      "[-amp_0*mult_0*sin(mult_0*(phase_0 + r_0))],\n",
      "[                                        0]])[i, 0], (i, 0, nDimensions - 1))], [Sum(Matrix([\n",
      "[                                        0],\n",
      "[-amp_1*mult_1*sin(mult_1*(phase_1 + r_1))]])[i, 0], (i, 0, nDimensions - 1))]])\n",
      "\n",
      "\tSimplified Function\n",
      "\t\tV:\tSum(Matrix([\n",
      "[5.0*cos(2.0*r_0 + 3.14159265358979)],\n",
      "[5.0*cos(2.0*r_1 + 3.14159265358979)]])[i, 0], (i, 0, 1))\n",
      "\t\tdVdpos:\tMatrix([[Sum(Matrix([\n",
      "[-10.0*sin(2.0*r_0 + 3.14159265358979)],\n",
      "[                                    0]])[i, 0], (i, 0, 1))], [Sum(Matrix([\n",
      "[                                    0],\n",
      "[-10.0*sin(2.0*r_1 + 3.14159265358979)]])[i, 0], (i, 0, 1))]])\n",
      "\n",
      "\tConstants: \n",
      "\t\tamp_0: \t\t\t5.0\n",
      "\t\tamp_1: \t\t\t5.0\n",
      "\t\tyOff_0: \t\t\t0\n",
      "\t\tyOff_1: \t\t\t0\n",
      "\t\tmult_0: \t\t\t2.0\n",
      "\t\tmult_1: \t\t\t2.0\n",
      "\t\tphase_0: \t\t\t1.5707963267948966\n",
      "\t\tphase_1: \t\t\t1.5707963267948966\n",
      "\t\tnDimensions: \t\t\t2\n",
      "\t\tnStates: \t\t\t1\n",
      "\n",
      "\n",
      "radians:  False\n",
      "2 2\n",
      "svalue sequence - #s=9  [10, 1, 0.5, 0.25, 0.1, 0.05, 0.03, 0.025, 0.01]\n"
     ]
    },
    {
     "data": {
      "application/vnd.jupyter.widget-view+json": {
       "model_id": "d7d9765f04814a7ab8c34d804be86d30",
       "version_major": 2,
       "version_minor": 0
      },
      "text/plain": [
       "HBox(children=(FloatProgress(value=0.0, description='Replicas: ', max=1.0, style=ProgressStyle(description_wid…"
      ]
     },
     "metadata": {},
     "output_type": "display_data"
    },
    {
     "data": {
      "application/vnd.jupyter.widget-view+json": {
       "model_id": "0a4966acfd03450bbb3d108aa5c11313",
       "version_major": 2,
       "version_minor": 0
      },
      "text/plain": [
       "HBox(children=(FloatProgress(value=0.0, description='Current Simulation of replica 0: ', max=9.0, style=Progre…"
      ]
     },
     "metadata": {},
     "output_type": "display_data"
    },
    {
     "name": "stderr",
     "output_type": "stream",
     "text": [
      "Simulation:  Simulation: 100%|██████████| 100000/100000 [1:55:53<00:00, 14.38it/s]  \n",
      "Simulation:  Simulation: 100%|██████████| 100000/100000 [1:21:10<00:00, 20.53it/s]   \n",
      "Simulation:  Simulation:  17%|█▋        | 17114/100000 [02:55<19:15, 71.74it/s] "
     ]
    }
   ],
   "source": [
    "#run multiple replicas\n",
    "tmp_dir = tempfile.gettempdir()+\"/edsSim\"\n",
    "if(not os.path.exists(tmp_dir)):\n",
    "    os.mkdir(tmp_dir)\n",
    "os.chdir(tmp_dir)\n",
    "\n",
    "print(tmp_dir)\n",
    "\n",
    "\n",
    "#BUILD Potential:\n",
    "#params:\n",
    "replicas = 1#0\n",
    "\n",
    "##STEPS\n",
    "each_sim = 100000#0 #1000 000 #each s value and each replica\n",
    "\n",
    "#s_est = 0.609/Delta U_barrier\n",
    "optimal_ses = {2.5: 0.122,\n",
    "               5: 0.061,\n",
    "               10: 0.03,\n",
    "               20: 0.03, #0.015\n",
    "               50: 0.006}\n",
    "\n",
    "\n",
    "for barrier in tqdm(optimal_ses, desc=\"Barrier approaches: \"):\n",
    "    approach_dir = tmp_dir+\"/independent_simulations_with_\"+str(barrier)+\"kT_barriers\"\n",
    "    simulate_replicas(out_dir=approach_dir, barrier=barrier, opt_s=optimal_ses[barrier], replicas=replicas, simulation_steps=each_sim)\n",
    "\n"
   ]
  },
  {
   "cell_type": "code",
   "execution_count": null,
   "metadata": {},
   "outputs": [],
   "source": []
  }
 ],
 "metadata": {
  "kernelspec": {
   "display_name": "Python 3.7.7 64-bit ('EnsemblerDev': conda)",
   "language": "python",
   "name": "python37764bitensemblerdevcondaa4593ef55eeb4c19ab962e621795cac3"
  },
  "language_info": {
   "codemirror_mode": {
    "name": "ipython",
    "version": 3
   },
   "file_extension": ".py",
   "mimetype": "text/x-python",
   "name": "python",
   "nbconvert_exporter": "python",
   "pygments_lexer": "ipython3",
   "version": "3.7.7"
  }
 },
 "nbformat": 4,
 "nbformat_minor": 4
}

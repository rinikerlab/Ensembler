{
 "cells": [
  {
   "cell_type": "code",
   "execution_count": null,
   "metadata": {},
   "outputs": [],
   "source": [
    "#enveloping potential\n",
    "# simple Example plot Enveloped Potential with two Harmonic Oscilators\n",
    "##Imports:\n",
    "###If not installed:\n",
    "import os, sys\n",
    "sys.path.append(os.getcwd()+\"/../../..\")\n",
    "\n",
    "import numpy as np\n",
    "import ensembler.potentials.TwoD as pot2D\n",
    "import ensembler.potentials.ND as potND\n",
    "\n",
    "import ensembler.visualisation.plotPotentials as exPlot\n",
    "\n",
    "point_resolution = 250 # if you want to save time use: 120\n",
    "%pylab inline"
   ]
  },
  {
   "cell_type": "markdown",
   "metadata": {},
   "source": [
    "# BUILD POTENTIAL\n",
    "\n",
    "Here we define the two states, we want to use during our simulations."
   ]
  },
  {
   "cell_type": "code",
   "execution_count": null,
   "metadata": {},
   "outputs": [],
   "source": [
    "# Settings\n",
    "barrier = 50 #kT - minimal barrier in system\n",
    "amplitude = barrier/2\n",
    "shift  = 0.5*np.pi \n",
    "\n",
    "#System States\n",
    "V1 = pot2D.wavePotential(phase_shift=(shift,shift), multiplicity=(2.0, 2.0), amplitude=(amplitude, amplitude), radians=True)\n",
    "V2 = pot2D.wavePotential(phase_shift=(0.0, 0.0), multiplicity=(2.0, 2.0), amplitude=(amplitude, amplitude), radians=True)\n",
    "\n"
   ]
  },
  {
   "cell_type": "code",
   "execution_count": null,
   "metadata": {},
   "outputs": [],
   "source": [
    "#Visualisation\n",
    "fig = exPlot.plot_2D_2states(V1, V2, space_range=[(-np.pi, np.pi), (-np.pi,np.pi)], point_resolution=point_resolution)"
   ]
  },
  {
   "cell_type": "markdown",
   "metadata": {},
   "source": [
    "Next we are going to couple them in an EDS potential."
   ]
  },
  {
   "cell_type": "code",
   "execution_count": null,
   "metadata": {},
   "outputs": [],
   "source": [
    "Eoff = [0,0]\n",
    "s= 1.0\n",
    "edsPot = potND.envelopedPotential(V_is=[V1, V2], s=s, eoff=Eoff)\n",
    "print(edsPot)\n"
   ]
  },
  {
   "cell_type": "code",
   "execution_count": null,
   "metadata": {},
   "outputs": [],
   "source": [
    "fig = exPlot.plot_2D_2State_EDS_potential(eds_pot=edsPot,  point_resolution=point_resolution)"
   ]
  },
  {
   "cell_type": "markdown",
   "metadata": {},
   "source": [
    "In this plot we show, the s dependency."
   ]
  },
  {
   "cell_type": "code",
   "execution_count": null,
   "metadata": {},
   "outputs": [],
   "source": [
    "fig = exPlot.plot_2D_2State_EDS_potential(eds_pot=edsPot, s=0.025, point_resolution=point_resolution)"
   ]
  },
  {
   "cell_type": "markdown",
   "metadata": {},
   "source": [
    "# smoothing parameter dependency\n",
    "Next we want to show how  the EDS Potentials are behaving on changing the smoothing parameter s."
   ]
  },
  {
   "cell_type": "code",
   "execution_count": null,
   "metadata": {},
   "outputs": [],
   "source": [
    "s_values = {np.round(s,3):[] for s in np.logspace(1,-3, 10)}\n",
    "fig = exPlot.plot_2D_2State_EDS_potential_sDependency(sVal_traj_Dict=s_values, eds_pot=edsPot, point_resolution=point_resolution)\n"
   ]
  },
  {
   "cell_type": "code",
   "execution_count": null,
   "metadata": {},
   "outputs": [],
   "source": []
  },
  {
   "cell_type": "code",
   "execution_count": null,
   "metadata": {},
   "outputs": [],
   "source": []
  }
 ],
 "metadata": {
  "language_info": {
   "name": "python"
  }
 },
 "nbformat": 4,
 "nbformat_minor": 4
}

{
 "cells": [
  {
   "cell_type": "code",
   "execution_count": 1,
   "metadata": {
    "jupyter": {
     "outputs_hidden": false
    },
    "pycharm": {
     "name": "#%%\n"
    }
   },
   "outputs": [],
   "source": [
    "#enveloping potential\n",
    "# simple Example plot Enveloped Potential with two Harmonic Oscilators\n",
    "##Imports:\n",
    "import os, sys as csys, datetime, tempfile\n",
    "import math, numpy as np, pandas as pd\n",
    "import scipy.constants as const\n",
    "\n",
    "import matplotlib.pyplot as plt\n",
    "\n",
    "from tqdm.notebook import tqdm\n",
    "\n",
    "\n",
    "csys.path.append(os.getcwd()+\"/../../..\")\n",
    "\n",
    "#Ensembler\n",
    "import ensembler.potentials.TwoD as pot2D\n",
    "\n",
    "from ensembler.samplers.stochastic import metropolisMonteCarloIntegrator\n",
    "from ensembler.conditions.box_conditions import periodicBoundaryCondition\n",
    "from ensembler.system.basic_system import system\n",
    "\n",
    "import ensembler.visualisation.plotPotentials as exPlot\n",
    "\n",
    "%matplotlib inline"
   ]
  },
  {
   "cell_type": "code",
   "execution_count": 2,
   "metadata": {
    "jupyter": {
     "outputs_hidden": false
    },
    "pycharm": {
     "name": "#%%\n"
    }
   },
   "outputs": [],
   "source": [
    "#ENERGIES Sampling\n",
    "def write_out_etraj(traj, out_path, V1, V2):\n",
    "    visited_positions =  np.array(list(map(np.array, traj.position)))\n",
    "    state1 = V1.ene(visited_positions)\n",
    "    state2 = V2.ene(visited_positions)\n",
    "    Vrenergies = np.array(traj.total_potential_energy)\n",
    "\n",
    "    out_file = open(out_path, \"w\")\n",
    "    out_file.write(\"t\\tV1\\tV2\\tVr\\n\")#HEADER\n",
    "    for t, V1, V2, Vr in zip(traj.index, state1, state2, Vrenergies):\n",
    "        out_file.write(str(t)+\"\\t\"+str(V1)+\"\\t\"+str(V2)+\"\\t\"+str(Vr)+\"\\n\")\n",
    "\n",
    "    out_file.close()"
   ]
  },
  {
   "cell_type": "code",
   "execution_count": 3,
   "metadata": {},
   "outputs": [],
   "source": [
    "    \n",
    "#METROPOLIS CRITERION\n",
    "##random part of Metropolis Criterion:\n",
    "_defaultRandomness = lambda V1, V2: (np.random.rand() <= np.exp(-1.0 / (const.gas_constant / 1000.0 * 298) * (V1 - V2))) #pseudocount  for equal energies\n",
    "##default Metropolis Criterion\n",
    "_defaultMetropolisCriterion = lambda V1, V2: (V1 < V2 or _defaultRandomness(V1, V2))\n",
    "\n",
    "    \n",
    "def MC_exchange(sys1, sys2):\n",
    "    s1 = sys1.potential.s\n",
    "    s2 = sys2.potential.s\n",
    "\n",
    "    V1_s1 = sys1.potential.ene(sys1._currentPosition)\n",
    "\n",
    "    V2_s2 = sys2.potential.ene(sys2._currentPosition)\n",
    "\n",
    "    sys1.potential.s = s2\n",
    "    V1_s2 = sys1.potential.ene(sys1._currentPosition)\n",
    "\n",
    "    sys2.potential.s = s1\n",
    "    V2_s1 = sys2.potential.ene(sys2._currentPosition)\n",
    "\n",
    "    sys1.potential.s = s1\n",
    "    sys2.potential.s = s2\n",
    "\n",
    "    exchange = _defaultMetropolisCriterion((V2_s1+V1_s2),(V1_s1+V2_s2))\n",
    "    return exchange"
   ]
  },
  {
   "cell_type": "code",
   "execution_count": 4,
   "metadata": {
    "jupyter": {
     "outputs_hidden": false
    },
    "pycharm": {
     "name": "#%%\n"
    }
   },
   "outputs": [],
   "source": [
    "#Simulation Setup\n",
    "##Build System\n",
    "periodic_bound = periodicBoundaryCondition(boundary=[[-180,180], [-180,180]])\n",
    "integrator = metropolisMonteCarloIntegrator(fixed_step_size=[1,1], max_iteration_tillAccept=1000)\n",
    "\n",
    "\n",
    "##STEPS\n",
    "replicas = 10\n",
    "each_sim = 200 #steps between trials\n",
    "trials = 1000  #exchange attempts\n",
    "\n",
    "#s_est = 0.609/Delta U_barrier\n",
    "optimal_ses = {2.5: 0.122,\n",
    "               5: 0.061,\n",
    "               10: 0.03,\n",
    "               20: 0.03, #0.015\n",
    "               50: 0.006}\n",
    "\n",
    "initial_position = None\n",
    "\n"
   ]
  },
  {
   "cell_type": "code",
   "execution_count": null,
   "metadata": {
    "jupyter": {
     "outputs_hidden": false
    },
    "pycharm": {
     "name": "#%%\n"
    },
    "tags": []
   },
   "outputs": [
    {
     "name": "stdout",
     "output_type": "stream",
     "text": [
      "C:\\Users\\benja\\AppData\\Local\\Temp/edsSim/re_eds_simulation\n"
     ]
    },
    {
     "data": {
      "application/vnd.jupyter.widget-view+json": {
       "model_id": "211a4e6277884c73afc5b9ba73ae02eb",
       "version_major": 2,
       "version_minor": 0
      },
      "text/plain": [
       "HBox(children=(FloatProgress(value=0.0, description='Barrier: ', max=5.0, style=ProgressStyle(description_widt…"
      ]
     },
     "metadata": {},
     "output_type": "display_data"
    },
    {
     "data": {
      "application/vnd.jupyter.widget-view+json": {
       "model_id": "7003bfa2e9ed4b15b2d1b6333f8237f6",
       "version_major": 2,
       "version_minor": 0
      },
      "text/plain": [
       "HBox(children=(FloatProgress(value=0.0, description='Replicas: ', max=10.0, style=ProgressStyle(description_wi…"
      ]
     },
     "metadata": {},
     "output_type": "display_data"
    },
    {
     "data": {
      "application/vnd.jupyter.widget-view+json": {
       "model_id": "dd049327dbdf4fd2a22d314d4b8c8af6",
       "version_major": 2,
       "version_minor": 0
      },
      "text/plain": [
       "HBox(children=(FloatProgress(value=0.0, description='Current Simulation of replica 0: ', max=1000.0, style=Pro…"
      ]
     },
     "metadata": {},
     "output_type": "display_data"
    }
   ],
   "source": [
    "#run multiple replicas\n",
    "root_tmp_dir = tempfile.gettempdir()+\"/edsSim\"\n",
    "if(not os.path.exists(root_tmp_dir)):\n",
    "    os.mkdir(root_tmp_dir)\n",
    "os.chdir(root_tmp_dir)\n",
    "\n",
    "tmp_dir = root_tmp_dir+\"/re_eds_simulation\"\n",
    "if(not os.path.exists(tmp_dir)):\n",
    "    os.mkdir(tmp_dir)\n",
    "os.chdir(tmp_dir)\n",
    "\n",
    "print(tmp_dir)\n",
    "\n",
    "\n",
    "for barrier in tqdm(optimal_ses, desc=\"Barrier: \"):\n",
    "    approach_dir = tmp_dir+\"/simulation_with_\"+str(barrier)+\"kt_barrier\"\n",
    "    if(not os.path.exists(approach_dir)): os.mkdir(approach_dir)\n",
    "\n",
    "\n",
    "    start_t = datetime.datetime.now()\n",
    "    \n",
    "    #build potential\n",
    "    amplitude = barrier/2\n",
    "    shift  = 90#np.rad2deg(0.5*math.pi)\n",
    "    Eoff = [0,0]\n",
    "    simulation_space =((-180,180), (-180,180))\n",
    "\n",
    "    V1 = pot2D.wavePotential(phase_shift=(shift,shift), multiplicity=(2.0, 2.0), amplitude=(amplitude, amplitude), radians=False)\n",
    "    V2 = pot2D.wavePotential(phase_shift=(0.0, 0.0), multiplicity=(2.0, 2.0), amplitude=(amplitude, amplitude), radians=False)\n",
    "    edsPot1 = pot2D.envelopedPotential(V_is=[V1, V2], s=1.0, eoff=Eoff)\n",
    "    edsPot2 = pot2D.envelopedPotential(V_is=[V1, V2], s=1.0, eoff=Eoff)\n",
    "    \n",
    "    \n",
    "    start=0\n",
    "    syst = None\n",
    "    for replica in tqdm(range(start, replicas), desc=\"Replicas: \"):\n",
    "        ##INIT REPLICA\n",
    "        ###fILE hANDLING\n",
    "        replica_out = approach_dir+\"/replica_\"+str(replica)\n",
    "        if(not os.path.exists(replica_out)):\n",
    "            os.mkdir(replica_out)\n",
    "\n",
    "        ###Build System\n",
    "        sys1=system(potential=edsPot1, sampler=integrator, conditions=[periodic_bound])\n",
    "        sys2=system(potential=edsPot2, sampler=integrator, conditions=[periodic_bound])\n",
    "\n",
    "        sys1.potential.s = 0.5\n",
    "        sys2.potential.s = 0.01\n",
    "\n",
    "        ## SIMULATE REPLICA\n",
    "        start_sim = datetime.datetime.now()\n",
    "        s_val_posDict = {}  #OUT\n",
    "        current_s_index = 0\n",
    "        current_s_direction = 1\n",
    "\n",
    "        for trial in tqdm(range(trials), desc=\"Current Simulation of replica \"+str(replica)+\": \",):\n",
    "            cur_state1 = sys1.simulate(each_sim, withdraw_traj=False, verbosity=False)\n",
    "            cur_state2 = sys2.simulate(each_sim, withdraw_traj=False, verbosity=False)\n",
    "\n",
    "            if(MC_exchange(sys1, sys2)):\n",
    "                sys1._currentPosition = cur_state2.position\n",
    "                sys2._currentPosition = cur_state1.position\n",
    "            else:\n",
    "                pass\n",
    "\n",
    "        s_val_posDict.update({sys2.potential.s[0] : sys2.trajectory})\n",
    "        s_val_posDict.update({sys1.potential.s[0] : sys1.trajectory})\n",
    "\n",
    "        end_sim = datetime.datetime.now()\n",
    "        duration_sim = end_sim-start_sim\n",
    "\n",
    "        #plotting:\n",
    "        print(\"ploting\")\n",
    "        start_plot = datetime.datetime.now()\n",
    "        fig = exPlot.plot_2D_2State_EDS_potential_sDependency(s_val_posDict, eds_pot=edsPot1, \n",
    "                                                              plot_trajs=True, space_range=simulation_space,\n",
    "                                                              out_path=replica_out+\"/s_dependent_sampling_relBarrier_\"+str(barrier)+\"kT_withTraj.png\")\n",
    "        end_plot = datetime.datetime.now()\n",
    "        duration_plot = end_plot-start_plot\n",
    "\n",
    "        for s in s_val_posDict:\n",
    "            write_out_etraj(traj=s_val_posDict[s], out_path=replica_out+\"/replica_traj_s\"+str(s)+\".dat\", \n",
    "                            V1=sys1.potential.V_is[0], V2=sys1.potential.V_is[1])\n",
    "        #del sys1, sys2\n",
    "        break\n",
    "\n",
    "\n",
    "    end_t = datetime.datetime.now()\n",
    "    duration = end_t-start_t\n",
    "    print(\"Done - duration: \", duration)\n",
    "    print(\"Done - simulation duration: \", duration_sim)\n",
    "    print(\"Done - plotting duration: \", duration_plot)\n",
    "\n",
    "print(root_tmp_dir)"
   ]
  },
  {
   "cell_type": "code",
   "execution_count": null,
   "metadata": {
    "jupyter": {
     "outputs_hidden": false
    },
    "pycharm": {
     "name": "#%%\n"
    },
    "tags": []
   },
   "outputs": [],
   "source": [
    "print(root_tmp_dir)\n"
   ]
  },
  {
   "cell_type": "code",
   "execution_count": null,
   "metadata": {},
   "outputs": [],
   "source": [
    "sys1"
   ]
  },
  {
   "cell_type": "code",
   "execution_count": null,
   "metadata": {},
   "outputs": [],
   "source": [
    "sys1.trajectory.head()"
   ]
  },
  {
   "cell_type": "code",
   "execution_count": null,
   "metadata": {},
   "outputs": [],
   "source": []
  }
 ],
 "metadata": {
  "kernelspec": {
   "display_name": "Python 3",
   "language": "python",
   "name": "python3"
  },
  "language_info": {
   "codemirror_mode": {
    "name": "ipython",
    "version": 3
   },
   "file_extension": ".py",
   "mimetype": "text/x-python",
   "name": "python",
   "nbconvert_exporter": "python",
   "pygments_lexer": "ipython3",
   "version": "3.7.7"
  }
 },
 "nbformat": 4,
 "nbformat_minor": 4
}

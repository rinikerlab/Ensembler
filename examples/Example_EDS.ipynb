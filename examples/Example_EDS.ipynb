{
 "cells": [
  {
   "cell_type": "code",
   "execution_count": null,
   "metadata": {},
   "outputs": [],
   "source": [
    "#install Ensembler if needed\n",
    "try:\n",
    "  import ensembler\n",
    "except:\n",
    "  ! pip install ensembler-rinikerlab"
   ]
  },
  {
   "cell_type": "markdown",
   "metadata": {},
   "source": [
    "# EDS Simulation\n",
    "In this example/tutorial we want to elaborated on enveloping distribution sampling (EDS) and how it can be used to calculate relative free energies.\n",
    "\n",
    "\n",
    "Content:\n",
    " * Constructing the reference state\n",
    " * Sampling the reference state\n",
    " * Calculating the free energies\n",
    " \n",
    " Maintainers: [@SchroederB](https://https://github.com/SchroederB), [@linkerst](https://https://github.com/linkerst), [@dfhahn](https://https://github.com/dfhahn)\n"
   ]
  },
  {
   "cell_type": "code",
   "execution_count": null,
   "metadata": {},
   "outputs": [],
   "source": [
    "#Imports:\n",
    "import numpy as np\n",
    "from matplotlib import pylab as plt\n",
    "\n",
    "#import Ensembler\n",
    "from ensembler.potentials import OneD as pot\n",
    "\n",
    "##Imports:\n",
    "import ensembler.visualisation.plotPotentials as exPlot\n"
   ]
  },
  {
   "cell_type": "markdown",
   "metadata": {},
   "source": [
    "## The Problem\n",
    "For our EDS Tutorial we assume that we have a two atom molecule with one bond.\n",
    "We want to know what happens if this bond is changing to another bond type.\n",
    "\n",
    "The two bond types will be modelled as harmonic oscillators according to hooke's law:\n",
    "\n",
    "$V_i(r) = 0.5 k_i (r - r_{0_i})^2 + V_{offset_i}$\n",
    "\n",
    "With:\n",
    " * $V_{offset_i}$ as the shift of the minimal energy of Bond type i\n",
    " * $k_i$ as the force constant of Bond type i\n",
    " * $r_{0_i}$ the optimal length of Bond type i\n",
    "\n",
    "A bond type change translates to a change in optimal length, a different minimum energy and a different force constant.\n",
    "\n",
    "We are interested in two particular bond types A and B, which are defined as follows:\n"
   ]
  },
  {
   "cell_type": "code",
   "execution_count": null,
   "metadata": {},
   "outputs": [],
   "source": [
    "test_timing_with_points=100\n",
    "positions = np.linspace(-10, 10, test_timing_with_points)\n",
    "\n",
    "V_offset_A = 0\n",
    "r_0_A = -2\n",
    "k_A = 1\n",
    "\n",
    "V_offset_B = 0.5\n",
    "r_0_B = 2\n",
    "k_B = 0.7\n",
    "\n",
    "V_A = pot.harmonicOscillatorPotential(x_shift=r_0_A, y_shift=V_offset_A, k=k_A)\n",
    "V_B = pot.harmonicOscillatorPotential(x_shift=r_0_B, y_shift=V_offset_B, k=k_B)\n",
    "\n",
    "fig,ax = plt.subplots(ncols=1)\n",
    "ax.plot(positions, V_A.ene(positions), c=\"grey\", lw=3, zorder=-1, label=\"$V_A$\")\n",
    "ax.plot(positions, V_B.ene(positions), c=\"black\", lw=3, zorder=-1, label=\"$V_B$\")\n",
    "ax.set_ylim([0,5])"
   ]
  },
  {
   "cell_type": "markdown",
   "metadata": {},
   "source": [
    "## The Reference Potential\n",
    "The method EDS is building in its first step a Reference Potential $V_R$, leading to the reference state R enveloping all endstates of interest.\n"
   ]
  },
  {
   "cell_type": "markdown",
   "metadata": {},
   "source": [
    "### Building an EDS Potential\n",
    "To build our $V_R$, one needs to construct:\n",
    "\n",
    "$V_R(r, s, E^R) = \\frac{-1}{\\beta s} \\ln(e^{-\\beta s (V_A(r) - E^R_A)}+e^{-\\beta s (V_B(r) - E^R_B)})$\n",
    "\n",
    "With:\n",
    " * $s$ as the smoothing parameter\n",
    " * $E^R$ as the energy offset vector\n",
    "\n",
    "Which is done in the following:"
   ]
  },
  {
   "cell_type": "code",
   "execution_count": null,
   "metadata": {},
   "outputs": [],
   "source": [
    "\n",
    "V_R = pot.envelopedPotential(V_is=[V_A,V_B], s=1, eoff=[0,0])\n",
    "print(\"V_R of our system:\\n \", V_R.V)\n",
    "\n",
    "print(\"\\ncalculate \"+str(len(positions))+\" positions - time check\")\n",
    "%time V_R.ene(positions)\n",
    "\n",
    "print(\"\\nVisualization\")\n",
    "#Plotting\n",
    "fig,ax = plt.subplots(ncols=1)\n",
    "ax.plot(positions, V_R.ene(positions), label=\"$V_R$\")\n",
    "ax.plot(positions, V_A.ene(positions), c=\"grey\", lw=3, zorder=-1, label=\"$V_A$\")\n",
    "ax.plot(positions, V_B.ene(positions), c=\"black\", lw=3, zorder=-1, label=\"$V_B$\")\n",
    "ax.set_ylim([-0.2,5])\n",
    "ax.set_ylabel(\"$V~[k_b T]$ \")\n",
    "ax.set_xlabel(\"$r~[1]$ \")\n",
    "ax.set_title(\"Reference Potential\")\n",
    "ax.legend()"
   ]
  },
  {
   "cell_type": "markdown",
   "metadata": {},
   "source": [
    "Note that both potentials are enveloped by $V_R$ and that all minimas are preserved."
   ]
  },
  {
   "cell_type": "markdown",
   "metadata": {},
   "source": [
    "### What are the parameters for in EDS?"
   ]
  },
  {
   "cell_type": "markdown",
   "metadata": {},
   "source": [
    "#### $E^R$ -  Energy Offsets\n",
    "\n",
    "With the energy  offsets the different states minimas can be aligned to each other.\n",
    "This is of important if the reference potential is sampled as better aligned potentials allow better sampling of all states. We will see this later in the sampling section.\n",
    "\n",
    "But how do we get good energy offsets?\n",
    "A problem with the energy offsets is, that they are actually very close to the final resulting dG.\n",
    "Therefore we have a hen-egg problem.\n",
    "Usually one uses a cheaper technique to estimate the free energy offsets and uses these less accurate estimates to calculate a better one.\n"
   ]
  },
  {
   "cell_type": "code",
   "execution_count": null,
   "metadata": {},
   "outputs": [],
   "source": [
    "##Construct potential\n",
    "s=1\n",
    "Eoffs=[(0, -1), (0, 0), (0, 1), (0, 2)]\n",
    "\n",
    "##Parameters\n",
    "svals= np.logspace(0,-0.5, num=5)\n",
    "positions = np.linspace(-10,10, 500)\n",
    "\n",
    "##Plot\n",
    "fig,ax = plt.subplots(ncols=1)\n",
    "ax.plot(positions, V_A.ene(positions), c=\"grey\", lw=3, zorder=-1)\n",
    "ax.plot(positions, V_B.ene(positions), c=\"black\", lw=3, zorder=-1)\n",
    "\n",
    "for eoff in Eoffs:\n",
    "    V_R.Eoff = eoff\n",
    "    ax.plot(positions, V_R.ene(positions), label=\"$\\Delta Eoff=\"+str(eoff[1])+\"$\")\n",
    "\n",
    "ax.set_ylim([-2,5])\n",
    "ax.set_xlim([-5,8])\n",
    "\n",
    "ax.set_title(\"Eoff-Dependency of Reference State\")\n",
    "ax.set_ylabel(\"$V~[k_b T]$ \")\n",
    "ax.set_xlabel(\"$r~[1]$ \")\n",
    "ax.legend()\n",
    "\n",
    "V_R.Eoff = (0,0)"
   ]
  },
  {
   "cell_type": "markdown",
   "metadata": {},
   "source": [
    "#### $s$ Smoothing Parameter\n",
    "\n",
    "The smoothing parameter s is used to lower the barriers between the different states (here A and B).\n",
    "\n",
    "We usually consider $s~=~1$ as a physical resonable s-value. Values higher than $s~=~1$ are raising the barrier between the two states, until they converge to the state intersection.\n",
    "\n",
    "The more interesting s-values are between $0$ and $1$.\n",
    "These values are lowering the barrier between the states till a certain optimal s value.\n",
    "If the s-value is passed, lower s-values lead to a global minimum called undersampling.\n",
    "Undersampling is an artificial state that is not a good state for sampling physical reasonable coordinates for all states.\n",
    "\n",
    "Therefore one must find a feasible s-value to sample all states optimally.\n",
    "\n",
    "Bonus: negative s-values lead to an reference state only covering the overlap of the different states. You can try it out if you dare. ;)\n",
    "\n",
    "\n"
   ]
  },
  {
   "cell_type": "code",
   "execution_count": null,
   "metadata": {},
   "outputs": [],
   "source": [
    "##Construct potential\n",
    "s=1\n",
    "Eoffs=(0, 0)\n",
    "\n",
    "##Parameters\n",
    "svals= [ 10,2]+list(np.logspace(0,-0.6, num=5))\n",
    "\n",
    "##Plot\n",
    "fig,ax = plt.subplots(ncols=1)\n",
    "ax.plot(positions, V_A.ene(positions), c=\"grey\", lw=3, zorder=-1)\n",
    "ax.plot(positions, V_B.ene(positions), c=\"black\", lw=3, zorder=-1)\n",
    "\n",
    "for s in svals:\n",
    "    V_R.s = s\n",
    "    ax.plot(positions, V_R.ene(positions), label=\"$s= \"+str(np.round(s,2))+\"$\")\n",
    "\n",
    "ax.set_ylim([-2,5])\n",
    "ax.set_xlim([-5,8])\n",
    "\n",
    "ax.set_title(\"S-Dependency of Reference State\")\n",
    "ax.set_ylabel(\"$V~[k_b T]$ \")\n",
    "ax.set_xlabel(\"$r~[1]$ \")\n",
    "ax.legend()\n",
    "\n",
    "V_R.s = 1.0"
   ]
  },
  {
   "cell_type": "markdown",
   "metadata": {},
   "source": [
    "### interactive example\n",
    "Here you can play around with the reference state of multiple harmonic oscillators and the parameters.\n",
    "\n",
    "Sometimes the cell below must be executed multiple times to work properly."
   ]
  },
  {
   "cell_type": "code",
   "execution_count": null,
   "metadata": {},
   "outputs": [],
   "source": [
    "%matplotlib notebook \n",
    "from ensembler.visualisation.interactive_plots import interactive_eds\n",
    "\n",
    "widget = interactive_eds(figsize=[12,6])\n"
   ]
  },
  {
   "cell_type": "markdown",
   "metadata": {},
   "source": [
    "### Bonus: s-optimization now many potentials == Art\n"
   ]
  },
  {
   "cell_type": "code",
   "execution_count": null,
   "metadata": {},
   "outputs": [],
   "source": [
    "%matplotlib inline\n",
    "\n",
    "svals= np.logspace(0, -0.7,num=50)\n",
    "positions=np.linspace(-7,7,1000)\n",
    "exPlot.envPot_differentS_overlay_plot(eds_potential=V_R, s_values=svals, positions=positions,\n",
    "                                           hide_legend=True, y_range=(-3, 4))"
   ]
  },
  {
   "cell_type": "markdown",
   "metadata": {},
   "source": [
    "## Sampling the Enveloping Potential\n",
    "Up to now we defined the reference state potential.\n",
    "But now let's assume we don't know how the potential looks like. This is often the case in molecular simulations, each molecule can be described by a function, but the coordinate space of the molecule might be so huge, that we can not calculate all solutions.\n",
    "\n",
    "That's why we usually sample such potential functions in the hope of getting the relevant solutions for the relevant conformers of a molecule.\n",
    "\n",
    "In the following we will simulate the constructed reference state potential for a number so simulation steps with the metropolis monte carlo method.\n",
    "\n",
    "We are going to check on how the simulations are going to behave depending on the given parameter sets.\n",
    "Following the system to simulate will be defined."
   ]
  },
  {
   "cell_type": "code",
   "execution_count": null,
   "metadata": {},
   "outputs": [],
   "source": [
    "from ensembler.samplers.stochastic import metropolisMonteCarloIntegrator\n",
    "from ensembler.system import system\n",
    "from ensembler.visualisation.plotSimulations import simulation_analysis_plot\n",
    "\n",
    "%pylab inline\n",
    "\n",
    "\n",
    "#Simulation Setup\n",
    "##simulation parameters:\n",
    "simulation_steps = 1000\n",
    "temperature = 10\n",
    "start_position = -2\n",
    "\n",
    "##set initial parameters of Reference state:\n",
    "V_R.Eoff = (0,0)\n",
    "V_R.s = 1\n",
    "\n",
    "##Sampling Method:\n",
    "sampler = metropolisMonteCarloIntegrator(step_size_coefficient=1,\n",
    "                                         max_iteration_tillAccept=100)\n",
    "\n",
    "##System:\n",
    "EDS_system = system(potential=V_R,\n",
    "                    sampler=sampler, temperature=temperature,\n",
    "                    start_position=start_position)"
   ]
  },
  {
   "cell_type": "markdown",
   "metadata": {},
   "source": [
    "#### First Simulation\n",
    "after building the system, that functions as a wrapper between sampling method and potential function, we are finally about to simulate the system."
   ]
  },
  {
   "cell_type": "code",
   "execution_count": null,
   "metadata": {},
   "outputs": [],
   "source": [
    "EDS_system.simulate(simulation_steps, withdraw_traj=True)\n",
    "orgi_eds_traj = EDS_system.trajectory\n",
    "EDS_system.trajectory.head()\n"
   ]
  },
  {
   "cell_type": "markdown",
   "metadata": {},
   "source": [
    "Here you see the first lines of the generated trajectory of our simulation. Let's visualize that:"
   ]
  },
  {
   "cell_type": "code",
   "execution_count": null,
   "metadata": {},
   "outputs": [],
   "source": [
    "simulation_analysis_plot(EDS_system, limits_coordinate_space=[-5,5],\n",
    "                         oneD_limits_potential_system_energy=[-2,2])"
   ]
  },
  {
   "cell_type": "markdown",
   "metadata": {},
   "source": [
    "In the cell above you see the simulation analysis plot.\n",
    "Most likely, as you can se in the Potential Sampling panel, the simulation with the initiall parameters was stuck in the minima of state A the whole time (blue point is the starting coordinate, red point the ending coordinate).\n",
    "This leads to a single normal distribution around coordinate -2 as you can see in the second panel.\n",
    "\n",
    "This leads to a very nice sampling of state A but we never saw the minimum of state B.\n",
    "As a result the estimated free energies will not lead to a good free energy estimation.\n",
    "\n",
    "The third panel shows you what the different shift sizes are during the simulation.\n",
    "\n",
    "\n",
    "Note: You can execute the simulation multiple times and will end up with always slightly different results."
   ]
  },
  {
   "cell_type": "markdown",
   "metadata": {},
   "source": [
    "### How do the parameters affect sampling?\n",
    "\n",
    "Can we fix this problem?\n",
    "Let's have a look on how the paramteres mentioned in the reference potential change the sampling."
   ]
  },
  {
   "cell_type": "markdown",
   "metadata": {},
   "source": [
    "### s-dependency:\n",
    "\n",
    "Here we want to have a look on how the sampling is influenced by different s-values and their barrier removal capacity.\n"
   ]
  },
  {
   "cell_type": "code",
   "execution_count": null,
   "metadata": {},
   "outputs": [],
   "source": [
    "EDS_system.potential.Eoff=(0, 0) #set initial parameters\n",
    "\n",
    "# a lower s value\n",
    "EDS_system.potential.s=0.4\n",
    "EDS_system.set_position(-2) # same starting position\n",
    "EDS_system.simulate(simulation_steps, withdraw_traj=True)\n",
    "simulation_analysis_plot(EDS_system, limits_coordinate_space=[-5,5], oneD_limits_potential_system_energy=[-3,2])\n",
    "\n",
    "# an even lower s value\n",
    "EDS_system.potential.s=0.2\n",
    "EDS_system.set_position(-2) # same starting position\n",
    "EDS_system.simulate(simulation_steps, withdraw_traj=True)\n",
    "simulation_analysis_plot(EDS_system, limits_coordinate_space=[-5,5], oneD_limits_potential_system_energy=[-3,2])\n",
    "undersampling_eds_traj = EDS_system.trajectory\n"
   ]
  },
  {
   "cell_type": "markdown",
   "metadata": {},
   "source": [
    "This is an interesting finding.\n",
    "The barriers between the states gets smoothed out, but we also lose the minimum of state B.\n",
    "For an $s~=~0.7$ we clearly see that the barrier is shrinking, but as the bond type B has a higher minimal potential energy, we can still not reach the state during the short simulation.\n",
    "\n",
    "In the second case with $s~=~0.2$ we are an undersampling situation.\n",
    "Here we explore a conformational space close to state A.\n",
    "The minimum of state B is lost totally in this case.\n",
    "\n",
    "Conclusion: During our simulations we still do not manage to reach both state minima. But what happens if we also change Eoff?"
   ]
  },
  {
   "cell_type": "markdown",
   "metadata": {},
   "source": [
    "### Eoff-dependency:\n",
    "\n",
    "Now we want to combine our findings from the s-dependency with the energy offset parameters.\n"
   ]
  },
  {
   "cell_type": "code",
   "execution_count": null,
   "metadata": {},
   "outputs": [],
   "source": [
    "EDS_system.potential.Eoff=(0, 0.6)\n",
    "\n",
    "EDS_system.potential.s=1\n",
    "EDS_system.set_position(-2) # same starting position\n",
    "EDS_system.simulate(simulation_steps, withdraw_traj=True)\n",
    "simulation_analysis_plot(EDS_system, limits_coordinate_space=[-5,5], oneD_limits_potential_system_energy=[-3,2])\n",
    "\n",
    "EDS_system.potential.s=0.4\n",
    "EDS_system.set_position(-2) # same starting position\n",
    "EDS_system.simulate(simulation_steps, withdraw_traj=True)\n",
    "simulation_analysis_plot(EDS_system, limits_coordinate_space=[-5,5], oneD_limits_potential_system_energy=[-3,2])\n",
    "optimal_eds_traj = EDS_system.trajectory\n",
    "\n",
    "EDS_system.potential.s=0.2\n",
    "EDS_system.set_position(-2) # same starting position\n",
    "EDS_system.simulate(simulation_steps, withdraw_traj=True)\n",
    "simulation_analysis_plot(EDS_system, limits_coordinate_space=[-5,5], oneD_limits_potential_system_energy=[-3,2])"
   ]
  },
  {
   "cell_type": "markdown",
   "metadata": {},
   "source": [
    "Here the second simulation is remarkable, as it is sampling both state minima significantly! This is what one would like to achieve with an EDS-Simulation."
   ]
  },
  {
   "cell_type": "markdown",
   "metadata": {},
   "source": [
    "## Calculating Free Energies With EDS"
   ]
  },
  {
   "cell_type": "markdown",
   "metadata": {},
   "source": [
    "### Analytical solution to the problem\n",
    "The nice thing about using harmonic oscillators for free energy calculations as toy-models is, that the correct solution can be calculated analytically!\n",
    "\n",
    "$dG_i = y_{shift_i} - \\frac{1}{2*\\beta} * \\ln(\\sqrt{\\frac{2*\\pi}{k_i*\\beta}}) $\n",
    "\n",
    "This solution is here used as the reference for all further calculations."
   ]
  },
  {
   "cell_type": "code",
   "execution_count": null,
   "metadata": {},
   "outputs": [],
   "source": [
    "\n",
    "#Excpected Analytical Solution\n",
    "beta = 1/10 # beta is in k_B T\n",
    "\n",
    "F_A = V_offset_A -(1/(2*beta)) * np.log(np.sqrt((2*np.pi)/(k_A*beta)))\n",
    "F_B = V_offset_B -(1/(2*beta)) * np.log(np.sqrt((2*np.pi)/(k_B*beta)))\n",
    "dF_AB_expected = F_B-F_A\n",
    "\n",
    "print(\"expected dF: \", dF_AB_expected)\n"
   ]
  },
  {
   "cell_type": "markdown",
   "metadata": {},
   "source": [
    "### Numerical solution to the problem\n",
    "With our sampling we can now estimate the relative free energy of our two states."
   ]
  },
  {
   "cell_type": "code",
   "execution_count": null,
   "metadata": {},
   "outputs": [],
   "source": [
    "from ensembler.analysis import freeEnergyCalculation as FE\n",
    "fe_estimator = FE.dfEDS(kJ=True, T=10)\n",
    "\n",
    "positions_orig_eds = orgi_eds_traj.position\n",
    "Vrr_orig_eds = orgi_eds_traj.total_potential_energy\n",
    "V1r_orig_eds = V_A.ene(positions_orig_eds)\n",
    "V2r_orig_eds = V_B.ene(positions_orig_eds)\n",
    "\n",
    "dF_original = fe_estimator.calculate(Vi=V1r_orig_eds, Vj=V2r_orig_eds, Vr=Vrr_orig_eds)\n",
    "\n",
    "print(\"dF: \", dF_original,\" kJ\", \"\\ndeviation: \", abs(dF_original-dF_AB_expected),\" kJ\")"
   ]
  },
  {
   "cell_type": "markdown",
   "metadata": {},
   "source": [
    "This free energy is actually quite off for such a simple problem. But as we have seen before, this data comes from the simulation, which sampled only one state."
   ]
  },
  {
   "cell_type": "code",
   "execution_count": null,
   "metadata": {},
   "outputs": [],
   "source": [
    "\n",
    "positions_undersampling_eds = undersampling_eds_traj.position\n",
    "Vrr_undersampling_eds = undersampling_eds_traj.total_potential_energy\n",
    "V1r_undersampling_eds = V_A.ene(positions_undersampling_eds)\n",
    "V2r_undersampling_eds = V_B.ene(positions_undersampling_eds)\n",
    "\n",
    "dF_undersampling = fe_estimator.calculate(Vi=V1r_undersampling_eds, Vj=V2r_undersampling_eds, Vr=Vrr_undersampling_eds)\n",
    "\n",
    "print(\"dF: \", dF_undersampling,\" kJ\", \"\\ndeviation: \", abs(dF_undersampling-dF_AB_expected),\" kJ\")"
   ]
  },
  {
   "cell_type": "markdown",
   "metadata": {},
   "source": [
    "The undersampling data seems to produce better results. But is that really the best we can get?"
   ]
  },
  {
   "cell_type": "code",
   "execution_count": null,
   "metadata": {},
   "outputs": [],
   "source": [
    "\n",
    "positions_optimal_eds = optimal_eds_traj.position\n",
    "Vrr_optimal_eds = optimal_eds_traj.total_potential_energy\n",
    "V1r_optimal_eds = V_A.ene(positions_optimal_eds)\n",
    "V2r_optimal_eds = V_B.ene(positions_optimal_eds)\n",
    "\n",
    "dF_optimal = fe_estimator.calculate(Vi=V1r_optimal_eds, Vj=V2r_optimal_eds, Vr=Vrr_optimal_eds)\n",
    "\n",
    "print(\"dF: \", dF_optimal,\" kJ\", \"\\ndeviation: \", abs(dF_optimal-dF_AB_expected),\" kJ\")"
   ]
  },
  {
   "cell_type": "markdown",
   "metadata": {},
   "source": [
    "The optimal sampled trajectory gives also the best result. All minima were explored extensivley in this trajectory, which leads to the best relative free energy estimate.\n",
    "\n"
   ]
  },
  {
   "cell_type": "markdown",
   "metadata": {},
   "source": [
    "## Many States\n",
    "\n",
    "But is eds limited to two states?\n",
    "No and that is where it's power comes into play. \n",
    "In theory one can calculate the relative free energies for many states from one simulation.\n",
    "\n",
    "$V_R = \\frac{-1}{\\beta s} \\ln(\\sum_i^Ne^{-\\beta s (V_i - E^R_i)})$"
   ]
  },
  {
   "cell_type": "code",
   "execution_count": null,
   "metadata": {},
   "outputs": [],
   "source": [
    "### SuperMore complex example - 3 states  harmonicPot - \n",
    "# simple Example plot Enveloped Potential with two Harmonic Oscilators\n",
    "\n",
    "\n",
    "##Construct potential\n",
    "s1=1.0\n",
    "s2=0.001\n",
    "Eoffs=(0, 0, 0, 0, 0)\n",
    "\n",
    "\n",
    "#V_is=[pot.harmonicOsc1D(x_shift=-10, fc=5), pot.harmonicOsc1D(x_shift=10, fc=5)]\n",
    "k=20\n",
    "V_is=[pot.harmonicOscillatorPotential(x_shift=-20, k=k, y_shift=0), \n",
    "      pot.harmonicOscillatorPotential(x_shift=20, k=k, y_shift=-50),\n",
    "      pot.harmonicOscillatorPotential(x_shift=10, k=k, y_shift=50), \n",
    "      pot.harmonicOscillatorPotential(x_shift=-10, k=k, y_shift=-100), \n",
    "      pot.harmonicOscillatorPotential(x_shift=0, k=k, y_shift=100)]\n",
    "eds_pot = pot.envelopedPotential(V_is=V_is, s=s1, eoff=Eoffs)\n",
    "\n",
    "##Parameters\n",
    "positions = np.linspace(-30,30,100)\n",
    "svals=np.logspace(0, -3, 40)\n",
    "\n",
    "exPlot.envPot_differentS_overlay_plot(eds_potential=eds_pot, s_values=svals, positions=positions, \n",
    "                                           y_range=(-600,400), hide_legend=True)\n",
    "\n",
    "Eoffs=(0, 50, -50, 100, -100)\n",
    "eds_pot = pot.envelopedPotential(V_is=V_is, s=s1, eoff=Eoffs)\n",
    "fig, ax = exPlot.envPot_differentS_overlay_plot(eds_potential=eds_pot, s_values=svals, positions=positions, \n",
    "                                           y_range=(-600,400), hide_legend=True)\n",
    "\n"
   ]
  },
  {
   "cell_type": "markdown",
   "metadata": {},
   "source": [
    "Can you sample them all?"
   ]
  },
  {
   "cell_type": "markdown",
   "metadata": {},
   "source": [
    "## Literature:\n",
    "About EDS:\n",
    " * Christ 2007\n",
    " * Christ 2008\n",
    "\n",
    "Going beyond EDS:\n",
    " * Sidler 2016\n",
    " * Sidler 2017"
   ]
  }
 ],
 "metadata": {
  "language_info": {
   "name": "python"
  }
 },
 "nbformat": 4,
 "nbformat_minor": 2
}

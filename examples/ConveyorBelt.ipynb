{
 "cells": [
  {
   "cell_type": "code",
   "execution_count": 2,
   "metadata": {},
   "outputs": [
    {
     "data": {
      "text/plain": [
       "'/home/dahahn/projects/K_ENSEMBLER/Ensembler/examples'"
      ]
     },
     "execution_count": 2,
     "metadata": {},
     "output_type": "execute_result"
    }
   ],
   "source": [
    "import os, sys\n",
    "sys.path.append(os.getcwd()+\"/..\")\n",
    "\n",
    "import numpy as np\n",
    "import pandas as pd\n",
    "\n",
    "import matplotlib.pyplot as plt\n",
    "from matplotlib import cm\n",
    "from matplotlib import colorbar\n",
    "from mpl_toolkits.mplot3d import Axes3D\n",
    "\n",
    "%matplotlib inline\n",
    "os.getcwd()"
   ]
  },
  {
   "cell_type": "code",
   "execution_count": 3,
   "metadata": {},
   "outputs": [
    {
     "name": "stdout",
     "output_type": "stream",
     "text": [
      "SYSTEM ASSIGNS random POSITION FOR: states: 1\tnDim: 1\n"
     ]
    }
   ],
   "source": [
    "import ensembler.potentials.OneD as pot\n",
    "import ensembler.system.perturbed_system as system\n",
    "import ensembler.ensemble.replicas_dynamic_parameters as cvb\n",
    "from ensembler.integrator import stochastic\n"
   ]
  },
  {
   "cell_type": "markdown",
   "metadata": {},
   "source": [
    "# Interactive Example "
   ]
  },
  {
   "cell_type": "code",
   "execution_count": 4,
   "metadata": {
    "tags": []
   },
   "outputs": [
    {
     "name": "stdout",
     "output_type": "stream",
     "text": [
      "SYSTEM ASSIGNS random POSITION FOR: states: 1\tnDim: 1\n"
     ]
    },
    {
     "name": "stderr",
     "output_type": "stream",
     "text": [
      "                                                 \r"
     ]
    },
    {
     "data": {
      "application/vnd.jupyter.widget-view+json": {
       "model_id": "05881881ffef44c4916defab0f3ed788",
       "version_major": 2,
       "version_minor": 0
      },
      "text/plain": [
       "AppLayout(children=(VBox(children=(Play(value=0, description='rotate', max=360), HBox(children=(IntSlider(valu…"
      ]
     },
     "metadata": {},
     "output_type": "display_data"
    }
   ],
   "source": [
    "from ensembler.visualisation.interactive_plots import interactive_conveyor_belt\n",
    "\n",
    "iwidget = interactive_conveyor_belt(nbins=10, numsys=3, steps=10)"
   ]
  },
  {
   "cell_type": "markdown",
   "metadata": {},
   "source": [
    "# BUILD Conveyor Belt"
   ]
  },
  {
   "cell_type": "code",
   "execution_count": 5,
   "metadata": {},
   "outputs": [
    {
     "name": "stdout",
     "output_type": "stream",
     "text": [
      "SYSTEM ASSIGNS random POSITION FOR: states: 1\tnDim: 1\n"
     ]
    }
   ],
   "source": [
    "numsys = 8\n",
    "steps = 10\n",
    "\n",
    "integrat = stochastic.metropolisMonteCarloIntegrator()\n",
    "potial = pot.linearCoupledPotentials()\n",
    "syst = system.perturbedSystem(potential=potial , integrator=integrat)"
   ]
  },
  {
   "cell_type": "code",
   "execution_count": 6,
   "metadata": {},
   "outputs": [
    {
     "name": "stdout",
     "output_type": "stream",
     "text": [
      "{0: <ensembler.system.perturbed_system.perturbedSystem object at 0x7f0347fe6190>, 1: <ensembler.system.perturbed_system.perturbedSystem object at 0x7f03541101d0>, 2: <ensembler.system.perturbed_system.perturbedSystem object at 0x7f03540a61d0>, 3: <ensembler.system.perturbed_system.perturbedSystem object at 0x7f035407d290>, 4: <ensembler.system.perturbed_system.perturbedSystem object at 0x7f0354096bd0>, 5: <ensembler.system.perturbed_system.perturbedSystem object at 0x7f0347fc13d0>, 6: <ensembler.system.perturbed_system.perturbedSystem object at 0x7f0347fa9c90>, 7: <ensembler.system.perturbed_system.perturbedSystem object at 0x7f0354096510>}\n"
     ]
    },
    {
     "data": {
      "text/plain": [
       "0.0      0.00    41.148\n",
       "1.0      0.00    42.387\n",
       "2.0      0.00    42.671\n",
       "3.0      0.00    41.845\n",
       "4.0      0.00    43.098\n",
       "5.0      0.00    41.363\n",
       "6.0      0.00    44.717\n",
       "7.0      0.00    43.101"
      ]
     },
     "execution_count": 6,
     "metadata": {},
     "output_type": "execute_result"
    }
   ],
   "source": [
    "ens=cvb.ConveyorBelt(0.0, numsys, system=syst, build=False)\n",
    "ens\n"
   ]
  },
  {
   "cell_type": "code",
   "execution_count": 7,
   "metadata": {},
   "outputs": [
    {
     "name": "stderr",
     "output_type": "stream",
     "text": [
      "                                                 \r"
     ]
    },
    {
     "name": "stdout",
     "output_type": "stream",
     "text": [
      "2\n"
     ]
    }
   ],
   "source": [
    "#ens.traj_clear()\n",
    "ens.simulate(steps)\n",
    "\n",
    "print(ens.reject)\n"
   ]
  },
  {
   "cell_type": "code",
   "execution_count": 8,
   "metadata": {},
   "outputs": [],
   "source": [
    "(cvb_traj, systrajs) = ens.get_trajs()"
   ]
  },
  {
   "cell_type": "code",
   "execution_count": 9,
   "metadata": {},
   "outputs": [
    {
     "data": {
      "text/html": [
       "<div>\n",
       "<style scoped>\n",
       "    .dataframe tbody tr th:only-of-type {\n",
       "        vertical-align: middle;\n",
       "    }\n",
       "\n",
       "    .dataframe tbody tr th {\n",
       "        vertical-align: top;\n",
       "    }\n",
       "\n",
       "    .dataframe thead th {\n",
       "        text-align: right;\n",
       "    }\n",
       "</style>\n",
       "<table border=\"1\" class=\"dataframe\">\n",
       "  <thead>\n",
       "    <tr style=\"text-align: right;\">\n",
       "      <th></th>\n",
       "      <th>position</th>\n",
       "      <th>temperature</th>\n",
       "      <th>totEnergy</th>\n",
       "      <th>totPotEnergy</th>\n",
       "      <th>totKinEnergy</th>\n",
       "      <th>dhdpos</th>\n",
       "      <th>velocity</th>\n",
       "      <th>lam</th>\n",
       "      <th>dhdlam</th>\n",
       "    </tr>\n",
       "  </thead>\n",
       "  <tbody>\n",
       "    <tr>\n",
       "      <th>0</th>\n",
       "      <td>-9.040048201323906</td>\n",
       "      <td>NaN</td>\n",
       "      <td>41.147500</td>\n",
       "      <td>40.861236</td>\n",
       "      <td>0.286264</td>\n",
       "      <td>NaN</td>\n",
       "      <td>0.756656</td>\n",
       "      <td>0.000000</td>\n",
       "      <td>-9.040048</td>\n",
       "    </tr>\n",
       "    <tr>\n",
       "      <th>1</th>\n",
       "      <td>-8.78526</td>\n",
       "      <td>NaN</td>\n",
       "      <td>38.590409</td>\n",
       "      <td>38.590409</td>\n",
       "      <td>NaN</td>\n",
       "      <td>0.254787</td>\n",
       "      <td>NaN</td>\n",
       "      <td>0.000000</td>\n",
       "      <td>-9.040048</td>\n",
       "    </tr>\n",
       "    <tr>\n",
       "      <th>2</th>\n",
       "      <td>-8.14096</td>\n",
       "      <td>NaN</td>\n",
       "      <td>48.230489</td>\n",
       "      <td>48.230489</td>\n",
       "      <td>NaN</td>\n",
       "      <td>0.644306</td>\n",
       "      <td>NaN</td>\n",
       "      <td>0.045546</td>\n",
       "      <td>-12.786615</td>\n",
       "    </tr>\n",
       "    <tr>\n",
       "      <th>3</th>\n",
       "      <td>-7.69358</td>\n",
       "      <td>NaN</td>\n",
       "      <td>87.877391</td>\n",
       "      <td>87.877391</td>\n",
       "      <td>NaN</td>\n",
       "      <td>0.447373</td>\n",
       "      <td>NaN</td>\n",
       "      <td>0.196927</td>\n",
       "      <td>-24.172708</td>\n",
       "    </tr>\n",
       "    <tr>\n",
       "      <th>4</th>\n",
       "      <td>-7.23117</td>\n",
       "      <td>NaN</td>\n",
       "      <td>119.474066</td>\n",
       "      <td>119.474066</td>\n",
       "      <td>NaN</td>\n",
       "      <td>0.462411</td>\n",
       "      <td>NaN</td>\n",
       "      <td>0.356969</td>\n",
       "      <td>-35.157253</td>\n",
       "    </tr>\n",
       "  </tbody>\n",
       "</table>\n",
       "</div>"
      ],
      "text/plain": [
       "             position  temperature   totEnergy  totPotEnergy  totKinEnergy  \\\n",
       "0  -9.040048201323906          NaN   41.147500     40.861236      0.286264   \n",
       "1            -8.78526          NaN   38.590409     38.590409           NaN   \n",
       "2            -8.14096          NaN   48.230489     48.230489           NaN   \n",
       "3            -7.69358          NaN   87.877391     87.877391           NaN   \n",
       "4            -7.23117          NaN  119.474066    119.474066           NaN   \n",
       "\n",
       "     dhdpos  velocity       lam     dhdlam  \n",
       "0       NaN  0.756656  0.000000  -9.040048  \n",
       "1  0.254787       NaN  0.000000  -9.040048  \n",
       "2  0.644306       NaN  0.045546 -12.786615  \n",
       "3  0.447373       NaN  0.196927 -24.172708  \n",
       "4  0.462411       NaN  0.356969 -35.157253  "
      ]
     },
     "execution_count": 9,
     "metadata": {},
     "output_type": "execute_result"
    }
   ],
   "source": [
    "systrajs[0].head()"
   ]
  },
  {
   "cell_type": "code",
   "execution_count": 10,
   "metadata": {},
   "outputs": [
    {
     "data": {
      "text/html": [
       "<div>\n",
       "<style scoped>\n",
       "    .dataframe tbody tr th:only-of-type {\n",
       "        vertical-align: middle;\n",
       "    }\n",
       "\n",
       "    .dataframe tbody tr th {\n",
       "        vertical-align: top;\n",
       "    }\n",
       "\n",
       "    .dataframe thead th {\n",
       "        text-align: right;\n",
       "    }\n",
       "</style>\n",
       "<table border=\"1\" class=\"dataframe\">\n",
       "  <thead>\n",
       "    <tr style=\"text-align: right;\">\n",
       "      <th></th>\n",
       "      <th>Step</th>\n",
       "      <th>capital_lambda</th>\n",
       "      <th>TotE</th>\n",
       "      <th>biasE</th>\n",
       "      <th>doAccept</th>\n",
       "    </tr>\n",
       "  </thead>\n",
       "  <tbody>\n",
       "    <tr>\n",
       "      <th>0</th>\n",
       "      <td>1</td>\n",
       "      <td>0.143088</td>\n",
       "      <td>1740.056131</td>\n",
       "      <td>1740.056131</td>\n",
       "      <td>True</td>\n",
       "    </tr>\n",
       "    <tr>\n",
       "      <th>1</th>\n",
       "      <td>2</td>\n",
       "      <td>0.618665</td>\n",
       "      <td>1491.818707</td>\n",
       "      <td>1491.818707</td>\n",
       "      <td>True</td>\n",
       "    </tr>\n",
       "    <tr>\n",
       "      <th>2</th>\n",
       "      <td>3</td>\n",
       "      <td>1.121450</td>\n",
       "      <td>1314.472147</td>\n",
       "      <td>1314.472147</td>\n",
       "      <td>True</td>\n",
       "    </tr>\n",
       "    <tr>\n",
       "      <th>3</th>\n",
       "      <td>4</td>\n",
       "      <td>1.851864</td>\n",
       "      <td>1055.310367</td>\n",
       "      <td>1055.310367</td>\n",
       "      <td>True</td>\n",
       "    </tr>\n",
       "    <tr>\n",
       "      <th>4</th>\n",
       "      <td>5</td>\n",
       "      <td>1.439607</td>\n",
       "      <td>946.264387</td>\n",
       "      <td>946.264387</td>\n",
       "      <td>True</td>\n",
       "    </tr>\n",
       "  </tbody>\n",
       "</table>\n",
       "</div>"
      ],
      "text/plain": [
       "  Step  capital_lambda         TotE        biasE doAccept\n",
       "0    1        0.143088  1740.056131  1740.056131     True\n",
       "1    2        0.618665  1491.818707  1491.818707     True\n",
       "2    3        1.121450  1314.472147  1314.472147     True\n",
       "3    4        1.851864  1055.310367  1055.310367     True\n",
       "4    5        1.439607   946.264387   946.264387     True"
      ]
     },
     "execution_count": 10,
     "metadata": {},
     "output_type": "execute_result"
    }
   ],
   "source": [
    "# old: traj=pd.DataFrame(traj, columns=['Step', 'CapLam', 'Energy', 'Bias'])\n",
    "cvb_traj.head()"
   ]
  },
  {
   "cell_type": "markdown",
   "metadata": {},
   "source": [
    "# Plot Simulation"
   ]
  },
  {
   "cell_type": "code",
   "execution_count": 11,
   "metadata": {},
   "outputs": [],
   "source": [
    "nbins=100\n",
    "bins=np.zeros(nbins)\n",
    "dhdlbins=np.zeros(nbins)\n",
    "for i in systrajs:\n",
    "    for j in range(systrajs[i].shape[0]):\n",
    "        index=int(np.floor(systrajs[i].lam[j]*nbins))\n",
    "        if index == nbins:\n",
    "            index=nbins-1\n",
    "        bins[index]+=1\n",
    "        dhdlbins[index]+=systrajs[i].dhdlam[j]\n",
    "for i, b in enumerate(bins):\n",
    "    if b > 0:\n",
    "        dhdlbins[i]/=b"
   ]
  },
  {
   "cell_type": "code",
   "execution_count": 12,
   "metadata": {},
   "outputs": [
    {
     "name": "stdout",
     "output_type": "stream",
     "text": [
      "Integral =  -17.245677221595784\n"
     ]
    },
    {
     "data": {
      "image/png": "[encoded data removed]",
      "text/plain": [
       "<Figure size 432x288 with 1 Axes>"
      ]
     },
     "metadata": {
      "needs_background": "light"
     },
     "output_type": "display_data"
    }
   ],
   "source": [
    "plt.plot(np.linspace(0,1,nbins), dhdlbins)\n",
    "integral=np.sum(dhdlbins)*1.0/nbins\n",
    "print('Integral = ', integral)"
   ]
  },
  {
   "cell_type": "code",
   "execution_count": 13,
   "metadata": {},
   "outputs": [
    {
     "data": {
      "text/plain": [
       "[<matplotlib.lines.Line2D at 0x7f0354b87e90>]"
      ]
     },
     "execution_count": 13,
     "metadata": {},
     "output_type": "execute_result"
    },
    {
     "data": {
      "image/png": "[encoded data removed]",
      "text/plain": [
       "<Figure size 432x288 with 1 Axes>"
      ]
     },
     "metadata": {
      "needs_background": "light"
     },
     "output_type": "display_data"
    }
   ],
   "source": [
    "h1=np.histogram(cvb_traj.capital_lambda, bins=50, density=1)\n",
    "plt.plot(h1[1][:-1], h1[0])\n",
    "#plt.ylim(0.14, 0.185)"
   ]
  },
  {
   "cell_type": "code",
   "execution_count": 14,
   "metadata": {},
   "outputs": [
    {
     "data": {
      "text/plain": [
       "Text(0, 0.5, '$\\\\lambda$')"
      ]
     },
     "execution_count": 14,
     "metadata": {},
     "output_type": "execute_result"
    },
    {
     "data": {
      "image/png": "[encoded data removed]",
      "text/plain": [
       "<Figure size 432x288 with 1 Axes>"
      ]
     },
     "metadata": {
      "needs_background": "light"
     },
     "output_type": "display_data"
    }
   ],
   "source": [
    "caplam = np.linspace(0, 2*np.pi, 100)\n",
    "x=[]\n",
    "for i in caplam:\n",
    "    x.append(ens.calc_lam(i, 0))\n",
    "plt.plot(caplam, x)\n",
    "plt.xlabel('$\\Lambda / \\pi$')\n",
    "plt.ylabel('$\\lambda$')"
   ]
  },
  {
   "cell_type": "code",
   "execution_count": 15,
   "metadata": {},
   "outputs": [
    {
     "name": "stdout",
     "output_type": "stream",
     "text": [
      "Omega 1.4142135623730951 4.69041575982343\n",
      "0.03600698886161772 0.11942167188449208\n",
      "2.991927940369414 2.991927940369415 -8.291150088634001 -5.299222148264588\n"
     ]
    }
   ],
   "source": [
    "#analytical\n",
    "u=1.66053886e-27\n",
    "NA=6.0221415e23\n",
    "hbar=1.054571800e-34*1e12*1e-3*NA  #kJ/mol*ps\n",
    "R=0.00831446 #kJ/mol/K\n",
    "mu=0.5  #u\n",
    "T=300.0  #K\n",
    "fc1=1  #kJ/nm^2/mol\n",
    "fc2=11.0 #kJ/nm^2/mol\n",
    "omega1=np.sqrt(fc1/mu)\n",
    "omega2=np.sqrt(fc2/mu)\n",
    "print('Omega', omega1, omega2)\n",
    "alpha1=hbar*np.sqrt(fc1/mu)/(R*T)\n",
    "alpha2=hbar*np.sqrt(fc2/mu)/(R*T)\n",
    "print(alpha1, alpha2)\n",
    "Z1=np.exp(-alpha1/2.0)/(1-np.exp(-alpha1))\n",
    "Z2=np.exp(-alpha2/2.0)/(1-np.exp(-alpha2))\n",
    "F1=-R*T*np.log(Z1)\n",
    "F2=-R*T*np.log(Z2)\n",
    "DF=F2-F1\n",
    "DF2=-R*T*np.log(Z2/Z1)\n",
    "print(DF, DF2, F1, F2)"
   ]
  },
  {
   "cell_type": "markdown",
   "metadata": {},
   "source": [
    "# Conveyor Belt Animation"
   ]
  },
  {
   "cell_type": "code",
   "execution_count": 20,
   "metadata": {},
   "outputs": [
    {
     "data": {
      "image/png": "[encoded data removed]",
      "text/plain": [
       "<Figure size 234.04x144.648 with 1 Axes>"
      ]
     },
     "metadata": {
      "needs_background": "light"
     },
     "output_type": "display_data"
    }
   ],
   "source": [
    "import ensembler.visualisation.plotConveyorBelt as plotEnsembler\n",
    "nbins=2\n",
    "dhdlbins=np.ones(2)\n",
    "lam = np.linspace(0, 1, nbins)\n",
    "ene = np.cumsum(dhdlbins)/nbins\n",
    "\n",
    "fig = plotEnsembler.drawFunicular(lam, ene, CapLam=0.5, M=8)"
   ]
  },
  {
   "cell_type": "code",
   "execution_count": null,
   "metadata": {},
   "outputs": [],
   "source": []
  }
 ],
 "metadata": {
  "kernelspec": {
   "display_name": "Python 3",
   "language": "python",
   "name": "python3"
  },
  "language_info": {
   "codemirror_mode": {
    "name": "ipython",
    "version": 3
   },
   "file_extension": ".py",
   "mimetype": "text/x-python",
   "name": "python",
   "nbconvert_exporter": "python",
   "pygments_lexer": "ipython3",
   "version": "3.7.6"
  },
  "pycharm": {
   "stem_cell": {
    "cell_type": "raw",
    "metadata": {
     "collapsed": false
    },
    "source": []
   }
  }
 },
 "nbformat": 4,
 "nbformat_minor": 2
}

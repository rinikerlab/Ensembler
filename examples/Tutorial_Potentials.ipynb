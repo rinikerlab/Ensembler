{
 "cells": [
  {
   "cell_type": "code",
   "execution_count": null,
   "metadata": {},
   "outputs": [],
   "source": [
    "#install Ensembler if needed\n",
    "try:\n",
    "  import ensembler\n",
    "except:\n",
    "  ! pip install ensembler-rinikerlab"
   ]
  },
  {
   "cell_type": "markdown",
   "metadata": {},
   "source": [
    "# Potentials\n",
    "\n",
    "In this Notebook you can find the different Potentials, that are already implemented and can be used for your projects. Play around with the parameters to get familiar with the Potentials\n",
    "\n",
    "\n",
    "Here you also can find classical Potentials like the harmonic Oscillator or the Lennard Jones Potential."
   ]
  },
  {
   "cell_type": "code",
   "execution_count": null,
   "metadata": {},
   "outputs": [],
   "source": [
    "#Imports\n",
    "##general\n",
    "import numpy as np\n",
    "from matplotlib import pyplot as plt\n",
    "\n",
    "##Ensembler\n",
    "from ensembler.potentials import OneD as potentials1D\n",
    "from ensembler.potentials import TwoD as potentials2D\n",
    "\n",
    "import ensembler.visualisation.plotPotentials as vis\n",
    "\n",
    "###Plotting:\n",
    "\n",
    "#params\n",
    "test_timing_with_points =1000"
   ]
  },
  {
   "cell_type": "markdown",
   "metadata": {},
   "source": [
    "## Classics\n"
   ]
  },
  {
   "cell_type": "markdown",
   "metadata": {},
   "source": [
    "### Harmonic Oscillator\n",
    "\n",
    "The Harmonic Oscillator is one of the most used modelling potentials1D. Its based on hooke's law and can be used to describe obviously springs, but also covalent bonds of two atoms and many more physical relations.\n",
    "\n",
    "\n",
    "Functional:\n",
    "\n",
    "$V =  \\frac{1}{2}*k*(r - r_0)^2+V_{offset}$\n",
    "\n",
    "with:\n",
    "* $k$ force constant\n",
    "* $r_0$ optimal position (optimal covalent bond length)\n",
    "* $r$ current position (current bond length)\n",
    "* $V_{offset}$ minimal potential energy offset\n",
    "\n",
    "first partial deviation by r\n",
    "\n",
    "$\\frac{\\partial V}{\\partial r} = k*(r - r_0)$\n",
    "\n",
    "\n",
    "\n",
    "#### 1D"
   ]
  },
  {
   "cell_type": "code",
   "execution_count": null,
   "metadata": {},
   "outputs": [],
   "source": [
    "# 1D\n",
    "positions = np.linspace(-10,10, test_timing_with_points)\n",
    "\n",
    "V = potentials1D.harmonicOscillatorPotential()\n",
    "#print(V)\n",
    "\n",
    "print(\"calculate \"+str(len(positions))+\" positions: \")\n",
    "%time V.ene(positions)\n",
    "\n",
    "print(\"\\nVisualization\")\n",
    "fig, axes = vis.plot_potential(V, positions=positions)"
   ]
  },
  {
   "cell_type": "markdown",
   "metadata": {},
   "source": [
    "#### 2D"
   ]
  },
  {
   "cell_type": "code",
   "execution_count": null,
   "metadata": {},
   "outputs": [],
   "source": [
    "# 2D\n",
    "positions = np.linspace(-4, 4, test_timing_with_points)\n",
    "x_positions, y_positions = np.meshgrid(positions,positions)\n",
    "positions2D = np.array([x_positions.flatten(), y_positions.flatten()]).T\n",
    "\n",
    "V = potentials2D.harmonicOscillatorPotential()\n",
    "#print(V)\n",
    "\n",
    "print(\"calculate \"+str(len(positions))+\" positions: \")\n",
    "%time V.ene(positions2D)\n",
    "\n",
    "\n",
    "print(\"\\nVisualization\")\n",
    "positions = np.linspace(-4, 4, test_timing_with_points)\n",
    "x_positions, y_positions = np.meshgrid(positions,positions)\n",
    "positions2D = np.array([x_positions.flatten(), y_positions.flatten()]).T\n",
    "\n",
    "fig, axes = vis.plot_potential(V, positions2D)"
   ]
  },
  {
   "cell_type": "markdown",
   "metadata": {},
   "source": [
    "### Double Well Potential\n",
    "The double well potential can be used to simulate a system with two states continously. For example in chemistry this can be used as a toy model for the transition of protonation states of a single protonatable molecule. (see Donnini 2016)\n",
    "\n",
    "Functional:\n",
    "\n",
    "$V = \\frac{V_{max}}{b^4}*((-\\frac{a}{2} + r)^2-b^2)^2$\n",
    "\n",
    "\n",
    "first order derivative\n",
    "\n",
    "$\\frac{\\partial V}{\\partial r} = \\frac{V_max}{b^4}*(-2a + 4r)*((-a/2 + r)^2-b^2)$"
   ]
  },
  {
   "cell_type": "code",
   "execution_count": null,
   "metadata": {},
   "outputs": [],
   "source": [
    "positions = np.linspace(-3, 3, test_timing_with_points)\n",
    "\n",
    "V = potentials1D.doubleWellPotential(a=0, b=1, Vmax=5)\n",
    "#print(V)\n",
    "\n",
    "print(\"calculate \"+str(len(positions))+\" positions: \")\n",
    "%time V.ene(positions)\n",
    "\n",
    "print(\"\\nVisualization\")\n",
    "fig, axes = vis.plot_potential(V, positions=positions, y_range=[-50,50])\n",
    "\n",
    "pass"
   ]
  },
  {
   "cell_type": "markdown",
   "metadata": {},
   "source": [
    "### Four Well Potential\n",
    "The four well can be understood as a expansion of the double well potential, and can be used for simulations with four states."
   ]
  },
  {
   "cell_type": "code",
   "execution_count": null,
   "metadata": {},
   "outputs": [],
   "source": [
    "#phase space\n",
    "positions = np.linspace(0, 10, test_timing_with_points)\n",
    "\n",
    "#build potential\n",
    "V = potentials1D.fourWellPotential(a=1,b=4, c=6, d=8)\n",
    "\n",
    "print(\"calculate \"+str(len(positions))+\" positions: \")\n",
    "%time V.ene(positions)\n",
    "\n",
    "print(\"\\nVisualization\") #visualize\n",
    "fig, axes = vis.plot_potential(V, positions=positions)\n",
    "#fig.savefig(\"four_well.png\")\n",
    "\n",
    "pass"
   ]
  },
  {
   "cell_type": "markdown",
   "metadata": {},
   "source": [
    "### Wave Potential\n",
    "Wave potentials are typically used in chemical modelling for torsion angles.\n",
    "\n",
    "Functional:\n",
    "\n",
    "$A*cos(m*(r + w)) + V_{off}$\n",
    "\n",
    "first derivative:\n",
    "\n",
    "$\\frac{\\partial V}{\\partial r} = -A*m*sin(m*(r + w))$"
   ]
  },
  {
   "cell_type": "code",
   "execution_count": null,
   "metadata": {},
   "outputs": [],
   "source": [
    "#1D\n",
    "positions = np.linspace(0, 4, test_timing_with_points)\n",
    "\n",
    "V = potentials1D.wavePotential()\n",
    "#print(V)\n",
    "\n",
    "print(\"calculate \"+str(len(positions))+\" positions: \")\n",
    "%time V.ene(positions)\n",
    "\n",
    "print(\"\\nVisualization\")\n",
    "fig, axes = vis.plot_potential(V, positions=positions)"
   ]
  },
  {
   "cell_type": "markdown",
   "metadata": {
    "pycharm": {
     "name": "#%% md\n"
    }
   },
   "source": [
    "#### 2D"
   ]
  },
  {
   "cell_type": "code",
   "execution_count": null,
   "metadata": {},
   "outputs": [],
   "source": [
    "positions = np.linspace(-180, 180, test_timing_with_points)\n",
    "x_positions, y_positions = np.meshgrid(positions,positions)\n",
    "positions2D = np.array([x_positions.flatten(), y_positions.flatten()]).T\n",
    "\n",
    "V = potentials2D.wavePotential(multiplicity=[2,2], radians=False)\n",
    "#print(V)\n",
    "\n",
    "print(\"calculate \"+str(len(positions))+\" positions: \")\n",
    "%time V.ene(positions2D)\n",
    "\n",
    "\n",
    "print(\"\\nVisualization\")\n",
    "fig, axes = vis.plot_potential(V, positions2D)\n"
   ]
  },
  {
   "cell_type": "markdown",
   "metadata": {
    "pycharm": {
     "name": "#%% md\n"
    }
   },
   "source": [
    "### Torsion Potential\n",
    "The Torsion potential is an overlay of multiple wave potentials and can be used to build more complex torsion potentials, hence the name.\n"
   ]
  },
  {
   "cell_type": "code",
   "execution_count": null,
   "metadata": {},
   "outputs": [],
   "source": [
    "positions = np.linspace(-4, 4, test_timing_with_points)\n",
    "\n",
    "w1 = potentials1D.wavePotential(multiplicity=3)\n",
    "w2 = potentials1D.wavePotential()\n",
    "waves = [w1, w2]\n",
    "\n",
    "V = potentials1D.torsionPotential(wavePotentials=waves)\n",
    "#print(V)\n",
    "\n",
    "print(\"calculate \"+str(len(positions))+\" positions: \")\n",
    "%time V.ene(positions)\n",
    "\n",
    "print(\"\\nVisualization\")\n",
    "fig, axes = vis.plot_potential(V, positions=positions)\n"
   ]
  },
  {
   "cell_type": "markdown",
   "metadata": {
    "pycharm": {
     "name": "#%% md\n"
    }
   },
   "source": [
    "### Lennard Jones Potential\n",
    "The lennard jones potential is used usally to describe the Van der Waals terms between multiple atoms.\n",
    "On long distances between two atoms the potential converges to zero, so the atoms don't \"see\" each other anymore.\n",
    "On very short distances between two atoms the potential goes to infinity, representing a huge energy barrier.\n",
    "The minimum of the potential represents the optimal distance of the two atoms.\n",
    "\n",
    "Functional:\n",
    "\n",
    "$V = 4e*(\\frac{s^{12}}{(r - r_0)^12} - \\frac{s^6}{(r - r_0)^6}) +  V_{off}$\n",
    "\n",
    "first derivative:\n",
    "\n",
    "$\\frac{\\partial V}{\\partial r} = 4e*(-12*\\frac{s^{12}}{(r - r_0)^13} + 6*\\frac{s^6}{(r - r_0)^7})$\n"
   ]
  },
  {
   "cell_type": "code",
   "execution_count": null,
   "metadata": {},
   "outputs": [],
   "source": [
    "positions = np.linspace(-5, 5, test_timing_with_points)\n",
    "\n",
    "V = potentials1D.lennardJonesPotential()\n",
    "#print(V)\n",
    "\n",
    "print(\"calculate \"+str(len(positions))+\" positions: \")\n",
    "%time V.ene(positions)\n",
    "\n",
    "print(\"\\nVisualization\")\n",
    "fig, _ = vis.plot_potential(V, positions=positions, y_range=[-5,5])\n",
    "pass"
   ]
  },
  {
   "cell_type": "markdown",
   "metadata": {
    "pycharm": {
     "name": "#%% md\n"
    }
   },
   "source": [
    "### Culomb Potential\n",
    "Culomb potentials are used in chemical modelling for the representation of charged interatctions between two non-bonded atoms.\n",
    "\n",
    "Functional:\n",
    "\n",
    "$V = \\frac{q_1q_2}{(4 \\pi \\epsilon r)}$\n",
    "\n",
    "first derivative:\n",
    "\n",
    "$\\frac{\\partial V}{\\partial r} = \\frac{-q_1q_2}{(4\\pi \\epsilon r^2)}$\n",
    "\n"
   ]
  },
  {
   "cell_type": "code",
   "execution_count": null,
   "metadata": {},
   "outputs": [],
   "source": [
    "positions = np.linspace(0.00001, 0.5, test_timing_with_points)\n",
    "\n",
    "V = potentials1D.coulombPotential()\n",
    "#print(V)\n",
    "\n",
    "print(\"calculate \"+str(len(positions))+\" positions: \")\n",
    "%time V.ene(positions)\n",
    "\n",
    "print(\"\\nVisualization\")\n",
    "fig, axes = vis.plot_potential(V, positions=positions, y_range=[-10,10])"
   ]
  },
  {
   "cell_type": "markdown",
   "metadata": {},
   "source": [
    "## Perturbed/MultiState Potentials\n",
    "\n",
    "For free energy calculations the potentials of two states can be coupled to each other. Two general approaches of such potential coupling schemes are shown here. If you want to learn more about their usage and free energy calculations, checkout the Free Energy Calculation Jupyter-Notebook.\n"
   ]
  },
  {
   "cell_type": "markdown",
   "metadata": {
    "pycharm": {
     "name": "#%% md\n"
    }
   },
   "source": [
    "### linear coupled\n",
    "\n",
    "The linear coupling uses a $\\lambda$-variable to couple the two potentials $V_a$ and $V_b$ in a linear combination. Here a $\\lambda = 1$ stands for a pure $V_a$ and a $\\lambda = 0$ for a pure $V_b$. The ideal mixture of states is reached with $\\lambda = 0.5$ and all other $\\lambda$s between $[0,1]$ are representing intermediate states between $V_a$ and $V_b$.\n",
    "\n",
    "Functional:\n",
    "\n",
    "$V(r, \\lambda) = \\lambda V_a(r) + (1-\\lambda) V_b(r)$\n",
    "\n",
    "\n",
    "first order derivatives:\n",
    "\n",
    "\n",
    "$\\frac{\\partial V}{\\partial \\lambda} = V_a - V_b$\n",
    "\n",
    "$\\frac{\\partial V}{\\partial r} =  \\lambda \\frac{\\partial V_a(r)}{\\partial r} - (1-\\lambda) \\frac{\\partial V_b(r)}{\\partial r}$\n"
   ]
  },
  {
   "cell_type": "code",
   "execution_count": null,
   "metadata": {},
   "outputs": [],
   "source": [
    "positions = np.linspace(-4, 4, test_timing_with_points)\n",
    "\n",
    "w1 = potentials1D.harmonicOscillatorPotential()\n",
    "w2 = potentials1D.harmonicOscillatorPotential(k=11)\n",
    "\n",
    "V = potentials1D.linearCoupledPotentials(Va=w1, Vb=w2)\n",
    "#print(V)\n",
    "\n",
    "print(\"calculate \"+str(len(positions))+\" positions: \")\n",
    "%time V.ene(positions)\n",
    "\n",
    "print(\"\\nVisualization\")\n",
    "fig, axes = vis.plot_potential(V, positions=positions)\n"
   ]
  },
  {
   "cell_type": "code",
   "execution_count": null,
   "metadata": {},
   "outputs": [],
   "source": [
    "positions = np.linspace(-4, 4, test_timing_with_points)\n",
    "\n",
    "w1 = potentials1D.harmonicOscillatorPotential(k=10, x_shift=-2)\n",
    "w2 = potentials1D.harmonicOscillatorPotential(k=10, x_shift=2)\n",
    "\n",
    "\n",
    "w1 = potentials1D.harmonicOscillatorPotential(k=12, x_shift=-2)\n",
    "w2 = potentials1D.harmonicOscillatorPotential(k=12, x_shift=2)\n",
    "V = potentials1D.linearCoupledPotentials(Va=w1, Vb=w2)\n",
    "\n",
    "lambda_ene = []\n",
    "for lam in np.arange(0, 1, 0.01):\n",
    "    V.set_lambda(lam)\n",
    "    lambda_ene.append(V.ene(positions))\n",
    "\n",
    "print(\"\\nVisualization\")\n",
    "fig, ax = plt.subplots(ncols=1, figsize=[10,10])\n",
    "mapping = ax.imshow(lambda_ene, extent=[0,100, 0,100], vmin=0, vmax=50)\n",
    "opt_labels = np.array(ax.get_yticks())/100\n",
    "ax.set_yticklabels(opt_labels)\n",
    "opt_labels = np.round(((np.array(ax.get_yticks())/100)*8)-4,2)\n",
    "ax.set_xticklabels(opt_labels)\n",
    "\n",
    "ax.set_ylabel(\"lambda\")\n",
    "ax.set_xlabel(\"r\")\n",
    "cm = plt.colorbar(mapping)\n",
    "cm.set_label(\"V\")\n",
    "fig.tight_layout()\n"
   ]
  },
  {
   "cell_type": "markdown",
   "metadata": {
    "pycharm": {
     "name": "#%% md\n"
    }
   },
   "source": [
    "### exponential Copuled - Enveloping Potential\n",
    "This way of coupling is used in enveloping distribution sampling (EDS). The coupling scheme is generating an artificial reference state, via summing the end potentials in a log-sum-exp operation. The reference state contains two parameters the smoothing parameter $s$ and the energy offset vector $E^R$.\n",
    "\n",
    "\n",
    "Functional:\n",
    "\n",
    "$V(r) = -\\frac{1}{k_b T s} ln(e^{- k_b T s (V_i-E^{off}_i)}+e^{-k_b T s (V_j-E^{off}_j)})$\n",
    "\n"
   ]
  },
  {
   "cell_type": "code",
   "execution_count": null,
   "metadata": {},
   "outputs": [],
   "source": [
    "positions = np.linspace(-4, 4, test_timing_with_points*10000)\n",
    "\n",
    "w1 = potentials1D.harmonicOscillatorPotential(x_shift=-2)\n",
    "w2 = potentials1D.harmonicOscillatorPotential(x_shift=2)\n",
    "\n",
    "#print(w1, w2)\n",
    "V = potentials1D.exponentialCoupledPotentials(Va=w1, Vb=w2, s=1, eoffA=0, eoffB=0)\n",
    "#print(V)\n",
    "\n",
    "print(\"calculate \"+str(len(positions))+\" positions: \")\n",
    "%time V.ene(positions)\n",
    "\n",
    "print(\"\\nVisualization\")\n",
    "fig, axes = vis.plot_potential(V, positions=positions)\n",
    "plt.show()\n",
    "plt.close()\n",
    "plt.plot(positions, V.ene(positions))\n",
    "plt.plot(positions, w1.ene(positions))\n",
    "plt.plot(positions, w2.ene(positions))\n",
    "plt.ylim([0,2])\n"
   ]
  },
  {
   "cell_type": "markdown",
   "metadata": {
    "pycharm": {
     "name": "#%% md\n"
    }
   },
   "source": [
    "### linear & exponential hybrid Copuled - $\\lambda$ EDS\n",
    "This is a generalization, combining both previously introduced coupling schemes into one.\n",
    "\n",
    "Functional:\n",
    "\n",
    "$V(r) = -\\frac{1}{k_b T s} ln(\\lambda e^{- k_b T s (V_i-E^{off}_i)}+(1-\\lambda)e^{-k_b T s (V_j-E^{off}_j)})$\n",
    "\n"
   ]
  },
  {
   "cell_type": "code",
   "execution_count": null,
   "metadata": {},
   "outputs": [],
   "source": [
    "positions = np.linspace(-4, 4, test_timing_with_points)\n",
    "\n",
    "w1 = potentials1D.harmonicOscillatorPotential(x_shift=-2)\n",
    "w2 = potentials1D.harmonicOscillatorPotential(x_shift=2)\n",
    "\n",
    "V = potentials1D.hybridCoupledPotentials(Va=w1, Vb=w2, lam=0.5)\n",
    "#print(V)\n",
    "\n",
    "print(\"calculate \"+str(len(positions))+\" positions: \")\n",
    "%time V.ene(positions)\n",
    "\n",
    "print(\"\\nVisualization\")\n",
    "fig, axes = vis.plot_potential(V, positions=positions)\n",
    "plt.show()\n",
    "plt.close()\n",
    "plt.plot(positions, V.ene(positions))\n",
    "plt.plot(positions, w1.ene(positions))\n",
    "plt.plot(positions, w2.ene(positions))\n",
    "\n",
    "plt.ylim([0,2])\n",
    "\n",
    "\n",
    "#perturbed potentilas\n"
   ]
  },
  {
   "cell_type": "markdown",
   "metadata": {
    "pycharm": {
     "name": "#%% md\n"
    }
   },
   "source": [
    "Next we will show, how the system changes with $\\lambda$."
   ]
  },
  {
   "cell_type": "code",
   "execution_count": null,
   "metadata": {},
   "outputs": [],
   "source": [
    "positions = np.linspace(-4, 4, test_timing_with_points)\n",
    "\n",
    "w1 = potentials1D.harmonicOscillatorPotential(k=12, x_shift=-2)\n",
    "w2 = potentials1D.harmonicOscillatorPotential(k=12, x_shift=2)\n",
    "V = potentials1D.hybridCoupledPotentials(Va=w1, Vb=w2, s=0.1)\n",
    "\n",
    "lambda_ene = []\n",
    "for lam in np.arange(0, 1.01, 0.01):\n",
    "    V.set_lambda(lam)\n",
    "    lambda_ene.append(V.ene(positions))\n",
    "\n",
    "print(\"\\nVisualization\")\n",
    "fig, ax = plt.subplots(ncols=1, figsize=[10,10])\n",
    "mapping = ax.imshow(lambda_ene, extent=[0,100, 0,100], vmin=0, vmax=10)\n",
    "opt_labels = np.array(ax.get_yticks())/100\n",
    "ax.set_yticklabels(opt_labels)\n",
    "opt_labels = np.round(((np.array(ax.get_yticks())/100)*8)-4,2)\n",
    "ax.set_xticklabels(opt_labels)\n",
    "\n",
    "ax.set_ylabel(\"lambda\")\n",
    "ax.set_xlabel(\"r\")\n",
    "cm = plt.colorbar(mapping)\n",
    "cm.set_label(\"V\")\n",
    "fig.tight_layout()\n"
   ]
  },
  {
   "cell_type": "markdown",
   "metadata": {
    "pycharm": {
     "name": "#%% md\n"
    }
   },
   "source": [
    "To smoothen the transition and lowering the barrier between the states, the $\\lambda$ and the s parameter can be changed simultaneosly."
   ]
  },
  {
   "cell_type": "code",
   "execution_count": null,
   "metadata": {},
   "outputs": [],
   "source": [
    "positions = np.linspace(-4, 4, test_timing_with_points)\n",
    "\n",
    "w1 = potentials1D.harmonicOscillatorPotential(k=12, x_shift=-2)\n",
    "w2 = potentials1D.harmonicOscillatorPotential(k=12, x_shift=2)\n",
    "V = potentials1D.hybridCoupledPotentials(Va=w1, Vb=w2, s=0.1)\n",
    "\n",
    "\n",
    "points=50\n",
    "lambda_ene = []\n",
    "for lam, s in zip(np.linspace(0, 0.5, points), np.logspace(0, -3,  points)):\n",
    "    V.set_lambda(lam)\n",
    "    V.s=s\n",
    "    lambda_ene.append(V.ene(positions))\n",
    "for lam, s in zip(np.linspace(0.51, 1,  points), np.logspace(-3, 0,  points)):\n",
    "    V.set_lambda(lam)\n",
    "    V.s=s\n",
    "    lambda_ene.append(V.ene(positions))\n",
    "\n",
    "print(\"\\nVisualization\")\n",
    "fig, ax = plt.subplots(ncols=1, figsize=[10,10])\n",
    "mapping = ax.imshow(lambda_ene, extent=[0,100, 0,100], vmin=0, vmax=30)\n",
    "opt_labels = np.array(ax.get_yticks())/100\n",
    "ax.set_yticklabels(opt_labels)\n",
    "opt_labels = np.round(((np.array(ax.get_yticks())/100)*8)-4,2)\n",
    "ax.set_xticklabels(opt_labels)\n",
    "\n",
    "ax.set_ylabel(\"lambda\")\n",
    "ax.set_xlabel(\"r\")\n",
    "cm = plt.colorbar(mapping)\n",
    "cm.set_label(\"V\")\n",
    "fig.tight_layout()\n"
   ]
  },
  {
   "cell_type": "markdown",
   "metadata": {},
   "source": [
    "## Special Potentials\n",
    "\n",
    "The Gerhard Koenig speciality corner. Here we have some special potential for very special usecases."
   ]
  },
  {
   "cell_type": "markdown",
   "metadata": {
    "pycharm": {
     "name": "#%% md\n"
    }
   },
   "source": [
    "### dummy Potential\n",
    "\n",
    "This potential returns always the same value independt on its position.\n",
    "\n"
   ]
  },
  {
   "cell_type": "code",
   "execution_count": null,
   "metadata": {},
   "outputs": [],
   "source": [
    "positions = np.linspace(1,100, test_timing_with_points)\n",
    "\n",
    "V = potentials1D.dummyPotential()\n",
    "\n",
    "print(\"calculate \"+str(len(positions))+\" positions: \")\n",
    "%time V.ene(positions)\n",
    "\n",
    "print(\"\\nVisualization\")\n",
    "fig, axes = vis.plot_potential(V, positions=positions)"
   ]
  },
  {
   "cell_type": "markdown",
   "metadata": {},
   "source": [
    "### Flatwell Potential\n",
    "\n",
    "A potential return dependent on a position a value in a binary fashion\n"
   ]
  },
  {
   "cell_type": "code",
   "execution_count": null,
   "metadata": {},
   "outputs": [],
   "source": [
    "positions = np.linspace(-10,10, test_timing_with_points)\n",
    "\n",
    "V = potentials1D.flatwellPotential(y_min=0)\n",
    "\n",
    "print(\"calculate \"+str(len(positions))+\" positions: \")\n",
    "%time V.ene(positions)\n",
    "\n",
    "print(\"\\nVisualization\")\n",
    "fig, _ = vis.plot_potential(V, positions=positions, y_range=[-5,5])"
   ]
  }
 ],
 "metadata": {
  "language_info": {
   "name": "python"
  }
 },
 "nbformat": 4,
 "nbformat_minor": 2
}

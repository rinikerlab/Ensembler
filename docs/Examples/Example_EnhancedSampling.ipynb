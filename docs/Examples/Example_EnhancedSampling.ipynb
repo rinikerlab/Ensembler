{
 "cells": [
  {
   "cell_type": "markdown",
   "metadata": {},
   "source": [
    "# Enhanced Sampling Simulations\n",
    "## with Ensembler"
   ]
  },
  {
   "cell_type": "markdown",
   "metadata": {},
   "source": [
    "In this notebook, we give examples for enhanced sampling simulation with Ensembler. We show how to execute, visualize, and analyze those simulations for both 1D and 2D systems.\n",
    "\n",
    "The enhanced sampling technologies are briefly explained in order to directly use this notebook for teaching purpose.\n",
    "\n",
    "Maintainers: [@SchroederB](https://https://github.com/SchroederB), [@linkerst](https://https://github.com/linkerst), [@dfhahn](https://https://github.com/dfhahn)"
   ]
  },
  {
   "cell_type": "markdown",
   "metadata": {},
   "source": [
    "## Loading Ensembler and necessary external packages "
   ]
  },
  {
   "cell_type": "code",
   "execution_count": 3,
   "metadata": {},
   "outputs": [
    {
     "name": "stdout",
     "output_type": "stream",
     "text": [
      "C:\\Users\\benja\\OneDrive - ETH Zürich\\PhD\\Code\\ensembler_public\\examples/..\n"
     ]
    },
    {
     "ename": "ModuleNotFoundError",
     "evalue": "No module named 'ensembler.potentials.biased_potentials'",
     "output_type": "error",
     "traceback": [
      "\u001b[1;31m---------------------------------------------------------------------------\u001b[0m",
      "\u001b[1;31mModuleNotFoundError\u001b[0m                       Traceback (most recent call last)",
      "\u001b[1;32m<ipython-input-3-67fe823cf916>\u001b[0m in \u001b[0;36m<module>\u001b[1;34m\u001b[0m\n\u001b[0;32m     14\u001b[0m \u001b[1;32mfrom\u001b[0m \u001b[0mensembler\u001b[0m\u001b[1;33m.\u001b[0m\u001b[0mpotentials\u001b[0m\u001b[1;33m.\u001b[0m\u001b[0mTwoD\u001b[0m \u001b[1;32mimport\u001b[0m \u001b[0mharmonicOscillatorPotential\u001b[0m \u001b[1;32mas\u001b[0m \u001b[0mharmonicOscillator2D\u001b[0m\u001b[1;33m,\u001b[0m  \u001b[0mwavePotential\u001b[0m \u001b[1;32mas\u001b[0m \u001b[0mwavePotential2D\u001b[0m\u001b[1;33m,\u001b[0m \u001b[0mgaussPotential\u001b[0m\u001b[1;33m\u001b[0m\u001b[1;33m\u001b[0m\u001b[0m\n\u001b[0;32m     15\u001b[0m \u001b[1;33m\u001b[0m\u001b[0m\n\u001b[1;32m---> 16\u001b[1;33m \u001b[1;32mfrom\u001b[0m \u001b[0mensembler\u001b[0m\u001b[1;33m.\u001b[0m\u001b[0mpotentials\u001b[0m\u001b[1;33m.\u001b[0m\u001b[0mbiased_potentials\u001b[0m\u001b[1;33m.\u001b[0m\u001b[0mOneD\u001b[0m \u001b[1;32mimport\u001b[0m \u001b[0maddedPotentials\u001b[0m\u001b[1;33m,\u001b[0m \u001b[0mmetadynamicsPotential\u001b[0m\u001b[1;33m\u001b[0m\u001b[1;33m\u001b[0m\u001b[0m\n\u001b[0m\u001b[0;32m     17\u001b[0m \u001b[1;32mfrom\u001b[0m \u001b[0mensembler\u001b[0m\u001b[1;33m.\u001b[0m\u001b[0mpotentials\u001b[0m\u001b[1;33m.\u001b[0m\u001b[0mbiased_potentials\u001b[0m\u001b[1;33m.\u001b[0m\u001b[0mTwoD\u001b[0m \u001b[1;32mimport\u001b[0m \u001b[0maddedPotentials\u001b[0m \u001b[1;32mas\u001b[0m \u001b[0maddedPotentials2D\u001b[0m\u001b[1;33m,\u001b[0m \u001b[0mmetadynamicsPotential\u001b[0m \u001b[1;32mas\u001b[0m \u001b[0mmetadynamicsPotential2D\u001b[0m\u001b[1;33m\u001b[0m\u001b[1;33m\u001b[0m\u001b[0m\n\u001b[0;32m     18\u001b[0m \u001b[1;32mfrom\u001b[0m \u001b[0mensembler\u001b[0m\u001b[1;33m.\u001b[0m\u001b[0msamplers\u001b[0m\u001b[1;33m.\u001b[0m\u001b[0mstochastic\u001b[0m \u001b[1;32mimport\u001b[0m \u001b[0mlangevinIntegrator\u001b[0m\u001b[1;33m\u001b[0m\u001b[1;33m\u001b[0m\u001b[0m\n",
      "\u001b[1;31mModuleNotFoundError\u001b[0m: No module named 'ensembler.potentials.biased_potentials'"
     ]
    }
   ],
   "source": [
    "import os, sys\n",
    "my_path = os.getcwd()+\"/..\"\n",
    "print(my_path)\n",
    "sys.path.append(my_path)\n",
    "\n",
    "import matplotlib\n",
    "matplotlib.use('TkAgg')\n",
    "\n",
    "import numpy as np\n",
    "%matplotlib inline\n",
    "from matplotlib import pyplot as plt\n",
    "\n",
    "from ensembler.potentials.OneD import fourWellPotential, harmonicOscillatorPotential\n",
    "from ensembler.potentials.TwoD import harmonicOscillatorPotential as harmonicOscillator2D,  wavePotential as wavePotential2D, gaussPotential\n",
    "\n",
    "from ensembler.potentials.biased_potentials.OneD import addedPotentials, metadynamicsPotential\n",
    "from ensembler.potentials.biased_potentials.TwoD import addedPotentials as addedPotentials2D, metadynamicsPotential as metadynamicsPotential2D\n",
    "from ensembler.samplers.stochastic import langevinIntegrator\n",
    "from ensembler.system import system\n",
    "\n",
    "##Visualisation\n",
    "from ensembler.visualisation.plotSimulations import simulation_analysis_plot"
   ]
  },
  {
   "cell_type": "markdown",
   "metadata": {},
   "source": [
    "## Enhanced Sampling Simulations in 1D"
   ]
  },
  {
   "cell_type": "markdown",
   "metadata": {},
   "source": [
    "### Unbiased System"
   ]
  },
  {
   "cell_type": "markdown",
   "metadata": {},
   "source": [
    "We start our walkthrough with an unbiased reference simulation of a four-well-potential and give a small introduction in how to set up a simulation with Ensembler. To define the four-well-potential one has to define the x-positions ($a$-$d$) of the four wells. The y-position of the wells is defined by the parameters $ah$ - $dh$. If wished, the potential can also be scaled in the y-direction using $V_{max}$. Note that the energy is given in units of $k_BT$.  "
   ]
  },
  {
   "cell_type": "code",
   "execution_count": null,
   "metadata": {},
   "outputs": [],
   "source": [
    "# Simulation Setup\n",
    "pot = fourWellPotential(Vmax=4, a=1.5, b=4.0, c=7.0, d=9.0,  ah=2., bh=0., ch=0.5, dh=1.)"
   ]
  },
  {
   "cell_type": "markdown",
   "metadata": {},
   "source": [
    "For the numeric integration of our system we choose the stochastic Langevin integrator. As arguments one has to choose the step size $dt$ and the friction coefficient $gamma$. Note that this integrator already includes a thermostat. The temperature of the simulation will be set during the system setup (see below)."
   ]
  },
  {
   "cell_type": "code",
   "execution_count": null,
   "metadata": {},
   "outputs": [],
   "source": [
    "# Simple Langevin integration simulation\n",
    "integrator = langevinIntegrator(dt=0.1, gamma=15)"
   ]
  },
  {
   "cell_type": "markdown",
   "metadata": {},
   "source": [
    "The system wraps the integrator and the potential. Additionally, the initial system of the particle $position$ as well as the temperature parameter $temperature$ are set."
   ]
  },
  {
   "cell_type": "code",
   "execution_count": null,
   "metadata": {},
   "outputs": [],
   "source": [
    "# Put Potential and Integrator together to generate the simulation system \n",
    "system1 = system(potential=pot, sampler=integrator,  start_position=4.2,  temperature=1)"
   ]
  },
  {
   "cell_type": "markdown",
   "metadata": {},
   "source": [
    "To start the simulation we define the number of steps and run `sys.simulate()`. The progress of the simulation is displayed by a progress bar."
   ]
  },
  {
   "cell_type": "code",
   "execution_count": null,
   "metadata": {},
   "outputs": [],
   "source": [
    "#simulate\n",
    "sim_steps = 2000\n",
    "cur_state = system1.simulate(sim_steps, withdraw_traj=True, init_system=False)\n",
    "\n",
    "print(\"Trajectory length: \",len(system1.trajectory))\n",
    "print()\n",
    "print(\"last_state: \", cur_state)\n",
    "print(len(system1.trajectory))"
   ]
  },
  {
   "cell_type": "markdown",
   "metadata": {},
   "source": [
    "After running the simulation, the simulation data can be displayed as a table using `sys.trajectory`. Note that we used a position Langevin integrator that did not calculate the velocities explicitly. Therefore, the kinetic energy and velocity are not defined. If you want to calculate the velocities during the simulation use the `langevinVelocityIntegrator` instead."
   ]
  },
  {
   "cell_type": "code",
   "execution_count": null,
   "metadata": {},
   "outputs": [],
   "source": [
    "system1.trajectory.head()"
   ]
  },
  {
   "cell_type": "markdown",
   "metadata": {},
   "source": [
    "The simulation results can be visualized using the build-in visualizing tool. The left panel displays the energy surface as well as all visited states. The start and end-state are colored in red and green, respectively. The middle panel shows the probability density distribution of the simulation. This plot can be used to check if the system was simulated successfully. The rightmost panel shows the development of the force over time. \n",
    "\n",
    "Note that without enhanced sampling only the minimum around x=4 is sampled. It would require a very long simulation time to overcome the energetic barrier and hence a lot of computing time. Enhanced sampling methods were developed to speed up those slow processes. We will explore some of the most commonly used enhanced sampling methods in the subsequent notebook.   "
   ]
  },
  {
   "cell_type": "code",
   "execution_count": null,
   "metadata": {},
   "outputs": [],
   "source": [
    "#plot\n",
    "simulation_analysis_plot(system1, title=\"position Langevin\", limits_coordinate_space=list(range(0,10)))"
   ]
  },
  {
   "cell_type": "markdown",
   "metadata": {},
   "source": [
    "## Enhanced sampling"
   ]
  },
  {
   "cell_type": "markdown",
   "metadata": {},
   "source": [
    "Enhanced sampling methods can be divided into time-independent and time-dependent methods. Time-independent biases stay the same throughout the whole simulation whereas for time-dependent enhanced sampling the bias is updated during the simulation time."
   ]
  },
  {
   "cell_type": "markdown",
   "metadata": {},
   "source": [
    "### Time-independent bias"
   ]
  },
  {
   "cell_type": "markdown",
   "metadata": {},
   "source": [
    "Umbrella sampling is a time-independent enhanced sampling method where energy barriers are overcome by adding a bias potential. Note that umbrella sampling requires the choice of a reaction coordinate along which the bias is added. The choice of a suitable reaction coordinate is non-trivial for high dimensional systems. For our low dimensional 1D we can simply chose the x-axis.\n",
    "\n",
    "One of the most frequent umbrella sampling method uses hormonic potentials to restrain the sampling to a certain region of the potential. This is especially useful for sampling transition regions."
   ]
  },
  {
   "cell_type": "markdown",
   "metadata": {},
   "source": [
    "#### Umbrella sampling"
   ]
  },
  {
   "cell_type": "markdown",
   "metadata": {},
   "source": [
    "We start as in the unbiased case by defining the potential. However, we have to define two potentials; the original potential and the bias potential. The original potential is the same potential as defined above, the bias potential is a hormonic oscillator centered at $x_{shift}$ and force constant $k$. In this case we want to sample the transition region around $x$ = 5.5. Therefore, we set the $x_{shift}$ parameter to 5.5. The force constant $k$ defines how much we constrain the system. The higher the energy barrier, the more constrain is needed. \n",
    "\n",
    "To sample the full potential energy landscape, we can set up multiple simulations with different $x_{shift}$ parameters. For subsequent analysis of umbrella sampling simulations (e.g. using the weighted histogram analysis method WHAM) it is important that the sampling space of the different simulations overlap. The higher the force constant $k$, the more simulations are needed achieve the overlap."
   ]
  },
  {
   "cell_type": "code",
   "execution_count": null,
   "metadata": {},
   "outputs": [],
   "source": [
    "#Simulation Setup\n",
    "origpot = fourWellPotential(Vmax=4, a=1.5, b=4.0, c=7.0, d=9.0,  ah=2., bh=0., ch=0.5, dh=1.)\n",
    "biaspot = harmonicOscillatorPotential(k=10, x_shift=5.5)"
   ]
  },
  {
   "cell_type": "markdown",
   "metadata": {},
   "source": [
    "The `addedPotentials` function of the biasOneD class wraps any two 1D potentials together. Therefore, it is straightforward to generate the enhanced sampling system from the original and biased potential."
   ]
  },
  {
   "cell_type": "code",
   "execution_count": null,
   "metadata": {},
   "outputs": [],
   "source": [
    "#Add the bias and the original system\n",
    "totpot = addedPotentials(origpot, biaspot)"
   ]
  },
  {
   "cell_type": "markdown",
   "metadata": {},
   "source": [
    "All subsequent steps are identical to the unbiased system. Note, that the starting position of the simulation has to match to the $x_{shift}$ parameter (i.e. should be reasonable close to $x_{shift}$) in order to avoid starting the simulation at very high energy states."
   ]
  },
  {
   "cell_type": "code",
   "execution_count": null,
   "metadata": {},
   "outputs": [],
   "source": [
    "integrator = langevinIntegrator(dt=0.1, gamma=15)\n",
    "system2=system(potential=totpot, sampler=integrator,  start_position=4.2,  temperature=1)\n",
    "\n",
    "#simulate\n",
    "sim_steps = 2000\n",
    "cur_state = system2.simulate(sim_steps, withdraw_traj=True, init_system=False)\n",
    "\n",
    "print(\"Trajectory length: \",len(system2.trajectory))\n",
    "print()\n",
    "print(\"last_state: \", cur_state)\n",
    "print(len(system2.trajectory))\n",
    "system2.trajectory.head()"
   ]
  },
  {
   "cell_type": "markdown",
   "metadata": {},
   "source": [
    "In order to visualize the original potential, biased potential and the resulting potential we defined a new plotting function `oneD_biased_simulation_analysis_plot`. The first panel shows the energy surfaces of the system as well as its sampled fraction. The original energy surface is displayed in red, the added biased one in grey and the resulting energy surface in blue. The positions sampled are shown with orange dots. The middle panel shows a violin plot with the probability density for the sampled points. This plot can be used as a sanity check for the system; for converged systems this plot should show higher probability densities at energy minima and little at high energy regions (following a Boltzmann distribution). The last panel shows the force experienced by the system over time."
   ]
  },
  {
   "cell_type": "code",
   "execution_count": null,
   "metadata": {},
   "outputs": [],
   "source": [
    "#plot\n",
    "simulation_analysis_plot(system2, title=\"position Langevin\", limits_coordinate_space=list(range(0,10)), limits_potential_system_energy=[0,30])"
   ]
  },
  {
   "cell_type": "markdown",
   "metadata": {},
   "source": [
    "With the visualization we can see that umbrella sampling enables the user to sample the high energy transition region around x=5.5. In contrast, the unbiased simulation (see above) was stuck at the minimum around x=4.   "
   ]
  },
  {
   "cell_type": "markdown",
   "metadata": {},
   "source": [
    "##### Scaled potential"
   ]
  },
  {
   "cell_type": "markdown",
   "metadata": {},
   "source": [
    "`addedPotentials` can add any potential classes with a given dimensionality. In the special case of adding the same energy potential that was used to define the original system, one can scale the potential. In the example below we chose a four well potential that we will scale down in order to cross the energy barriers more easily. The procedure to define the original and bias potential are the same as described above."
   ]
  },
  {
   "cell_type": "code",
   "execution_count": null,
   "metadata": {},
   "outputs": [],
   "source": [
    "sim_steps = 2000\n",
    "\n",
    "#Simulation Setup\n",
    "origpot=fourWellPotential(Vmax=4, a=1.5, b=4.0, c=7.0, d=9.0,  ah=2., bh=0., ch=0.5, dh=1.)\n",
    "biaspot = fourWellPotential(Vmax=-3.5, a=1.5, b=4.0, c=7.0, d=9.0,  ah=2., bh=0., ch=0.5, dh=1.)\n",
    "#Add the bias and the original system\n",
    "totpot = addedPotentials(origpot, biaspot)\n",
    "\n",
    "integrator = langevinIntegrator(dt=0.1, gamma=15)\n",
    "\n",
    "system3=system(potential=totpot, sampler=integrator,  start_position=4.2,  temperature=1)\n",
    "\n",
    "#simulate\n",
    "cur_state = system3.simulate(sim_steps, withdraw_traj=True, init_system=False)\n",
    "\n",
    "print(\"Trajectory length: \",len(system3.trajectory))\n",
    "print()\n",
    "print(\"last_state: \", cur_state)\n",
    "print(len(system3.trajectory))\n",
    "system3.trajectory.head()"
   ]
  },
  {
   "cell_type": "code",
   "execution_count": null,
   "metadata": {},
   "outputs": [],
   "source": [
    "#plot\n",
    "simulation_analysis_plot(system3, title=\"position Langevin\", limits_coordinate_space=list(range(0,10)), limits_potential_system_energy=[0,17])"
   ]
  },
  {
   "cell_type": "markdown",
   "metadata": {},
   "source": [
    "Through the visualization we get the confirmation that we scaled the original potential (first panel, red line) down to 12.5% of its original height. Accordingly, the system has now enough thermal energy to cross all energy barriers and all four minima can be sampled."
   ]
  },
  {
   "cell_type": "markdown",
   "metadata": {},
   "source": [
    "### Time-dependent bias"
   ]
  },
  {
   "cell_type": "markdown",
   "metadata": {},
   "source": [
    "Time-dependent biasing methods update the bias during the simulation time. A frequently used time-dependent method is metadynamics/local elevation. There, a gaussian potential is added to the positions that were already visited during the simulation. Therefore, visiting these positions again, is energetically less favorable then in the previous visit (energetic penal). \n",
    "\n",
    "Note that in case of a gaussian bias potential, the mean of the gaussian is set to the current position of the particle and its width should be chosen small enough to avoid a big penal for neighboring states. Step by step the energetic minima are \"flooded\" and the particle can cross barriers more easily. In most applications the bias is only added every $n^{th}$ step to iterate between free diffusion and biasing steps."
   ]
  },
  {
   "cell_type": "markdown",
   "metadata": {
    "collapsed": true
   },
   "source": [
    "#### Metadynamics / Local elevation"
   ]
  },
  {
   "cell_type": "markdown",
   "metadata": {},
   "source": [
    "We first define the original four-well potential. To apply metadynamics/local elevation we use the `metadynamicsPotential` function. In the initialization we have to define the height ($amplitude$) and width ($sigma$) of the gaussian bias function added. This bias potential is added every $n\\_trigger$ steps to the current position. \n",
    "\n",
    "Adding more and more potentials every step leads to an energy function that demands more and more computation time every step. To avoid slowdown of the simulation the metadynamic bias is usually stored and calculated grid based. This allow a much faster simulation but comes at the cost of additional input parameter and small numerical errors in the bias force calculations. To initialize the grid, the user has to define the minimum x-position ($bias\\_grid\\_min$) and the maximum x-position ($bias\\_grid\\_max$) the grid should cover as well as the number of grid bins. Note, that no bias. will be added to values below $bias\\_grid\\_min$ or above $bias\\_grid\\_max$.\n",
    "\n",
    "In our example system we want to sample all four energy minima. Therefore, it is sufficient to set the grid between 0 and 10, which covers all four minima.\n",
    "\n",
    "For the metadynamics/local elevation simulation we will reduce the simulation length by the factor of 10. This makes it easier to visually distinguish, and thus understand, the effect of metadynamics/local elevation."
   ]
  },
  {
   "cell_type": "code",
   "execution_count": null,
   "metadata": {},
   "outputs": [],
   "source": [
    "sim_steps = 200  # reduced simulation length\n",
    "\n",
    "#Simulation Setup\n",
    "origpot = fourWellPotential(Vmax=4, a=1.5, b=4.0, c=7.0, d=9.0,  ah=2., bh=0., ch=0.5, dh=1.)\n",
    "\n",
    "#Performe metadynamics\n",
    "totpot = metadynamicsPotential(origpot, amplitude=.5, sigma=0.2, n_trigger=5,\n",
    "                               bias_grid_min=0, bias_grid_max=10, numbins=1000)\n",
    "\n",
    "integrator = langevinIntegrator(dt=0.1, gamma=15)\n",
    "\n",
    "system4=system(potential=totpot, sampler=integrator,  start_position=4,  temperature=1)\n",
    "\n",
    "#simulate\n",
    "cur_state = system4.simulate(sim_steps, withdraw_traj=True, init_system=False)\n",
    "\n",
    "print(\"Trajectory length: \",len(system4.trajectory))\n",
    "print()\n",
    "print(\"last_state: \", cur_state)\n",
    "print(len(system4.trajectory))\n",
    "system4.trajectory.head()\n"
   ]
  },
  {
   "cell_type": "markdown",
   "metadata": {},
   "source": [
    "It is not necessary to show the bias potential for metadynamic/local elevation systems, because the bias is updated during the simulation time. Therefore, metadynamic systems are visualized with the default `oneD_simulation_analysis_plot` function. `oneD_simulation_analysis_plot` will display the resulting potential after the last simulation step."
   ]
  },
  {
   "cell_type": "code",
   "execution_count": null,
   "metadata": {},
   "outputs": [],
   "source": [
    "#plot\n",
    "simulation_analysis_plot(system4, title=\"position Langevin\", limits_coordinate_space=list(range(0,10)))"
   ]
  },
  {
   "cell_type": "markdown",
   "metadata": {},
   "source": [
    "In the first panel of the visualization we can see how the system's energy minimum around x=4 was flooded and the particle can cross neighboring energy barriers more easily. The longer one simulates, the flatter the whole energy surface become. Note however, that artifacts can arise once the system leaves the grid defined by $bias\\_grid\\_min$ and $bias\\_grid\\_max$. Therefore, these parameters have to be selected very carefully.\n",
    "\n",
    "\n",
    "The Ensembler package also contains a build-in functionality to make short movies of the simulation using `animation_trajectory`. An example code is shown below."
   ]
  },
  {
   "cell_type": "code",
   "execution_count": null,
   "metadata": {},
   "outputs": [],
   "source": [
    "%matplotlib inline\n",
    "import tempfile\n",
    "from IPython.display import HTML\n",
    "from ensembler.visualisation.animationSimulation import animation_trajectory, animation_EDS_trajectory\n",
    "#plot simulation\n",
    "ani, out_path = animation_trajectory(system4, limits_coordinate_space=list([0,8]), title=\"Awesome MetaDynamics\",resolution_of_analytic_potential=1000)\n",
    "\n",
    "##put it into jupyter:\n",
    "\n",
    "os.chdir(tempfile.gettempdir())\n",
    "x = ani.to_jshtml()\n",
    "HTML(x)"
   ]
  },
  {
   "cell_type": "markdown",
   "metadata": {},
   "source": [
    "## 2D systems"
   ]
  },
  {
   "cell_type": "markdown",
   "metadata": {},
   "source": [
    "Enhanced sampling can also be performed in 2D. In the subsequent examples we show for the same enhanced sampling methods as above, how to set up, bias and visualize 2D systems.\n",
    "\n",
    "To keep the usage of Ensembler as simple as possible, using 2D systems only requires minor changes with regard to 1D systems. Therefore, the description of the 2D systems are kept short. A more detailed description can be found at the corresponding 1D system."
   ]
  },
  {
   "cell_type": "markdown",
   "metadata": {},
   "source": [
    "### Unbiased system"
   ]
  },
  {
   "cell_type": "markdown",
   "metadata": {},
   "source": [
    "We first simulate the 2D system without any bias. In order to perform a 2D simulation, one simply has to choose a 2D potential. The Ensembler package then automatically adjusts all other parameters. If one wishes to set initial coordinates or velocities for the simulation, those should be 2D array.\n"
   ]
  },
  {
   "cell_type": "code",
   "execution_count": null,
   "metadata": {},
   "outputs": [],
   "source": [
    "sim_steps = 2000\n",
    "\n",
    "#Simulation Setup\n",
    "origpot = wavePotential2D(amplitude=(100,100), multiplicity=[1/5.,1/5.], radians=True)\n",
    "\n",
    "integrator = langevinIntegrator(dt=0.1, gamma=15)\n",
    "\n",
    "system5=system(potential=origpot, sampler=integrator,  start_position=np.array([50,50]),  temperature=3)\n",
    "system.conditions = []\n",
    "#simulate\n",
    "cur_state = system5.simulate(sim_steps, withdraw_traj=True, init_system=False)\n",
    "\n",
    "print(\"Trajectory length: \",len(system5.trajectory))\n",
    "print()\n",
    "print(\"last_state: \", cur_state)\n",
    "print(len(system5.trajectory))\n",
    "system5.trajectory.head()"
   ]
  },
  {
   "cell_type": "code",
   "execution_count": null,
   "metadata": {
    "pycharm": {
     "name": "#%%\n"
    }
   },
   "outputs": [],
   "source": [
    "system5.potential"
   ]
  },
  {
   "cell_type": "markdown",
   "metadata": {},
   "source": [
    "After the simulation we can visualize the simulation on the 2D energy surface.\n",
    "\n",
    "In the visualization, we can see that the system contains multiple energy minima and maxima. The simulation was started in a minimum. During the simulation time the simulated particle is unable to leave this start minimum."
   ]
  },
  {
   "cell_type": "code",
   "execution_count": null,
   "metadata": {},
   "outputs": [],
   "source": [
    "simulation_analysis_plot(system=system5, limits_coordinate_space=[[-180,180],[-180,180]])\n"
   ]
  },
  {
   "cell_type": "markdown",
   "metadata": {},
   "source": [
    "### Umbrella Sampling"
   ]
  },
  {
   "cell_type": "markdown",
   "metadata": {},
   "source": [
    "Umbrella sampling is performed with the `addedPotential2D` function that works analogous to the `addedPotential` function for 1D. However, it expects two 2D potentials as input. Here we make umbrella sampling with a harmonic potential centered around point [10,5]. If needed, one can define different spring constants in x and y direction."
   ]
  },
  {
   "cell_type": "code",
   "execution_count": null,
   "metadata": {},
   "outputs": [],
   "source": [
    "sim_steps = 2000\n",
    "\n",
    "#Simulation Setup\n",
    "origpot = wavePotential2D(amplitude=(100,100), multiplicity=[1/5.,1/5.], radians=True)\n",
    "biaspot = harmonicOscillator2D(k=np.array([10,10]), r_shift=np.array([10,5])) \n",
    "\n",
    "#Add the bias and the original system\n",
    "totpot = addedPotentials2D(origpot, biaspot)\n",
    "\n",
    "integrator = langevinIntegrator(dt=0.1, gamma=15)\n",
    "\n",
    "system6=system(potential=totpot, sampler=integrator,  start_position=np.array([50,50]),  temperature=3)\n",
    "\n",
    "#simulate\n",
    "cur_state = system6.simulate(sim_steps, withdraw_traj=True, init_system=False)\n",
    "\n",
    "print(\"Trajectory length: \",len(system6.trajectory))\n",
    "print()\n",
    "print(\"last_state: \", cur_state)\n",
    "print(len(system6.trajectory))\n",
    "system6.trajectory.head()"
   ]
  },
  {
   "cell_type": "markdown",
   "metadata": {},
   "source": [
    "In the visualization we see that the energy minimum of the resulting (original + biased) energy surface is the chosen point [10,10]. The system quickly leaves its start region, moves toward the center point, and samples this region intensively. Therefore, using umbrella sampling, the system was able to escape its starting minimum."
   ]
  },
  {
   "cell_type": "code",
   "execution_count": null,
   "metadata": {},
   "outputs": [],
   "source": [
    "simulation_analysis_plot(system=system6)"
   ]
  },
  {
   "cell_type": "markdown",
   "metadata": {},
   "source": [
    "### Scaled potential"
   ]
  },
  {
   "cell_type": "markdown",
   "metadata": {},
   "source": [
    "Just like in the 1D case, the `addedPotential2D` function can be used to scale potentials. Here we scale our system to lower the energy barriers between the minima."
   ]
  },
  {
   "cell_type": "code",
   "execution_count": null,
   "metadata": {},
   "outputs": [],
   "source": [
    "sim_steps = 2000\n",
    "\n",
    "#Simulation Setup\n",
    "origpot = wavePotential2D(amplitude=(100,100), multiplicity=[1/5.,1/5.], radians=True)\n",
    "biaspot = wavePotential2D(amplitude=(-99.8,-99.8), multiplicity=[1/5.,1/5.], radians=True)\n",
    "\n",
    "#Add the bias and the original system\n",
    "totpot = addedPotentials2D(origpot, biaspot)\n",
    "\n",
    "integrator = langevinIntegrator(dt=0.1, gamma=15)\n",
    "\n",
    "system7=system(potential=totpot, sampler=integrator,  start_position=np.array([50,50]),  temperature=3)\n",
    "\n",
    "#simulate\n",
    "cur_state = system7.simulate(sim_steps, withdraw_traj=True, init_system=False)\n",
    "\n",
    "print(\"Trajectory length: \",len(system7.trajectory))\n",
    "print()\n",
    "print(\"last_state: \", cur_state)\n",
    "print(len(system7.trajectory))\n",
    "system7.trajectory.head()"
   ]
  },
  {
   "cell_type": "code",
   "execution_count": null,
   "metadata": {},
   "outputs": [],
   "source": [
    "simulation_analysis_plot(system=system7, limits_coordinate_space=[[-180,180],[-180,180]])"
   ]
  },
  {
   "cell_type": "markdown",
   "metadata": {},
   "source": [
    "In the visualization we can confirm that the energy barriers are now low enough for the system to escape its initial minimum and sample the neighboring minima. "
   ]
  },
  {
   "cell_type": "code",
   "execution_count": null,
   "metadata": {},
   "outputs": [],
   "source": [
    "test_timing_with_points=100\n",
    "positions = np.linspace(0, 100, test_timing_with_points)\n",
    "x_positions, y_positions = np.meshgrid(positions,positions)\n",
    "positions2D = np.array([x_positions.flatten(), y_positions.flatten()]).T\n",
    "\n",
    "traj_pos = np.array(list(map(lambda x: np.array(x), system7.trajectory.position))).T\n",
    "\n",
    "plt.imshow(totpot.ene(positions2D).reshape([test_timing_with_points,test_timing_with_points]))\n",
    "plt.scatter(*traj_pos, color=\"orange\")"
   ]
  },
  {
   "cell_type": "markdown",
   "metadata": {},
   "source": [
    "### Metadynamics / Local elevation"
   ]
  },
  {
   "cell_type": "markdown",
   "metadata": {},
   "source": [
    "Metadynamics/Local elevation changes the energy surface of the simulation during the simulation time (time dependent bias). Similar to its 1D analog, `metadynamicsPotential2D` uses a grid to store the bias added to the system. The minimal and maximal values of the grid in x and y direction have to be defined by the user. The gaussians added by the metadynamic bias can have elliptical shapes. The shape is defined by the $sigma$ parameter. "
   ]
  },
  {
   "cell_type": "code",
   "execution_count": null,
   "metadata": {},
   "outputs": [],
   "source": [
    "sim_steps = 2000\n",
    "\n",
    "#Simulation Setup\n",
    "origpot = wavePotential2D(amplitude=(100,100), multiplicity=[1/5.,1/5.], radians=True)\n",
    "\n",
    "#Perform metadynamics\n",
    "totpot = metadynamicsPotential2D(origpot, amplitude=2, sigma=(5,5), n_trigger=10, bias_grid_min=(0,0), bias_grid_max=(100,100), numbins=(1000,1000))\n",
    "\n",
    "integrator = langevinIntegrator(dt=0.1, gamma=15)\n",
    "\n",
    "system8=system(potential=totpot, sampler=integrator,  start_position=np.array([50,50]),  temperature=3)\n",
    "\n",
    "#simulate\n",
    "cur_state = system8.simulate(sim_steps, withdraw_traj=True, init_system=False)\n",
    "\n",
    "print(\"Trajectory length: \",len(system8.trajectory))\n",
    "print()\n",
    "print(\"last_state: \", cur_state)\n",
    "print(len(system8.trajectory))\n",
    "system8.trajectory.head()"
   ]
  },
  {
   "cell_type": "code",
   "execution_count": null,
   "metadata": {},
   "outputs": [],
   "source": [
    "simulation_analysis_plot(system=system8)"
   ]
  },
  {
   "cell_type": "markdown",
   "metadata": {},
   "source": [
    "From the visualization it is visible that regions which were already visited by the system show a higher energy. Especially the starting minimum is flooded with energy. Using metadynamics the system can rapidly sample the energy surface.  "
   ]
  },
  {
   "cell_type": "code",
   "execution_count": null,
   "metadata": {},
   "outputs": [],
   "source": [
    "test_timing_with_points=100\n",
    "positions = np.linspace(0, 100, test_timing_with_points)\n",
    "x_positions, y_positions = np.meshgrid(positions,positions)\n",
    "positions2D = np.array([x_positions.flatten(), y_positions.flatten()]).T\n",
    "\n",
    "traj_pos = np.array(list(map(lambda x: np.array(x), system8.trajectory.position))).T\n",
    "\n",
    "\n",
    "energies_test = np.array([totpot.ene(entry) for entry in positions2D])\n",
    "\n",
    "plt.imshow(energies_test.reshape([test_timing_with_points,test_timing_with_points]))\n",
    "plt.scatter(*traj_pos, color=\"orange\")"
   ]
  },
  {
   "cell_type": "code",
   "execution_count": null,
   "metadata": {},
   "outputs": [],
   "source": []
  }
 ],
 "metadata": {
  "kernelspec": {
   "display_name": "Python 3.7.7 64-bit ('EnsemblerDev': conda)",
   "language": "python",
   "name": "python37764bitensemblerdevcondaa4593ef55eeb4c19ab962e621795cac3"
  }
 },
 "nbformat": 4,
 "nbformat_minor": 2
}

{
 "cells": [
  {
   "cell_type": "markdown",
   "metadata": {
    "pycharm": {
     "name": "#%% md\n"
    }
   },
   "source": [
    "# Conveyor Belt Thermodynamic Integration with Ensembler\n",
    "In this notebook, we give examples how to run conveyor belt simulations with Ensembler. \n",
    "\n",
    "Maintainers: [@SchroederB](https://https://github.com/SchroederB), [@linkerst](https://https://github.com/linkerst), [@dfhahn](https://https://github.com/dfhahn)"
   ]
  },
  {
   "cell_type": "markdown",
   "metadata": {
    "pycharm": {
     "name": "#%% md\n"
    }
   },
   "source": [
    "## Loading Ensembler and necessary external packages "
   ]
  },
  {
   "cell_type": "code",
   "execution_count": null,
   "metadata": {},
   "outputs": [],
   "source": [
    "import os, sys\n",
    "sys.path.append(os.getcwd()+\"/..\")\n",
    "\n",
    "import numpy as np\n",
    "import pandas as pd\n",
    "\n",
    "import matplotlib.pyplot as plt\n",
    "from matplotlib import cm\n",
    "from matplotlib import colorbar\n",
    "from mpl_toolkits.mplot3d import Axes3D\n",
    "\n",
    "import ensembler.potentials.OneD as pot\n",
    "import ensembler.system.perturbed_system as system\n",
    "import ensembler.ensemble.replicas_dynamic_parameters as cvb\n",
    "from ensembler.samplers import stochastic"
   ]
  },
  {
   "cell_type": "markdown",
   "metadata": {},
   "source": [
    "## Interactive Example\n",
    "The following is an interactive example, which explains the concept of the conveyor belt algorithm"
   ]
  },
  {
   "cell_type": "code",
   "execution_count": null,
   "metadata": {},
   "outputs": [],
   "source": [
    "from ensembler.visualisation.interactive_plots import interactive_conveyor_belt\n",
    "\n",
    "iwidget = interactive_conveyor_belt()\n",
    "iwidget"
   ]
  },
  {
   "cell_type": "markdown",
   "metadata": {},
   "source": [
    "## Build a conveyor belt object\n",
    "For building a `conveyorBelt` object, you first have to build a `system`, which will be used as a template for the replicas. The `system` itself needs to to be initialized with a potential and an integrator. For details, see the Tutorial Simulations."
   ]
  },
  {
   "cell_type": "code",
   "execution_count": null,
   "metadata": {},
   "outputs": [],
   "source": [
    "sampler = stochastic.metropolisMonteCarloIntegrator()\n",
    "potential = pot.linearCoupledPotentials(Va = pot.harmonicOscillatorPotential(k=1, x_shift=0.0),\n",
    "    Vb = pot.harmonicOscillatorPotential(k=2, x_shift=2.0))\n",
    "sys = system.perturbedSystem(potential=potential , \n",
    "                              sampler=sampler)"
   ]
  },
  {
   "cell_type": "markdown",
   "metadata": {
    "pycharm": {
     "name": "#%% md\n"
    }
   },
   "source": [
    "Additional the number of replicas `n_replicas` and the initial capital Lambda value needs to be specified. The latter can usually be set to 0. An additional (optional) argument is the `build` variable, which will be discussed later.\n",
    "\n",
    "The output shows the current state of the conveyor belt as a table with the replica ID, the corresponding lambda value and the energy of the replica."
   ]
  },
  {
   "cell_type": "code",
   "execution_count": null,
   "metadata": {},
   "outputs": [],
   "source": [
    "ensemble = cvb.conveyorBelt(capital_lambda=0.0,\n",
    "                            n_replicas=4,\n",
    "                            system=sys)\n",
    "ensemble"
   ]
  },
  {
   "cell_type": "markdown",
   "metadata": {
    "pycharm": {
     "name": "#%% md\n"
    }
   },
   "source": [
    "## Start a conveyor belt simulation \n",
    "The conveyor belt is simulated by using its member function `simulate` with the number of steps as argument. "
   ]
  },
  {
   "cell_type": "code",
   "execution_count": null,
   "metadata": {},
   "outputs": [],
   "source": [
    "steps = 100\n",
    "ensemble.simulate(steps)"
   ]
  },
  {
   "cell_type": "markdown",
   "metadata": {
    "pycharm": {
     "name": "#%% md\n"
    }
   },
   "source": [
    "The trajectories of the ensemble `cvb_traj` and the single systems `sys_trajs` can be retrieved by using its member function `get_trajs`."
   ]
  },
  {
   "cell_type": "code",
   "execution_count": null,
   "metadata": {},
   "outputs": [],
   "source": [
    "(cvb_traj, systrajs) = ensemble.get_trajs()"
   ]
  },
  {
   "cell_type": "markdown",
   "metadata": {
    "pycharm": {
     "name": "#%% md\n"
    }
   },
   "source": [
    "The ensemble trajectory is a `pandas.DataFrame` object with the following columns:\n",
    "- **Step**: index of frame (starting from 1)\n",
    "- **capital_lambda**: the capital lambda of the frame\n",
    "- **TotE**: the current total energy of the ensemble\n",
    "- **biasE**: the current bias energy\n",
    "- **doAccept**: information whether the Monte Carlo step before the frame was accepted or not"
   ]
  },
  {
   "cell_type": "code",
   "execution_count": null,
   "metadata": {},
   "outputs": [],
   "source": [
    "cvb_traj.head()"
   ]
  },
  {
   "cell_type": "markdown",
   "metadata": {
    "pycharm": {
     "name": "#%% md\n"
    }
   },
   "source": [
    "The system trajectory object `systrajs` is a `list` of `pandas.DataFrame` objects (one per replica) with the following columns:\n",
    "- **position**: (spatial) position of particle\n",
    "- **temperature**: temperature\n",
    "- **total_system_energy**: the current total energy of the replica\n",
    "- **total_potential_energy**: the current potential energy of the replica\n",
    "- **total_kinetic_energy**: the current kinetic energy of the replica\n",
    "- **dhdpos**: the derivative of the hamiltonian with repect to the position (negative of the force)\n",
    "- **velocity**: velocity of the particle\n",
    "- **lam**: lambda value of the particle\n",
    "- **dhdlam**: Hamiltonian derivative with respect to lambda\n",
    "The kinetic energy and the velocity are `NaN` in the following, becauce this example uses the stochastic `metropolisMonteCarloIntegrator`, which does not calculate velocities."
   ]
  },
  {
   "cell_type": "code",
   "execution_count": null,
   "metadata": {},
   "outputs": [],
   "source": [
    "systrajs[0].head()"
   ]
  },
  {
   "cell_type": "markdown",
   "metadata": {
    "pycharm": {
     "name": "#%% md\n"
    }
   },
   "source": [
    "## Visualizations of the trajectories"
   ]
  },
  {
   "cell_type": "markdown",
   "metadata": {},
   "source": [
    "The following graph shows exemplarious the trajectories and histograms of the lambda variables of the single replicas. Other of the above mentioned variables can be plottet in the same way."
   ]
  },
  {
   "cell_type": "code",
   "execution_count": null,
   "metadata": {},
   "outputs": [],
   "source": [
    "fig, ax = plt.subplots(1, 2, figsize=(10,4), sharey=True)\n",
    "for i in systrajs:\n",
    "    ax[0].plot(systrajs[i].index, systrajs[i].lam, label=f\"{i}\")\n",
    "    h1=np.histogram(systrajs[i].lam, bins=50, density=1)\n",
    "    ax[1].plot( h1[0], (h1[1][:-1]+h1[1][1:])/2)\n",
    "ax[0].set_xlabel(\"time step\")\n",
    "ax[1].set_xlabel(\"probability density\")\n",
    "ax[0].set_ylabel(\"$\\lambda$\")\n",
    "ax[1].set_xlim(0, 1.5)\n",
    "out = plt.suptitle(\"$\\lambda$ trajectories and histograms of the replicas\", x=.6, y=1.0)"
   ]
  },
  {
   "cell_type": "markdown",
   "metadata": {},
   "source": [
    "## Simple analysis of the conveyor belt simulation\n",
    "First, we simulate the conveyor belt even longer to get more statistics. Then, we sort the combined dhdlam trajectories from all replicas according to the associated lambda value. Then, we calculate the average per bin, which gives you the `<dhdlam>`(lam) estimate at point `lam`. In the following we use `nbins=100`, but you can adapt it according to your sampled data."
   ]
  },
  {
   "cell_type": "code",
   "execution_count": null,
   "metadata": {},
   "outputs": [],
   "source": [
    "ensemble.simulate(900)\n",
    "(cvb_traj, systrajs) = ensemble.get_trajs()"
   ]
  },
  {
   "cell_type": "code",
   "execution_count": null,
   "metadata": {},
   "outputs": [],
   "source": [
    "nbins=100\n",
    "bins=np.zeros(nbins)\n",
    "dhdlbins=np.zeros(nbins)\n",
    "for i in systrajs:\n",
    "    for j in range(systrajs[i].shape[0]):\n",
    "        index=int(np.floor(systrajs[i].lam[j]*nbins))\n",
    "        if index == nbins:\n",
    "            index=nbins-1\n",
    "        bins[index]+=1\n",
    "        dhdlbins[index]+=systrajs[i].dhdlam[j]\n",
    "# avoid division by zero by setting elements == 0 to 1\n",
    "bins = np.where(bins, bins, 1)\n",
    "dhdlbins/=bins"
   ]
  },
  {
   "cell_type": "markdown",
   "metadata": {},
   "source": [
    "The plotted `<dhdlam>(lam)` curve is similar to the curves you get from TI simulations, but is usually base on more lambda points. "
   ]
  },
  {
   "cell_type": "code",
   "execution_count": null,
   "metadata": {},
   "outputs": [],
   "source": [
    "fig = plt.figure(figsize=(10,4))\n",
    "plt.plot(np.linspace(0,1,nbins), dhdlbins)\n",
    "plt.xlabel(\"$\\lambda$\")\n",
    "plt.ylabel(\"$\\partial H / \\partial \\lambda$\")\n",
    "out = plt.suptitle(\"$\\partial H / \\partial \\lambda (\\lambda)$ curve\", x=.6, y=1.0)"
   ]
  },
  {
   "cell_type": "markdown",
   "metadata": {},
   "source": [
    "The integral of this curve gives the free energy estimate. As you have many points along $\\lambda$, you can use the rectangular integration:"
   ]
  },
  {
   "cell_type": "code",
   "execution_count": null,
   "metadata": {},
   "outputs": [],
   "source": [
    "integral=np.sum(dhdlbins)*1.0/nbins\n",
    "print(f'Delta G = {integral:.2f} kJ/mol')"
   ]
  },
  {
   "cell_type": "markdown",
   "metadata": {},
   "source": [
    "This value agrees well to the analytical value, which is calculated below. "
   ]
  },
  {
   "cell_type": "code",
   "execution_count": null,
   "metadata": {},
   "outputs": [],
   "source": [
    "#analytical\n",
    "u=1.66053886e-27\n",
    "NA=6.0221415e23\n",
    "hbar=1.054571800e-34*1e12*1e-3*NA  #kJ/mol*ps\n",
    "R=0.00831446 #kJ/mol/K\n",
    "mu=0.5  #u\n",
    "T=298.0  #K\n",
    "fc1=1  #kJ/nm^2/mol\n",
    "fc2=2.0 #kJ/nm^2/mol\n",
    "omega1=np.sqrt(fc1/mu)\n",
    "omega2=np.sqrt(fc2/mu)\n",
    "alpha1=hbar*np.sqrt(fc1/mu)/(R*T)\n",
    "alpha2=hbar*np.sqrt(fc2/mu)/(R*T)\n",
    "Z1=np.exp(-alpha1/2.0)/(1-np.exp(-alpha1))\n",
    "Z2=np.exp(-alpha2/2.0)/(1-np.exp(-alpha2))\n",
    "DF=-R*T*np.log(Z2/Z1)\n",
    "print(f'Analytical value = {DF:.2f} kJ/mol')"
   ]
  }
 ],
 "metadata": {
  "language_info": {
   "name": "python"
  }
 },
 "nbformat": 4,
 "nbformat_minor": 2
}

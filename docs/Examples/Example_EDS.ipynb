{
 "cells": [
  {
   "cell_type": "markdown",
   "metadata": {},
   "source": [
    "# EDS Simulation"
   ]
  },
  {
   "cell_type": "code",
   "execution_count": 3,
   "metadata": {},
   "outputs": [
    {
     "name": "stdout",
     "output_type": "stream",
     "text": [
      "C:\\Users\\benja\\OneDrive - ETH Zürich\\PhD\\Code\\ensembler_public\\examples/..\n"
     ]
    }
   ],
   "source": [
    "# This Example is building up a simple simulation\n",
    "\n",
    "import os, sys\n",
    "\n",
    "my_path = os.getcwd()+\"/..\"\n",
    "print(my_path)\n",
    "sys.path.append(my_path)\n",
    "\n",
    "# simple Example plot Enveloped Potential with two Harmonic Oscilators\n",
    "##Imports:\n",
    "import numpy as np\n",
    "%matplotlib inline\n",
    "from matplotlib import pyplot as plt\n",
    "\n",
    "#import Ensembler\n",
    "from ensembler.potentials import OneD as pot\n",
    "\n",
    "##Imports:\n",
    "import ensembler.visualisation.plotPotentials as exPlot\n"
   ]
  },
  {
   "cell_type": "markdown",
   "metadata": {},
   "source": [
    "## The Reference Potential"
   ]
  },
  {
   "cell_type": "markdown",
   "metadata": {},
   "source": [
    "### interactive example"
   ]
  },
  {
   "cell_type": "code",
   "execution_count": 6,
   "metadata": {},
   "outputs": [
    {
     "data": {
      "application/vnd.jupyter.widget-view+json": {
       "model_id": "1175e5696e194311abd8146694e1b7c7",
       "version_major": 2,
       "version_minor": 0
      },
      "text/plain": [
       "VBox(children=(HBox(children=(Label(value='Number of States'), IntSlider(value=2, max=10, min=2))), HBox(child…"
      ]
     },
     "metadata": {},
     "output_type": "display_data"
    },
    {
     "name": "stderr",
     "output_type": "stream",
     "text": [
      "C:\\Users\\benja\\OneDrive - ETH Zürich\\PhD\\Code\\ensembler_public\\examples/..\\ensembler\\visualisation\\interactive_plots.py:160: UserWarning: Matplotlib is currently using module://ipykernel.pylab.backend_inline, which is a non-GUI backend, so cannot show the figure.\n",
      "  self.fig.show()\n"
     ]
    },
    {
     "data": {
      "text/plain": [
       "<ensembler.visualisation.interactive_plots.interactive_eds at 0x1bdbb986fc8>"
      ]
     },
     "metadata": {},
     "output_type": "display_data"
    },
    {
     "data": {
      "image/png": "[encoded data removed]",
      "text/plain": [
       "<Figure size 432x288 with 1 Axes>"
      ]
     },
     "metadata": {
      "needs_background": "light"
     },
     "output_type": "display_data"
    }
   ],
   "source": [
    "from ensembler.visualisation.interactive_plots import interactive_eds\n",
    "\n",
    "%matplotlib inline\n",
    "app = interactive_eds()\n",
    "\n",
    "display(app)"
   ]
  },
  {
   "cell_type": "markdown",
   "metadata": {},
   "source": [
    "### Building an EDS Potential"
   ]
  },
  {
   "cell_type": "code",
   "execution_count": 3,
   "metadata": {
    "scrolled": false
   },
   "outputs": [
    {
     "name": "stdout",
     "output_type": "stream",
     "text": [
      "harmonicOscillatorPotential\n",
      "\tStates: 1\n",
      "\tDimensions: 1\n",
      "\n",
      "\tFunctional:\n",
      " \t\tV:\tVoffset + 0.5*k*(r - r_0)**2\n",
      "\t\tdVdpos:\t0.5*k*(2*r - 2*r_0)\n",
      "\n",
      "\tSimplified Function\n",
      "\t\tV:\t0.5*r**2 + 2.0*r + 2.0\n",
      "\t\tdVdpos:\t1.0*r + 2.0\n",
      "\n",
      "\tConstants: \n",
      "\t\tk: \t\t\t1.0\n",
      "\t\tr_0: \t\t\t-2\n",
      "\t\tVoffset: \t\t\t0.0\n",
      "\t\tnDimensionss: \t\t\t1\n",
      "\t\tnStates: \t\t\t1\n",
      "\n",
      " harmonicOscillatorPotential\n",
      "\tStates: 1\n",
      "\tDimensions: 1\n",
      "\n",
      "\tFunctional:\n",
      " \t\tV:\tVoffset + 0.5*k*(r - r_0)**2\n",
      "\t\tdVdpos:\t0.5*k*(2*r - 2*r_0)\n",
      "\n",
      "\tSimplified Function\n",
      "\t\tV:\t0.5*r**2 - 2.0*r + 2.0\n",
      "\t\tdVdpos:\t1.0*r - 2.0\n",
      "\n",
      "\tConstants: \n",
      "\t\tk: \t\t\t1.0\n",
      "\t\tr_0: \t\t\t2\n",
      "\t\tVoffset: \t\t\t0.0\n",
      "\t\tnDimensionss: \t\t\t1\n",
      "\t\tnStates: \t\t\t1\n",
      "\n",
      "\n",
      "envelopedPotential\n",
      "\tStates: 2\n",
      "\tDimensions: 1\n",
      "\n",
      "\tFunctional:\n",
      " \t\tV:\t-T*kb*log(Sum(exp(-Matrix([\n",
      "[s_0*(-Eoff_0 + state_0)],\n",
      "[s_1*(-Eoff_1 + state_1)]])[i, 0]/(T*kb)), (i, 0, N - 1)))/s_i\n",
      "\t\tdVdpos:\t0\n",
      "\n",
      "\tSimplified Function\n",
      "\t\tV:\t-log(Sum(exp(-Matrix([\n",
      "[0.5*r**2 + 2.0*r + 2.0],\n",
      "[0.5*r**2 - 2.0*r + 2.0]])[i, 0]), (i, 0, 1)))/s_i\n",
      "\t\tdVdpos:\t-Sum(-exp(-Matrix([\n",
      "[0.5*r**2 + 2.0*r + 2.0],\n",
      "[0.5*r**2 - 2.0*r + 2.0]])[i, 0])*Matrix([\n",
      "[1.0*r + 2.0],\n",
      "[1.0*r - 2.0]])[i, 0], (i, 0, 1))/(s_i*Sum(exp(-Matrix([\n",
      "[0.5*r**2 + 2.0*r + 2.0],\n",
      "[0.5*r**2 - 2.0*r + 2.0]])[i, 0]), (i, 0, 1)))\n",
      "\n",
      "\tConstants: \n",
      "\t\tamp_0: \t\t\t1\n",
      "\t\tamp_1: \t\t\t1\n",
      "\t\tmult_0: \t\t\t3\n",
      "\t\tmult_1: \t\t\t3\n",
      "\t\tyOff_0: \t\t\t0\n",
      "\t\tyOff_1: \t\t\t0\n",
      "\t\tphase_0: \t\t\t0\n",
      "\t\tphase_1: \t\t\t0\n",
      "\t\tnDimensions: \t\t\t2\n",
      "\t\tnStates: \t\t\t1\n",
      "\t\tk_0: \t\t\t1.0\n",
      "\t\tk_1: \t\t\t1.0\n",
      "\t\tr_shift0: \t\t\t0.0\n",
      "\t\tr_shift1: \t\t\t0.0\n",
      "\t\tV_off_0: \t\t\t0.0\n",
      "\t\tV_off_1: \t\t\t0.0\n",
      "\t\tA_gauss: \t\t\t1.0\n",
      "\t\tmu_0: \t\t\t0.0\n",
      "\t\tmu_1: \t\t\t0.0\n",
      "\t\tsigma_0: \t\t\t1.0\n",
      "\t\tsigma_1: \t\t\t1.0\n",
      "\t\tT: \t\t\t1\n",
      "\t\tkb: \t\t\t1\n",
      "\t\tN: \t\t\t2\n",
      "\t\ts_0: \t\t\t1.0\n",
      "\t\ts_1: \t\t\t1.0\n",
      "\t\tEoff_0: \t\t\t0\n",
      "\t\tEoff_1: \t\t\t0\n",
      "\t\tnDimensionss: \t\t\t1\n",
      "\t\tstate_0: \t\t\t0.5*r**2 + 2.0*r + 2.0\n",
      "\t\tstate_1: \t\t\t0.5*r**2 - 2.0*r + 2.0\n",
      "\n",
      "\n",
      "calculate 100 positions: \n",
      "Wall time: 0 ns\n",
      "\n",
      "Visualization\n"
     ]
    },
    {
     "data": {
      "text/plain": [
       "(0, 2)"
      ]
     },
     "execution_count": 3,
     "metadata": {},
     "output_type": "execute_result"
    },
    {
     "data": {
      "image/png": "[encoded data removed]",
      "text/plain": [
       "<Figure size 432x288 with 1 Axes>"
      ]
     },
     "metadata": {
      "needs_background": "light"
     },
     "output_type": "display_data"
    }
   ],
   "source": [
    "test_timing_with_points=100\n",
    "positions = np.linspace(-4, 4, test_timing_with_points)\n",
    "\n",
    "w1 = pot.harmonicOscillatorPotential(x_shift=-2)\n",
    "w2 = pot.harmonicOscillatorPotential(x_shift=2)\n",
    "\n",
    "print(w1, w2)\n",
    "V = pot.envelopedPotential(V_is=[w1,w2], eoff=[0,0])\n",
    "print(V)\n",
    "\n",
    "print(\"calculate \"+str(len(positions))+\" positions: \")\n",
    "%time V.ene(positions)\n",
    "\n",
    "print(\"\\nVisualization\")\n",
    "\n",
    "#Plotting\n",
    "plt.plot(positions, V.ene(positions))\n",
    "plt.plot(positions, w1.ene(positions))\n",
    "plt.plot(positions, w2.ene(positions))\n",
    "plt.ylim([0,2])\n"
   ]
  },
  {
   "cell_type": "markdown",
   "metadata": {},
   "source": [
    "#### What can the parameters for EDS DO?"
   ]
  },
  {
   "cell_type": "markdown",
   "metadata": {},
   "source": [
    "##### Energy Offsets"
   ]
  },
  {
   "cell_type": "code",
   "execution_count": null,
   "metadata": {},
   "outputs": [],
   "source": []
  },
  {
   "cell_type": "markdown",
   "metadata": {},
   "source": [
    "##### Smoothing Parameter"
   ]
  },
  {
   "cell_type": "code",
   "execution_count": 4,
   "metadata": {},
   "outputs": [
    {
     "ename": "ValueError",
     "evalue": "not enough values to unpack (expected 3, got 2)",
     "output_type": "error",
     "traceback": [
      "\u001b[1;31m---------------------------------------------------------------------------\u001b[0m",
      "\u001b[1;31mValueError\u001b[0m                                Traceback (most recent call last)",
      "\u001b[1;32m<ipython-input-4-bc3a66ceb55c>\u001b[0m in \u001b[0;36m<module>\u001b[1;34m\u001b[0m\n\u001b[0;32m     12\u001b[0m \u001b[1;33m\u001b[0m\u001b[0m\n\u001b[0;32m     13\u001b[0m \u001b[1;31m##Plot\u001b[0m\u001b[1;33m\u001b[0m\u001b[1;33m\u001b[0m\u001b[1;33m\u001b[0m\u001b[0m\n\u001b[1;32m---> 14\u001b[1;33m \u001b[0mexPlot\u001b[0m\u001b[1;33m.\u001b[0m\u001b[0menvPot_differentS_overlay_plot\u001b[0m\u001b[1;33m(\u001b[0m\u001b[0meds_potential\u001b[0m\u001b[1;33m=\u001b[0m\u001b[0meds_pot\u001b[0m\u001b[1;33m,\u001b[0m \u001b[0ms_values\u001b[0m\u001b[1;33m=\u001b[0m\u001b[0mless_svals\u001b[0m\u001b[1;33m,\u001b[0m \u001b[0mpositions\u001b[0m\u001b[1;33m=\u001b[0m\u001b[0mpositions\u001b[0m\u001b[1;33m)\u001b[0m\u001b[1;33m\u001b[0m\u001b[1;33m\u001b[0m\u001b[0m\n\u001b[0m\u001b[0;32m     15\u001b[0m exPlot.envPot_differentS_overlay_plot(eds_potential=eds_pot, s_values=svals, positions=positions,\n\u001b[0;32m     16\u001b[0m                                            hide_legend=True, y_range=(-500, 500))\n",
      "\u001b[1;32m~\\OneDrive - ETH Zürich\\PhD\\Code\\ensembler_public\\examples/..\\ensembler\\visualisation\\plotPotentials.py\u001b[0m in \u001b[0;36menvPot_differentS_overlay_plot\u001b[1;34m(eds_potential, s_values, positions, y_range, hide_legend, title, out_path, axes)\u001b[0m\n\u001b[0;32m    381\u001b[0m         \u001b[0mfig\u001b[0m \u001b[1;33m=\u001b[0m \u001b[1;32mNone\u001b[0m\u001b[1;33m\u001b[0m\u001b[1;33m\u001b[0m\u001b[0m\n\u001b[0;32m    382\u001b[0m \u001b[1;33m\u001b[0m\u001b[0m\n\u001b[1;32m--> 383\u001b[1;33m     \u001b[1;32mfor\u001b[0m \u001b[0mi\u001b[0m\u001b[1;33m,\u001b[0m \u001b[0ms\u001b[0m\u001b[1;33m,\u001b[0m \u001b[0my\u001b[0m \u001b[1;32min\u001b[0m \u001b[0menumerate\u001b[0m\u001b[1;33m(\u001b[0m\u001b[0mreversed\u001b[0m\u001b[1;33m(\u001b[0m\u001b[0mlist\u001b[0m\u001b[1;33m(\u001b[0m\u001b[0mzip\u001b[0m\u001b[1;33m(\u001b[0m\u001b[0ms_values\u001b[0m\u001b[1;33m,\u001b[0m \u001b[0mys\u001b[0m\u001b[1;33m)\u001b[0m\u001b[1;33m)\u001b[0m\u001b[1;33m)\u001b[0m\u001b[1;33m)\u001b[0m\u001b[1;33m:\u001b[0m\u001b[1;33m\u001b[0m\u001b[1;33m\u001b[0m\u001b[0m\n\u001b[0m\u001b[0;32m    384\u001b[0m         \u001b[0mcolor\u001b[0m \u001b[1;33m=\u001b[0m \u001b[0mstyle\u001b[0m\u001b[1;33m.\u001b[0m\u001b[0mpotential_color\u001b[0m\u001b[1;33m(\u001b[0m\u001b[0mi\u001b[0m \u001b[1;33m%\u001b[0m \u001b[0mlen\u001b[0m\u001b[1;33m(\u001b[0m\u001b[0mstyle\u001b[0m\u001b[1;33m.\u001b[0m\u001b[0mpotential_color\u001b[0m\u001b[1;33m)\u001b[0m\u001b[1;33m)\u001b[0m\u001b[1;33m\u001b[0m\u001b[1;33m\u001b[0m\u001b[0m\n\u001b[0;32m    385\u001b[0m         \u001b[0maxes\u001b[0m\u001b[1;33m.\u001b[0m\u001b[0mplot\u001b[0m\u001b[1;33m(\u001b[0m\u001b[0mpositions\u001b[0m\u001b[1;33m,\u001b[0m \u001b[0my\u001b[0m\u001b[1;33m,\u001b[0m \u001b[0mlabel\u001b[0m\u001b[1;33m=\u001b[0m\u001b[1;34m\"s_\"\u001b[0m \u001b[1;33m+\u001b[0m \u001b[0mstr\u001b[0m\u001b[1;33m(\u001b[0m\u001b[0msignificant_decimals\u001b[0m\u001b[1;33m(\u001b[0m\u001b[0ms\u001b[0m\u001b[1;33m)\u001b[0m\u001b[1;33m)\u001b[0m\u001b[1;33m,\u001b[0m \u001b[0mcolor\u001b[0m\u001b[1;33m=\u001b[0m\u001b[0mcolor\u001b[0m\u001b[1;33m)\u001b[0m\u001b[1;33m\u001b[0m\u001b[1;33m\u001b[0m\u001b[0m\n",
      "\u001b[1;31mValueError\u001b[0m: not enough values to unpack (expected 3, got 2)"
     ]
    },
    {
     "data": {
      "image/png": "[encoded data removed]",
      "text/plain": [
       "<Figure size 1440x720 with 1 Axes>"
      ]
     },
     "metadata": {
      "needs_background": "light"
     },
     "output_type": "display_data"
    }
   ],
   "source": [
    "\n",
    "##Construct potential\n",
    "s=1\n",
    "Eoffs=(0, 0)\n",
    "V_is=[pot.harmonicOscillatorPotential(x_shift=10, k=5), pot.harmonicOscillatorPotential(x_shift=-10, k=5)]\n",
    "eds_pot = pot.envelopedPotential(V_is=V_is, s=s, eoff=Eoffs)\n",
    "\n",
    "\n",
    "##Parameters\n",
    "svals= np.logspace(0, -3,num=50)\n",
    "less_svals= np.logspace(0, -3,num=15)\n",
    "positions = np.linspace(-25,25, 500)\n",
    "\n",
    "##Plot\n",
    "exPlot.envPot_differentS_overlay_plot(eds_potential=eds_pot, s_values=less_svals, positions=positions)\n",
    "exPlot.envPot_differentS_overlay_plot(eds_potential=eds_pot, s_values=svals, positions=positions,\n",
    "                                           hide_legend=True, y_range=(-500, 500))"
   ]
  },
  {
   "cell_type": "markdown",
   "metadata": {},
   "source": [
    "##### Many States"
   ]
  },
  {
   "cell_type": "code",
   "execution_count": null,
   "metadata": {},
   "outputs": [],
   "source": [
    "### SuperMore complex example - 3 states  harmonicPot - \n",
    "# simple Example plot Enveloped Potential with two Harmonic Oscilators\n",
    "\n",
    "\n",
    "##Construct potential\n",
    "s1=1.0\n",
    "s2=0.001\n",
    "Eoffs=(0, 50, -50, 100, -100)\n",
    "\n",
    "\n",
    "#V_is=[pot.harmonicOsc1D(x_shift=-10, fc=5), pot.harmonicOsc1D(x_shift=10, fc=5)]\n",
    "k=20\n",
    "V_is=[pot.harmonicOscillatorPotential(x_shift=-20, k=k), pot.harmonicOscillatorPotential(x_shift=20, k=k),\n",
    "      pot.harmonicOscillatorPotential(x_shift=10, k=k), pot.harmonicOscillatorPotential(x_shift=-10, k=k), pot.harmonicOscillatorPotential(x_shift=0, k=k)]\n",
    "eds_pot = pot.envelopedPotential(V_is=V_is, s=s1, eoff=Eoffs)\n",
    "\n",
    "##Parameters\n",
    "positions = np.linspace(-30,30,100)\n",
    "svals=np.logspace(0, -3, 40)\n",
    "\n",
    "exPlot.envPot_differentS_overlay_plot(eds_potential=eds_pot, s_values=svals, positions=positions, \n",
    "                                           y_range=(-600,400), hide_legend=True)\n",
    "\n",
    "Eoffs=(0, 0, 0, 0, 0)\n",
    "eds_pot = pot.envelopedPotential(V_is=V_is, s=s1, Eoff_i=Eoffs)\n",
    "exPlot.envPot_differentS_overlay_plot(eds_potential=eds_pot, s_values=svals, positions=positions, \n",
    "                                           y_range=(-600,400), hide_legend=True)"
   ]
  },
  {
   "cell_type": "code",
   "execution_count": null,
   "metadata": {},
   "outputs": [],
   "source": []
  }
 ],
 "metadata": {
  "kernelspec": {
   "display_name": "Python 3.7.7 64-bit ('EnsemblerDev': conda)",
   "language": "python",
   "name": "python37764bitensemblerdevcondaa4593ef55eeb4c19ab962e621795cac3"
  },
  "language_info": {
   "codemirror_mode": {
    "name": "ipython",
    "version": 3
   },
   "file_extension": ".py",
   "mimetype": "text/x-python",
   "name": "python",
   "nbconvert_exporter": "python",
   "pygments_lexer": "ipython3",
   "version": "3.7.7"
  }
 },
 "nbformat": 4,
 "nbformat_minor": 2
}

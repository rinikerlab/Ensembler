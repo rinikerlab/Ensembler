{
 "cells": [
  {
   "cell_type": "markdown",
   "metadata": {
    "pycharm": {
     "name": "#%% md\n"
    }
   },
   "source": [
    "# Conveyor Belt TI - scheme"
   ]
  },
  {
   "cell_type": "code",
   "execution_count": null,
   "outputs": [],
   "source": [
    "import os, sys\n",
    "sys.path.append(os.getcwd()+\"/..\")\n",
    "\n",
    "import numpy as np\n",
    "import pandas as pd\n",
    "\n",
    "import matplotlib.pyplot as plt\n",
    "from matplotlib import cm\n",
    "from matplotlib import colorbar\n",
    "from mpl_toolkits.mplot3d import Axes3D\n",
    "\n",
    "%matplotlib inline\n",
    "os.getcwd()"
   ],
   "metadata": {
    "collapsed": false,
    "pycharm": {
     "name": "#%%\n"
    }
   }
  },
  {
   "cell_type": "code",
   "execution_count": 2,
   "metadata": {},
   "outputs": [
    {
     "name": "stdout",
     "output_type": "stream",
     "text": [
      "SYSTEM ASSIGNS random POSITION FOR: states: 1\tnDim: 1\n"
     ]
    }
   ],
   "source": [
    "import ensembler.potentials.OneD as pot\n",
    "import ensembler.system.perturbed_system as system\n",
    "import ensembler.ensemble.replicas_dynamic_parameters as cvb\n",
    "from ensembler.integrator import stochastic\n"
   ]
  },
  {
   "cell_type": "markdown",
   "metadata": {},
   "source": [
    "## Interactive Example"
   ]
  },
  {
   "cell_type": "code",
   "execution_count": 3,
   "metadata": {
    "tags": []
   },
   "outputs": [
    {
     "ename": "ModuleNotFoundError",
     "evalue": "No module named 'ensembler.visualisation.plotConveyorBelt.plotEnsembler'; 'ensembler.visualisation.plotConveyorBelt' is not a package",
     "output_type": "error",
     "traceback": [
      "\u001B[1;31m---------------------------------------------------------------------------\u001B[0m",
      "\u001B[1;31mModuleNotFoundError\u001B[0m                       Traceback (most recent call last)",
      "\u001B[1;32m<ipython-input-3-06b995223862>\u001B[0m in \u001B[0;36m<module>\u001B[1;34m\u001B[0m\n\u001B[1;32m----> 1\u001B[1;33m \u001B[1;32mfrom\u001B[0m \u001B[0mensembler\u001B[0m\u001B[1;33m.\u001B[0m\u001B[0mvisualisation\u001B[0m\u001B[1;33m.\u001B[0m\u001B[0minteractive_plots\u001B[0m \u001B[1;32mimport\u001B[0m \u001B[0minteractive_conveyor_belt\u001B[0m\u001B[1;33m\u001B[0m\u001B[1;33m\u001B[0m\u001B[0m\n\u001B[0m\u001B[0;32m      2\u001B[0m \u001B[1;33m\u001B[0m\u001B[0m\n\u001B[0;32m      3\u001B[0m \u001B[0miwidget\u001B[0m \u001B[1;33m=\u001B[0m \u001B[0minteractive_conveyor_belt\u001B[0m\u001B[1;33m(\u001B[0m\u001B[0mnbins\u001B[0m\u001B[1;33m=\u001B[0m\u001B[1;36m10\u001B[0m\u001B[1;33m,\u001B[0m \u001B[0mnumsys\u001B[0m\u001B[1;33m=\u001B[0m\u001B[1;36m3\u001B[0m\u001B[1;33m,\u001B[0m \u001B[0msteps\u001B[0m\u001B[1;33m=\u001B[0m\u001B[1;36m10\u001B[0m\u001B[1;33m)\u001B[0m\u001B[1;33m\u001B[0m\u001B[1;33m\u001B[0m\u001B[0m\n",
      "\u001B[1;32m~\\OneDrive - ETHZ\\PhD\\Code\\ensembler_public\\examples/..\\ensembler\\visualisation\\interactive_plots.py\u001B[0m in \u001B[0;36m<module>\u001B[1;34m\u001B[0m\n\u001B[0;32m      8\u001B[0m \u001B[1;32mfrom\u001B[0m \u001B[0mensembler\u001B[0m\u001B[1;33m.\u001B[0m\u001B[0mpotentials\u001B[0m \u001B[1;32mimport\u001B[0m \u001B[0mND\u001B[0m \u001B[1;32mas\u001B[0m \u001B[0mpotN\u001B[0m\u001B[1;33m\u001B[0m\u001B[1;33m\u001B[0m\u001B[0m\n\u001B[0;32m      9\u001B[0m \u001B[1;32mfrom\u001B[0m \u001B[0mensembler\u001B[0m\u001B[1;33m.\u001B[0m\u001B[0mvisualisation\u001B[0m \u001B[1;32mimport\u001B[0m \u001B[0mplotPotentials\u001B[0m \u001B[1;32mas\u001B[0m \u001B[0mexPlot\u001B[0m\u001B[1;33m\u001B[0m\u001B[1;33m\u001B[0m\u001B[0m\n\u001B[1;32m---> 10\u001B[1;33m \u001B[1;32mfrom\u001B[0m \u001B[0mensembler\u001B[0m\u001B[1;33m.\u001B[0m\u001B[0mvisualisation\u001B[0m\u001B[1;33m.\u001B[0m\u001B[0mplotConveyorBelt\u001B[0m\u001B[1;33m.\u001B[0m\u001B[0mplotEnsembler\u001B[0m \u001B[1;32mimport\u001B[0m \u001B[0mdrawEnsembler\u001B[0m\u001B[1;33m\u001B[0m\u001B[1;33m\u001B[0m\u001B[0m\n\u001B[0m\u001B[0;32m     11\u001B[0m \u001B[1;33m\u001B[0m\u001B[0m\n\u001B[0;32m     12\u001B[0m \u001B[1;33m\u001B[0m\u001B[0m\n",
      "\u001B[1;31mModuleNotFoundError\u001B[0m: No module named 'ensembler.visualisation.plotConveyorBelt.plotEnsembler'; 'ensembler.visualisation.plotConveyorBelt' is not a package"
     ]
    }
   ],
   "source": [
    "from ensembler.visualisation.interactive_plots import interactive_conveyor_belt\n",
    "\n",
    "iwidget = interactive_conveyor_belt(nbins=10, numsys=3, steps=10)"
   ]
  },
  {
   "cell_type": "markdown",
   "metadata": {},
   "source": [
    "## Build Conveyor Belt"
   ]
  },
  {
   "cell_type": "code",
   "execution_count": null,
   "metadata": {},
   "outputs": [],
   "source": [
    "numsys = 8\n",
    "steps = 10\n",
    "\n",
    "integrat = stochastic.metropolisMonteCarloIntegrator()\n",
    "potial = pot.linearCoupledPotentials()\n",
    "syst = system.perturbedSystem(potential=potial , integrator=integrat)"
   ]
  },
  {
   "cell_type": "code",
   "execution_count": null,
   "metadata": {},
   "outputs": [],
   "source": [
    "ens=cvb.ConveyorBelt(0.0, numsys, system=syst, build=False)\n",
    "ens\n"
   ]
  },
  {
   "cell_type": "code",
   "execution_count": null,
   "metadata": {},
   "outputs": [],
   "source": [
    "#ens.traj_clear()\n",
    "ens.simulate(steps)\n",
    "\n",
    "print(ens.reject)\n"
   ]
  },
  {
   "cell_type": "code",
   "execution_count": null,
   "metadata": {},
   "outputs": [],
   "source": [
    "(cvb_traj, systrajs) = ens.get_trajs()"
   ]
  },
  {
   "cell_type": "code",
   "execution_count": null,
   "metadata": {},
   "outputs": [],
   "source": [
    "systrajs[0].head()"
   ]
  },
  {
   "cell_type": "code",
   "execution_count": null,
   "metadata": {},
   "outputs": [],
   "source": [
    "# old: traj=pd.DataFrame(traj, columns=['Step', 'CapLam', 'Energy', 'Bias'])\n",
    "cvb_traj.head()"
   ]
  },
  {
   "cell_type": "markdown",
   "metadata": {},
   "source": [
    "### Plot Simulation"
   ]
  },
  {
   "cell_type": "code",
   "execution_count": null,
   "metadata": {},
   "outputs": [],
   "source": [
    "nbins=100\n",
    "bins=np.zeros(nbins)\n",
    "dhdlbins=np.zeros(nbins)\n",
    "for i in systrajs:\n",
    "    for j in range(systrajs[i].shape[0]):\n",
    "        index=int(np.floor(systrajs[i].lam[j]*nbins))\n",
    "        if index == nbins:\n",
    "            index=nbins-1\n",
    "        bins[index]+=1\n",
    "        dhdlbins[index]+=systrajs[i].dhdlam[j]\n",
    "dhdlbins/=bins\n",
    "#dhdlbins"
   ]
  },
  {
   "cell_type": "code",
   "execution_count": null,
   "metadata": {},
   "outputs": [],
   "source": [
    "plt.plot(np.linspace(0,1,nbins), dhdlbins)\n",
    "integral=np.sum(dhdlbins)*1.0/nbins\n",
    "print('Integral = ', integral)"
   ]
  },
  {
   "cell_type": "code",
   "execution_count": null,
   "metadata": {},
   "outputs": [],
   "source": [
    "h1=np.histogram(cvb_traj.capital_lambda, bins=50, density=1)\n",
    "plt.plot(h1[1][:-1], h1[0])\n",
    "#plt.ylim(0.14, 0.185)"
   ]
  },
  {
   "cell_type": "code",
   "execution_count": null,
   "metadata": {},
   "outputs": [],
   "source": [
    "caplam = np.linspace(0, 2*np.pi, 100)\n",
    "x=[]\n",
    "for i in caplam:\n",
    "    x.append(ens.calc_lam(i, 0))\n",
    "plt.plot(caplam, x)\n",
    "plt.xlabel('$\\Lambda / \\pi$')\n",
    "plt.ylabel('$\\lambda$')"
   ]
  },
  {
   "cell_type": "code",
   "execution_count": null,
   "metadata": {},
   "outputs": [],
   "source": [
    "#analytical\n",
    "u=1.66053886e-27\n",
    "NA=6.0221415e23\n",
    "hbar=1.054571800e-34*1e12*1e-3*NA  #kJ/mol*ps\n",
    "R=0.00831446 #kJ/mol/K\n",
    "mu=0.5  #u\n",
    "T=300.0  #K\n",
    "fc1=1  #kJ/nm^2/mol\n",
    "fc2=11.0 #kJ/nm^2/mol\n",
    "omega1=np.sqrt(fc1/mu)\n",
    "omega2=np.sqrt(fc2/mu)\n",
    "print('Omega', omega1, omega2)\n",
    "alpha1=hbar*np.sqrt(fc1/mu)/(R*T)\n",
    "alpha2=hbar*np.sqrt(fc2/mu)/(R*T)\n",
    "print(alpha1, alpha2)\n",
    "Z1=np.exp(-alpha1/2.0)/(1-np.exp(-alpha1))\n",
    "Z2=np.exp(-alpha2/2.0)/(1-np.exp(-alpha2))\n",
    "F1=-R*T*np.log(Z1)\n",
    "F2=-R*T*np.log(Z2)\n",
    "DF=F2-F1\n",
    "DF2=-R*T*np.log(Z2/Z1)\n",
    "print(DF, DF2, F1, F2)"
   ]
  },
  {
   "cell_type": "markdown",
   "metadata": {},
   "source": [
    "## Conveyor Belt Animation"
   ]
  },
  {
   "cell_type": "code",
   "execution_count": null,
   "metadata": {},
   "outputs": [],
   "source": [
    "import ensembler.visualisation.plotConveyorBelt as plotEnsembler\n",
    "nbins=2\n",
    "dhdlbins=2\n",
    "lam = np.linspace(0, 1, nbins)\n",
    "ene = np.cumsum(dhdlbins)/nbins\n",
    "\n",
    "fig = plotEnsembler.drawFunicular(lam, ene, CapLam=0.2, M=8)"
   ]
  },
  {
   "cell_type": "code",
   "execution_count": null,
   "metadata": {},
   "outputs": [],
   "source": []
  }
 ],
 "metadata": {
  "kernelspec": {
   "display_name": "Python 3",
   "language": "python",
   "name": "python3"
  }
 },
 "nbformat": 4,
 "nbformat_minor": 2
}
{
 "cells": [
  {
   "cell_type": "code",
   "execution_count": 1,
   "metadata": {},
   "outputs": [
    {
     "name": "stdout",
     "output_type": "stream",
     "text": [
      "C:\\Users\\benja\\OneDrive - ETHZ\\PhD\\Projects\\code\\Ensembler\\test/../..\n"
     ]
    }
   ],
   "source": [
    "#PATH VAR\n",
    "import os, sys\n",
    "my_path = os.getcwd()+\"/../..\"\n",
    "print(my_path)\n",
    "sys.path.append(my_path)\n",
    "os.chdir(my_path)\n",
    "\n",
    "#IMPORT\n",
    "import numpy as np\n",
    "\n",
    "\n",
    "from Ensembler.src import potentials\n",
    "from Ensembler.src import system, integrator"
   ]
  },
  {
   "cell_type": "markdown",
   "metadata": {},
   "source": [
    "# History of Performance\n",
    "## Monte Carlo HarmoicOsc 1D\n",
    "\n",
    "   * start:\n",
    "     * Steps 100:  2.74 ms ± 33.4 µs per loop (mean ± std. dev. of 7 runs, 100 loops each)\n",
    "     * Steps 1000: 27.4 ms ± 258 µs per loop (mean ± std. dev. of 7 runs, 10 loops each)\n",
    "     * Steps 10000: 273 ms ± 2.97 ms per loop (mean ± std. dev. of 7 runs, 1 loop each)\n",
    "     \n",
    "   * start_ no type check\n",
    "     * Steps 100:  2.74 ms ± 33.4 µs per loop (mean ± std. dev. of 7 runs, 100 loops each)\n",
    "     * Steps 1000: 29.2 ms ± 5.31 ms per loop (mean ± std. dev. of 7 runs, 10 loops each)\n",
    "     * Steps 10000: 273 ms ± 2.97 ms per loop (mean ± std. dev. of 7 runs, 1 loop each)\n",
    "     "
   ]
  },
  {
   "cell_type": "code",
   "execution_count": 3,
   "metadata": {},
   "outputs": [],
   "source": [
    "#prepare:\n",
    "integ = integrator.monteCarloIntegrator()\n",
    "pote = potentials.OneD.harmonicOsc()\n",
    "conditions = []\n",
    "temperature = 300\n",
    "position = [0.1]\n",
    "mass = [1]\n",
    "steps = 100\n",
    "\n",
    "sys = system.system(potential=pote, integrator=integ, position=position, temperature=temperature)"
   ]
  },
  {
   "cell_type": "code",
   "execution_count": 3,
   "metadata": {},
   "outputs": [
    {
     "name": "stdout",
     "output_type": "stream",
     "text": [
      "5.75 ms ± 2.99 ms per loop (mean ± std. dev. of 7 runs, 100 loops each)\n"
     ]
    }
   ],
   "source": [
    "%%timeit\n",
    "sys.simulate(steps=steps)"
   ]
  },
  {
   "cell_type": "code",
   "execution_count": 4,
   "metadata": {},
   "outputs": [
    {
     "data": {
      "text/html": [
       "<div>\n",
       "<style scoped>\n",
       "    .dataframe tbody tr th:only-of-type {\n",
       "        vertical-align: middle;\n",
       "    }\n",
       "\n",
       "    .dataframe tbody tr th {\n",
       "        vertical-align: top;\n",
       "    }\n",
       "\n",
       "    .dataframe thead th {\n",
       "        text-align: right;\n",
       "    }\n",
       "</style>\n",
       "<table border=\"1\" class=\"dataframe\">\n",
       "  <thead>\n",
       "    <tr style=\"text-align: right;\">\n",
       "      <th></th>\n",
       "      <th>position</th>\n",
       "      <th>temperature</th>\n",
       "      <th>totEnergy</th>\n",
       "      <th>totPotEnergy</th>\n",
       "      <th>totKinEnergy</th>\n",
       "      <th>dhdpos</th>\n",
       "      <th>velocity</th>\n",
       "    </tr>\n",
       "  </thead>\n",
       "  <tbody>\n",
       "    <tr>\n",
       "      <th>0</th>\n",
       "      <td>[0.1]</td>\n",
       "      <td>300</td>\n",
       "      <td>0.771444</td>\n",
       "      <td>0.005000</td>\n",
       "      <td>0.766444</td>\n",
       "      <td>[0.1]</td>\n",
       "      <td>[1.2380983240393872]</td>\n",
       "    </tr>\n",
       "    <tr>\n",
       "      <th>1</th>\n",
       "      <td>[0.4912404531808705]</td>\n",
       "      <td>300</td>\n",
       "      <td>0.120659</td>\n",
       "      <td>0.120659</td>\n",
       "      <td>0.000000</td>\n",
       "      <td>[0.39124045318087053]</td>\n",
       "      <td>None</td>\n",
       "    </tr>\n",
       "    <tr>\n",
       "      <th>2</th>\n",
       "      <td>[-0.3613367764655463]</td>\n",
       "      <td>300</td>\n",
       "      <td>0.065282</td>\n",
       "      <td>0.065282</td>\n",
       "      <td>0.000000</td>\n",
       "      <td>[-0.8525772296464168]</td>\n",
       "      <td>None</td>\n",
       "    </tr>\n",
       "    <tr>\n",
       "      <th>3</th>\n",
       "      <td>[-0.46705113377494056]</td>\n",
       "      <td>300</td>\n",
       "      <td>0.109068</td>\n",
       "      <td>0.109068</td>\n",
       "      <td>0.000000</td>\n",
       "      <td>[-0.10571435730939427]</td>\n",
       "      <td>None</td>\n",
       "    </tr>\n",
       "    <tr>\n",
       "      <th>4</th>\n",
       "      <td>[-0.71416569656196]</td>\n",
       "      <td>300</td>\n",
       "      <td>0.255016</td>\n",
       "      <td>0.255016</td>\n",
       "      <td>0.000000</td>\n",
       "      <td>[-0.2471145627870195]</td>\n",
       "      <td>None</td>\n",
       "    </tr>\n",
       "  </tbody>\n",
       "</table>\n",
       "</div>"
      ],
      "text/plain": [
       "                 position  temperature  totEnergy  totPotEnergy  totKinEnergy  \\\n",
       "0                   [0.1]          300   0.771444      0.005000      0.766444   \n",
       "1    [0.4912404531808705]          300   0.120659      0.120659      0.000000   \n",
       "2   [-0.3613367764655463]          300   0.065282      0.065282      0.000000   \n",
       "3  [-0.46705113377494056]          300   0.109068      0.109068      0.000000   \n",
       "4     [-0.71416569656196]          300   0.255016      0.255016      0.000000   \n",
       "\n",
       "                   dhdpos              velocity  \n",
       "0                   [0.1]  [1.2380983240393872]  \n",
       "1   [0.39124045318087053]                  None  \n",
       "2   [-0.8525772296464168]                  None  \n",
       "3  [-0.10571435730939427]                  None  \n",
       "4   [-0.2471145627870195]                  None  "
      ]
     },
     "execution_count": 4,
     "metadata": {},
     "output_type": "execute_result"
    }
   ],
   "source": [
    "traj = sys.getTrajectory()\n",
    "traj.head()"
   ]
  },
  {
   "cell_type": "code",
   "execution_count": 6,
   "metadata": {},
   "outputs": [],
   "source": [
    "sys.potential._set_no_type_check()"
   ]
  },
  {
   "cell_type": "code",
   "execution_count": 9,
   "metadata": {},
   "outputs": [
    {
     "name": "stdout",
     "output_type": "stream",
     "text": [
      "2.54 ms ± 144 µs per loop (mean ± std. dev. of 7 runs, 100 loops each)\n"
     ]
    }
   ],
   "source": [
    "%%timeit\n",
    "sys.simulate(steps=steps)"
   ]
  },
  {
   "cell_type": "code",
   "execution_count": 18,
   "metadata": {},
   "outputs": [],
   "source": [
    "sys.potential.set_singlePos_mode()"
   ]
  },
  {
   "cell_type": "code",
   "execution_count": 19,
   "metadata": {},
   "outputs": [
    {
     "name": "stdout",
     "output_type": "stream",
     "text": [
      "2.56 ms ± 64.8 µs per loop (mean ± std. dev. of 7 runs, 100 loops each)\n"
     ]
    }
   ],
   "source": [
    "%%timeit\n",
    "sys.simulate(steps=steps)"
   ]
  },
  {
   "cell_type": "markdown",
   "metadata": {},
   "source": [
    "# History of Performance\n",
    "## Monte Carlo Perturbed 2 HarmoicOsc 1D\n",
    "\n",
    "   * start:\n",
    "     * Steps 100:  4.24 ms ± 675 µs per loop (mean ± std. dev. of 7 runs, 100 loops each)\n",
    "     * Steps 1000: 37.9 ms ± 374 µs per loop (mean ± std. dev. of 7 runs, 10 loops each)\n",
    "     * Steps 10000: 417 ms ± 12.3 ms per loop (mean ± std. dev. of 7 runs, 1 loop each)\n",
    "         "
   ]
  },
  {
   "cell_type": "code",
   "execution_count": 21,
   "metadata": {},
   "outputs": [],
   "source": [
    "#prepare Lambd\n",
    "integ = integrator.monteCarloIntegrator()\n",
    "ha = potentials.OneD.harmonicOsc(x_shift=-5)\n",
    "hb = potentials.OneD.harmonicOsc(x_shift=5)\n",
    "potential = potentials.OneD.linCoupledHosc(ha=ha, hb=hb)\n",
    "\n",
    "temperature = 300\n",
    "position = [0]\n",
    "lam = 0\n",
    "\n",
    "sys = system.perturbedSystem(potential=potential, integrator=integ, position=position, temperature=temperature, lam=lam)\n",
    "\n",
    "steps=100\n"
   ]
  },
  {
   "cell_type": "code",
   "execution_count": 26,
   "metadata": {},
   "outputs": [
    {
     "name": "stdout",
     "output_type": "stream",
     "text": [
      "4.94 ms ± 668 µs per loop (mean ± std. dev. of 7 runs, 100 loops each)\n"
     ]
    }
   ],
   "source": [
    "%%timeit\n",
    "sys.simulate(steps=steps, initSystem=False, withdrawTraj=True)  #withdrawTraj is needed in the context because of the interaction between different Tests"
   ]
  },
  {
   "cell_type": "code",
   "execution_count": 27,
   "metadata": {},
   "outputs": [],
   "source": [
    "sys.potential._set_no_type_check()"
   ]
  },
  {
   "cell_type": "code",
   "execution_count": 28,
   "metadata": {},
   "outputs": [
    {
     "name": "stdout",
     "output_type": "stream",
     "text": [
      "4.36 ms ± 148 µs per loop (mean ± std. dev. of 7 runs, 100 loops each)\n"
     ]
    }
   ],
   "source": [
    "%%timeit\n",
    "sys.simulate(steps=steps, initSystem=False, withdrawTraj=True)  #withdrawTraj is needed in the context because of the interaction between different Tests"
   ]
  },
  {
   "cell_type": "markdown",
   "metadata": {},
   "source": [
    "# History of Performance\n",
    "## EDS Potential 1D Harmonic Osc\n",
    "\n",
    "   * start:\n",
    "     * Steps 100: 2.4 ms ± 352 µs per loop (mean ± std. dev. of 7 runs, 100 loops each)\n",
    "     * Steps 1000: 18.6 ms ± 453 µs per loop (mean ± std. dev. of 7 runs, 10 loops each)\n",
    "     * Steps 10000: 212 ms ± 24.1 ms per loop (mean ± std. dev. of 7 runs, 1 loop each)\n",
    "         "
   ]
  },
  {
   "cell_type": "code",
   "execution_count": 4,
   "metadata": {},
   "outputs": [],
   "source": [
    "\n",
    "##Construct potential\n",
    "s=1\n",
    "Eoffs=(0, 0)\n",
    "V_is=[potentials.OneD.harmonicOsc(x_shift=10, fc=5), potentials.OneD.harmonicOsc(x_shift=-10, fc=5)]\n",
    "eds_pot = potentials.OneD.envelopedPotential(V_is=V_is, s=s, Eoff_i=Eoffs)\n",
    "\n",
    "##Parameters\n",
    "positions = np.linspace(-25,25, 10000)\n"
   ]
  },
  {
   "cell_type": "code",
   "execution_count": 5,
   "metadata": {},
   "outputs": [
    {
     "name": "stdout",
     "output_type": "stream",
     "text": [
      "OH [ 562.5         562.12502501  561.75017504 ... 3060.75007503 3061.624975\n",
      " 3062.5       ]\n",
      "partA [-3062.5]\n",
      "partB [-562.12502501]\n",
      "OH [ 562.5         562.12502501  561.75017504 ... 3060.75007503 3061.624975\n",
      " 3062.5       ]\n",
      "partA [-3062.5]\n",
      "partB [-562.12502501]\n",
      "OH [ 562.5         562.12502501  561.75017504 ... 3060.75007503 3061.624975\n",
      " 3062.5       ]\n",
      "partA [-3062.5]\n",
      "partB [-562.12502501]\n",
      "OH [ 562.5         562.12502501  561.75017504 ... 3060.75007503 3061.624975\n",
      " 3062.5       ]\n",
      "partA [-3062.5]\n",
      "partB [-562.12502501]\n",
      "OH [ 562.5         562.12502501  561.75017504 ... 3060.75007503 3061.624975\n",
      " 3062.5       ]\n",
      "partA [-3062.5]\n",
      "partB [-562.12502501]\n",
      "OH [ 562.5         562.12502501  561.75017504 ... 3060.75007503 3061.624975\n",
      " 3062.5       ]\n",
      "partA [-3062.5]\n",
      "partB [-562.12502501]\n",
      "OH [ 562.5         562.12502501  561.75017504 ... 3060.75007503 3061.624975\n",
      " 3062.5       ]\n",
      "partA [-3062.5]\n",
      "partB [-562.12502501]\n",
      "OH [ 562.5         562.12502501  561.75017504 ... 3060.75007503 3061.624975\n",
      " 3062.5       ]\n",
      "partA [-3062.5]\n",
      "partB [-562.12502501]\n",
      "OH [ 562.5         562.12502501  561.75017504 ... 3060.75007503 3061.624975\n",
      " 3062.5       ]\n",
      "partA [-3062.5]\n",
      "partB [-562.12502501]\n",
      "OH [ 562.5         562.12502501  561.75017504 ... 3060.75007503 3061.624975\n",
      " 3062.5       ]\n",
      "partA [-3062.5]\n",
      "partB [-562.12502501]\n",
      "OH [ 562.5         562.12502501  561.75017504 ... 3060.75007503 3061.624975\n",
      " 3062.5       ]\n",
      "partA [-3062.5]\n",
      "partB [-562.12502501]\n",
      "OH [ 562.5         562.12502501  561.75017504 ... 3060.75007503 3061.624975\n",
      " 3062.5       ]\n",
      "partA [-3062.5]\n",
      "partB [-562.12502501]\n",
      "OH [ 562.5         562.12502501  561.75017504 ... 3060.75007503 3061.624975\n",
      " 3062.5       ]\n",
      "partA [-3062.5]\n",
      "partB [-562.12502501]\n",
      "OH [ 562.5         562.12502501  561.75017504 ... 3060.75007503 3061.624975\n",
      " 3062.5       ]\n",
      "partA [-3062.5]\n",
      "partB [-562.12502501]\n",
      "OH [ 562.5         562.12502501  561.75017504 ... 3060.75007503 3061.624975\n",
      " 3062.5       ]\n",
      "partA [-3062.5]\n",
      "partB [-562.12502501]\n",
      "OH [ 562.5         562.12502501  561.75017504 ... 3060.75007503 3061.624975\n",
      " 3062.5       ]\n",
      "partA [-3062.5]\n",
      "partB [-562.12502501]\n",
      "OH [ 562.5         562.12502501  561.75017504 ... 3060.75007503 3061.624975\n",
      " 3062.5       ]\n",
      "partA [-3062.5]\n",
      "partB [-562.12502501]\n",
      "OH [ 562.5         562.12502501  561.75017504 ... 3060.75007503 3061.624975\n",
      " 3062.5       ]\n",
      "partA [-3062.5]\n",
      "partB [-562.12502501]\n",
      "OH [ 562.5         562.12502501  561.75017504 ... 3060.75007503 3061.624975\n",
      " 3062.5       ]\n",
      "partA [-3062.5]\n",
      "partB [-562.12502501]\n",
      "OH [ 562.5         562.12502501  561.75017504 ... 3060.75007503 3061.624975\n",
      " 3062.5       ]\n",
      "partA [-3062.5]\n",
      "partB [-562.12502501]\n",
      "OH [ 562.5         562.12502501  561.75017504 ... 3060.75007503 3061.624975\n",
      " 3062.5       ]\n",
      "partA [-3062.5]\n",
      "partB [-562.12502501]\n",
      "OH [ 562.5         562.12502501  561.75017504 ... 3060.75007503 3061.624975\n",
      " 3062.5       ]\n",
      "partA [-3062.5]\n",
      "partB [-562.12502501]\n",
      "OH [ 562.5         562.12502501  561.75017504 ... 3060.75007503 3061.624975\n",
      " 3062.5       ]\n",
      "partA [-3062.5]\n",
      "partB [-562.12502501]\n",
      "OH [ 562.5         562.12502501  561.75017504 ... 3060.75007503 3061.624975\n",
      " 3062.5       ]\n",
      "partA [-3062.5]\n",
      "partB [-562.12502501]\n",
      "OH [ 562.5         562.12502501  561.75017504 ... 3060.75007503 3061.624975\n",
      " 3062.5       ]\n",
      "partA [-3062.5]\n",
      "partB [-562.12502501]\n",
      "OH [ 562.5         562.12502501  561.75017504 ... 3060.75007503 3061.624975\n",
      " 3062.5       ]\n",
      "partA [-3062.5]\n",
      "partB [-562.12502501]\n",
      "OH [ 562.5         562.12502501  561.75017504 ... 3060.75007503 3061.624975\n",
      " 3062.5       ]\n",
      "partA [-3062.5]\n",
      "partB [-562.12502501]\n",
      "OH [ 562.5         562.12502501  561.75017504 ... 3060.75007503 3061.624975\n",
      " 3062.5       ]\n",
      "partA [-3062.5]\n",
      "partB [-562.12502501]\n",
      "OH [ 562.5         562.12502501  561.75017504 ... 3060.75007503 3061.624975\n",
      " 3062.5       ]\n",
      "partA [-3062.5]\n",
      "partB [-562.12502501]\n",
      "OH [ 562.5         562.12502501  561.75017504 ... 3060.75007503 3061.624975\n",
      " 3062.5       ]\n",
      "partA [-3062.5]\n",
      "partB [-562.12502501]\n",
      "OH [ 562.5         562.12502501  561.75017504 ... 3060.75007503 3061.624975\n",
      " 3062.5       ]\n",
      "partA [-3062.5]\n",
      "partB [-562.12502501]\n",
      "OH [ 562.5         562.12502501  561.75017504 ... 3060.75007503 3061.624975\n",
      " 3062.5       ]\n",
      "partA [-3062.5]\n",
      "partB [-562.12502501]\n",
      "OH [ 562.5         562.12502501  561.75017504 ... 3060.75007503 3061.624975\n",
      " 3062.5       ]\n",
      "partA [-3062.5]\n",
      "partB [-562.12502501]\n",
      "OH [ 562.5         562.12502501  561.75017504 ... 3060.75007503 3061.624975\n",
      " 3062.5       ]\n",
      "partA [-3062.5]\n",
      "partB [-562.12502501]\n",
      "OH [ 562.5         562.12502501  561.75017504 ... 3060.75007503 3061.624975\n",
      " 3062.5       ]\n",
      "partA [-3062.5]\n",
      "partB [-562.12502501]\n",
      "OH [ 562.5         562.12502501  561.75017504 ... 3060.75007503 3061.624975\n",
      " 3062.5       ]\n",
      "partA [-3062.5]\n",
      "partB [-562.12502501]\n",
      "OH [ 562.5         562.12502501  561.75017504 ... 3060.75007503 3061.624975\n",
      " 3062.5       ]\n",
      "partA [-3062.5]\n",
      "partB [-562.12502501]\n",
      "OH [ 562.5         562.12502501  561.75017504 ... 3060.75007503 3061.624975\n",
      " 3062.5       ]\n",
      "partA [-3062.5]\n",
      "partB [-562.12502501]\n",
      "OH [ 562.5         562.12502501  561.75017504 ... 3060.75007503 3061.624975\n",
      " 3062.5       ]\n",
      "partA [-3062.5]\n",
      "partB [-562.12502501]\n",
      "OH [ 562.5         562.12502501  561.75017504 ... 3060.75007503 3061.624975\n",
      " 3062.5       ]\n",
      "partA [-3062.5]\n",
      "partB [-562.12502501]\n",
      "OH [ 562.5         562.12502501  561.75017504 ... 3060.75007503 3061.624975\n",
      " 3062.5       ]\n",
      "partA [-3062.5]\n",
      "partB [-562.12502501]\n",
      "OH [ 562.5         562.12502501  561.75017504 ... 3060.75007503 3061.624975\n",
      " 3062.5       ]\n",
      "partA [-3062.5]\n",
      "partB [-562.12502501]\n",
      "OH [ 562.5         562.12502501  561.75017504 ... 3060.75007503 3061.624975\n",
      " 3062.5       ]\n",
      "partA [-3062.5]\n",
      "partB [-562.12502501]\n",
      "OH [ 562.5         562.12502501  561.75017504 ... 3060.75007503 3061.624975\n",
      " 3062.5       ]\n",
      "partA [-3062.5]\n",
      "partB [-562.12502501]\n",
      "OH [ 562.5         562.12502501  561.75017504 ... 3060.75007503 3061.624975\n",
      " 3062.5       ]\n",
      "partA [-3062.5]\n",
      "partB [-562.12502501]\n",
      "OH [ 562.5         562.12502501  561.75017504 ... 3060.75007503 3061.624975\n",
      " 3062.5       ]\n",
      "partA [-3062.5]\n",
      "partB [-562.12502501]\n",
      "OH [ 562.5         562.12502501  561.75017504 ... 3060.75007503 3061.624975\n",
      " 3062.5       ]\n",
      "partA [-3062.5]\n",
      "partB [-562.12502501]\n",
      "OH [ 562.5         562.12502501  561.75017504 ... 3060.75007503 3061.624975\n",
      " 3062.5       ]\n",
      "partA [-3062.5]\n",
      "partB [-562.12502501]\n",
      "OH [ 562.5         562.12502501  561.75017504 ... 3060.75007503 3061.624975\n",
      " 3062.5       ]\n",
      "partA [-3062.5]\n",
      "partB [-562.12502501]\n",
      "OH [ 562.5         562.12502501  561.75017504 ... 3060.75007503 3061.624975\n",
      " 3062.5       ]\n",
      "partA [-3062.5]\n",
      "partB [-562.12502501]\n",
      "OH [ 562.5         562.12502501  561.75017504 ... 3060.75007503 3061.624975\n",
      " 3062.5       ]\n",
      "partA [-3062.5]\n",
      "partB [-562.12502501]\n",
      "OH [ 562.5         562.12502501  561.75017504 ... 3060.75007503 3061.624975\n",
      " 3062.5       ]\n",
      "partA [-3062.5]\n",
      "partB [-562.12502501]\n",
      "OH [ 562.5         562.12502501  561.75017504 ... 3060.75007503 3061.624975\n",
      " 3062.5       ]\n",
      "partA [-3062.5]\n",
      "partB [-562.12502501]\n",
      "OH [ 562.5         562.12502501  561.75017504 ... 3060.75007503 3061.624975\n",
      " 3062.5       ]\n",
      "partA [-3062.5]\n",
      "partB [-562.12502501]\n",
      "OH [ 562.5         562.12502501  561.75017504 ... 3060.75007503 3061.624975\n",
      " 3062.5       ]\n",
      "partA [-3062.5]\n",
      "partB [-562.12502501]\n",
      "OH [ 562.5         562.12502501  561.75017504 ... 3060.75007503 3061.624975\n",
      " 3062.5       ]\n",
      "partA [-3062.5]\n",
      "partB [-562.12502501]\n",
      "OH [ 562.5         562.12502501  561.75017504 ... 3060.75007503 3061.624975\n",
      " 3062.5       ]\n",
      "partA [-3062.5]\n",
      "partB [-562.12502501]\n",
      "OH [ 562.5         562.12502501  561.75017504 ... 3060.75007503 3061.624975\n",
      " 3062.5       ]\n",
      "partA [-3062.5]\n",
      "partB [-562.12502501]\n",
      "OH [ 562.5         562.12502501  561.75017504 ... 3060.75007503 3061.624975\n",
      " 3062.5       ]\n",
      "partA [-3062.5]\n",
      "partB [-562.12502501]\n",
      "OH [ 562.5         562.12502501  561.75017504 ... 3060.75007503 3061.624975\n",
      " 3062.5       ]\n",
      "partA [-3062.5]\n",
      "partB [-562.12502501]\n",
      "OH [ 562.5         562.12502501  561.75017504 ... 3060.75007503 3061.624975\n",
      " 3062.5       ]\n",
      "partA [-3062.5]\n",
      "partB [-562.12502501]\n",
      "OH [ 562.5         562.12502501  561.75017504 ... 3060.75007503 3061.624975\n",
      " 3062.5       ]\n",
      "partA [-3062.5]\n",
      "partB [-562.12502501]\n",
      "OH [ 562.5         562.12502501  561.75017504 ... 3060.75007503 3061.624975\n",
      " 3062.5       ]\n",
      "partA [-3062.5]\n",
      "partB [-562.12502501]\n",
      "OH [ 562.5         562.12502501  561.75017504 ... 3060.75007503 3061.624975\n",
      " 3062.5       ]\n",
      "partA [-3062.5]\n",
      "partB [-562.12502501]\n",
      "OH [ 562.5         562.12502501  561.75017504 ... 3060.75007503 3061.624975\n",
      " 3062.5       ]\n",
      "partA [-3062.5]\n",
      "partB [-562.12502501]\n",
      "OH [ 562.5         562.12502501  561.75017504 ... 3060.75007503 3061.624975\n",
      " 3062.5       ]\n",
      "partA [-3062.5]\n",
      "partB [-562.12502501]\n",
      "OH [ 562.5         562.12502501  561.75017504 ... 3060.75007503 3061.624975\n",
      " 3062.5       ]\n",
      "partA [-3062.5]\n",
      "partB [-562.12502501]\n",
      "OH [ 562.5         562.12502501  561.75017504 ... 3060.75007503 3061.624975\n",
      " 3062.5       ]\n",
      "partA [-3062.5]\n",
      "partB [-562.12502501]\n",
      "OH [ 562.5         562.12502501  561.75017504 ... 3060.75007503 3061.624975\n",
      " 3062.5       ]\n",
      "partA [-3062.5]\n",
      "partB [-562.12502501]\n",
      "OH [ 562.5         562.12502501  561.75017504 ... 3060.75007503 3061.624975\n",
      " 3062.5       ]\n",
      "partA [-3062.5]\n",
      "partB [-562.12502501]\n",
      "OH [ 562.5         562.12502501  561.75017504 ... 3060.75007503 3061.624975\n",
      " 3062.5       ]\n",
      "partA [-3062.5]\n",
      "partB [-562.12502501]\n",
      "OH [ 562.5         562.12502501  561.75017504 ... 3060.75007503 3061.624975\n",
      " 3062.5       ]\n",
      "partA [-3062.5]\n",
      "partB [-562.12502501]\n",
      "OH [ 562.5         562.12502501  561.75017504 ... 3060.75007503 3061.624975\n",
      " 3062.5       ]\n",
      "partA [-3062.5]\n",
      "partB [-562.12502501]\n",
      "OH [ 562.5         562.12502501  561.75017504 ... 3060.75007503 3061.624975\n",
      " 3062.5       ]\n",
      "partA [-3062.5]\n",
      "partB [-562.12502501]\n",
      "OH [ 562.5         562.12502501  561.75017504 ... 3060.75007503 3061.624975\n",
      " 3062.5       ]\n",
      "partA [-3062.5]\n",
      "partB [-562.12502501]\n",
      "OH [ 562.5         562.12502501  561.75017504 ... 3060.75007503 3061.624975\n",
      " 3062.5       ]\n",
      "partA [-3062.5]\n",
      "partB [-562.12502501]\n",
      "OH [ 562.5         562.12502501  561.75017504 ... 3060.75007503 3061.624975\n",
      " 3062.5       ]\n",
      "partA [-3062.5]\n",
      "partB [-562.12502501]\n",
      "OH [ 562.5         562.12502501  561.75017504 ... 3060.75007503 3061.624975\n",
      " 3062.5       ]\n",
      "partA [-3062.5]\n",
      "partB [-562.12502501]\n",
      "OH [ 562.5         562.12502501  561.75017504 ... 3060.75007503 3061.624975\n",
      " 3062.5       ]\n",
      "partA [-3062.5]\n",
      "partB [-562.12502501]\n",
      "OH [ 562.5         562.12502501  561.75017504 ... 3060.75007503 3061.624975\n",
      " 3062.5       ]\n",
      "partA [-3062.5]\n",
      "partB [-562.12502501]\n",
      "OH [ 562.5         562.12502501  561.75017504 ... 3060.75007503 3061.624975\n",
      " 3062.5       ]\n",
      "partA [-3062.5]\n",
      "partB [-562.12502501]\n",
      "49.8 ms ± 9.1 ms per loop (mean ± std. dev. of 7 runs, 10 loops each)\n"
     ]
    }
   ],
   "source": [
    "%%timeit\n",
    "energies = eds_pot.ene(positions)\n"
   ]
  },
  {
   "cell_type": "code",
   "execution_count": 4,
   "metadata": {},
   "outputs": [],
   "source": [
    "eds_pot._set_no_type_check()"
   ]
  },
  {
   "cell_type": "code",
   "execution_count": 5,
   "metadata": {},
   "outputs": [
    {
     "name": "stdout",
     "output_type": "stream",
     "text": [
      "47.9 µs ± 3.68 µs per loop (mean ± std. dev. of 7 runs, 10000 loops each)\n"
     ]
    }
   ],
   "source": [
    "%%timeit\n",
    "energies = eds_pot.ene(positions)\n"
   ]
  },
  {
   "cell_type": "markdown",
   "metadata": {},
   "source": [
    "# History of Performance\n",
    "## EDS Potential ND Harmonic Osc\n",
    "\n",
    "   * start:\n",
    "     * Steps 100: 877 µs ± 93.7 µs per loop (mean ± std. dev. of 7 runs, 1000 loops each)\n",
    "     * Steps 1000: 8.14 ms ± 714 µs per loop (mean ± std. dev. of 7 runs, 10 loops each)\n",
    "     * Steps 10000: 79.2 ms ± 8.45 ms per loop (mean ± std. dev. of 7 runs, 10 loops each)\n",
    "     * Steps 100000: 736 ms ± 61.1 ms per loop (mean ± std. dev. of 7 runs, 1 loop each)\n",
    "\n",
    "         "
   ]
  },
  {
   "cell_type": "code",
   "execution_count": null,
   "metadata": {},
   "outputs": [],
   "source": [
    "##Construct potential\n",
    "s=1\n",
    "Eoffs=(0, 0)\n",
    "V_is=[pot.ND.harmonicOscND(x_shift=10, fc=5), pot.ND.harmonicOscND(x_shift=-10, fc=5)]\n",
    "eds_pot = pot.ND.envelopedPotential(V_is=V_is, s=s, Eoff_i=Eoffs)\n",
    "\n",
    "##Parameters0\n",
    "positions = np.array(np.linspace(-25,25, 10000))\n"
   ]
  },
  {
   "cell_type": "code",
   "execution_count": null,
   "metadata": {},
   "outputs": [],
   "source": [
    "%%timeit\n",
    "energies = eds_pot.ene(positions)\n"
   ]
  },
  {
   "cell_type": "markdown",
   "metadata": {},
   "source": [
    "# History of Performance\n",
    "## EDS Potential 1D Harmonic Osc - sim\n",
    "\n",
    "   * start:\n",
    "     * Steps 100: 9.09 ms ± 634 µs per loop (mean ± std. dev. of 7 runs, 100 loops each)\n",
    "     * Steps 1000: 85.8 ms ± 23.7 ms per loop (mean ± std. dev. of 7 runs, 10 loops each)\n",
    "     * Steps 10000: 986 ms ± 171 ms per loop (mean ± std. dev. of 7 runs, 1 loop each)\n",
    "     * Steps 100000: \n",
    "         "
   ]
  },
  {
   "cell_type": "code",
   "execution_count": 2,
   "metadata": {},
   "outputs": [
    {
     "name": "stdout",
     "output_type": "stream",
     "text": [
      "Found MultiStates\n",
      "[[-8.20703046 -8.20703046]]\n"
     ]
    }
   ],
   "source": [
    "#prepare:\n",
    "integ = integrator.monteCarloIntegrator()\n",
    "conditions = []\n",
    "temperature = 300\n",
    "position = [[0.1, 0.1]]\n",
    "mass = [1]\n",
    "steps = 10\n",
    "\n",
    "s=1\n",
    "Eoffs=(0, 0)\n",
    "V_is=[potentials.OneD.harmonicOsc(x_shift=10, fc=5), potentials.OneD.harmonicOsc(x_shift=-10, fc=5)]\n",
    "eds_pot = potentials.OneD.envelopedPotential(V_is=V_is, s=s, Eoff_i=Eoffs)\n",
    "\n",
    "sys = system.system(potential=eds_pot, integrator=integ, temperature=temperature)"
   ]
  },
  {
   "cell_type": "code",
   "execution_count": 3,
   "metadata": {},
   "outputs": [
    {
     "name": "stdout",
     "output_type": "stream",
     "text": [
      "833 µs ± 131 µs per loop (mean ± std. dev. of 7 runs, 1000 loops each)\n"
     ]
    }
   ],
   "source": [
    "%%timeit\n",
    "sys.simulate(steps=steps, initSystem=False, withdrawTraj=True)  #withdrawTraj is needed in the context because of the interaction between different Tests"
   ]
  },
  {
   "cell_type": "code",
   "execution_count": 4,
   "metadata": {},
   "outputs": [
    {
     "data": {
      "text/html": [
       "<div>\n",
       "<style scoped>\n",
       "    .dataframe tbody tr th:only-of-type {\n",
       "        vertical-align: middle;\n",
       "    }\n",
       "\n",
       "    .dataframe tbody tr th {\n",
       "        vertical-align: top;\n",
       "    }\n",
       "\n",
       "    .dataframe thead th {\n",
       "        text-align: right;\n",
       "    }\n",
       "</style>\n",
       "<table border=\"1\" class=\"dataframe\">\n",
       "  <thead>\n",
       "    <tr style=\"text-align: right;\">\n",
       "      <th></th>\n",
       "      <th>position</th>\n",
       "      <th>temperature</th>\n",
       "      <th>totEnergy</th>\n",
       "      <th>totPotEnergy</th>\n",
       "      <th>totKinEnergy</th>\n",
       "      <th>dhdpos</th>\n",
       "      <th>velocity</th>\n",
       "    </tr>\n",
       "  </thead>\n",
       "  <tbody>\n",
       "    <tr>\n",
       "      <th>0</th>\n",
       "      <td>[[-89.59919316235602, -89.59919316235602]]</td>\n",
       "      <td>300</td>\n",
       "      <td>15840.078880</td>\n",
       "      <td>15840.078880</td>\n",
       "      <td>0</td>\n",
       "      <td>[0.6999584622273634]</td>\n",
       "      <td>None</td>\n",
       "    </tr>\n",
       "    <tr>\n",
       "      <th>1</th>\n",
       "      <td>[[-88.72197018929835, -88.72197018929835]]</td>\n",
       "      <td>300</td>\n",
       "      <td>15492.871476</td>\n",
       "      <td>15492.871476</td>\n",
       "      <td>0</td>\n",
       "      <td>[0.8772229730576742]</td>\n",
       "      <td>None</td>\n",
       "    </tr>\n",
       "    <tr>\n",
       "      <th>2</th>\n",
       "      <td>[[-88.76962205178253, -88.76962205178253]]</td>\n",
       "      <td>300</td>\n",
       "      <td>15511.633395</td>\n",
       "      <td>15511.633395</td>\n",
       "      <td>0</td>\n",
       "      <td>[-0.04765186248419395]</td>\n",
       "      <td>None</td>\n",
       "    </tr>\n",
       "    <tr>\n",
       "      <th>3</th>\n",
       "      <td>[[-88.97505673899468, -88.97505673899468]]</td>\n",
       "      <td>300</td>\n",
       "      <td>15592.648967</td>\n",
       "      <td>15592.648967</td>\n",
       "      <td>0</td>\n",
       "      <td>[-0.20543468721214964]</td>\n",
       "      <td>None</td>\n",
       "    </tr>\n",
       "    <tr>\n",
       "      <th>4</th>\n",
       "      <td>[[-89.54333846344, -89.54333846344]]</td>\n",
       "      <td>300</td>\n",
       "      <td>15817.856735</td>\n",
       "      <td>15817.856735</td>\n",
       "      <td>0</td>\n",
       "      <td>[-0.5682817244453203]</td>\n",
       "      <td>None</td>\n",
       "    </tr>\n",
       "  </tbody>\n",
       "</table>\n",
       "</div>"
      ],
      "text/plain": [
       "                                     position  temperature     totEnergy  \\\n",
       "0  [[-89.59919316235602, -89.59919316235602]]          300  15840.078880   \n",
       "1  [[-88.72197018929835, -88.72197018929835]]          300  15492.871476   \n",
       "2  [[-88.76962205178253, -88.76962205178253]]          300  15511.633395   \n",
       "3  [[-88.97505673899468, -88.97505673899468]]          300  15592.648967   \n",
       "4        [[-89.54333846344, -89.54333846344]]          300  15817.856735   \n",
       "\n",
       "   totPotEnergy  totKinEnergy                  dhdpos velocity  \n",
       "0  15840.078880             0    [0.6999584622273634]     None  \n",
       "1  15492.871476             0    [0.8772229730576742]     None  \n",
       "2  15511.633395             0  [-0.04765186248419395]     None  \n",
       "3  15592.648967             0  [-0.20543468721214964]     None  \n",
       "4  15817.856735             0   [-0.5682817244453203]     None  "
      ]
     },
     "execution_count": 4,
     "metadata": {},
     "output_type": "execute_result"
    }
   ],
   "source": [
    "traj = sys.getTrajectory()\n",
    "traj.head()"
   ]
  },
  {
   "cell_type": "code",
   "execution_count": null,
   "metadata": {},
   "outputs": [],
   "source": []
  }
 ],
 "metadata": {
  "kernelspec": {
   "display_name": "Python 3",
   "language": "python",
   "name": "python3"
  },
  "language_info": {
   "codemirror_mode": {
    "name": "ipython",
    "version": 3
   },
   "file_extension": ".py",
   "mimetype": "text/x-python",
   "name": "python",
   "nbconvert_exporter": "python",
   "pygments_lexer": "ipython3",
   "version": "3.7.3"
  }
 },
 "nbformat": 4,
 "nbformat_minor": 4
}
